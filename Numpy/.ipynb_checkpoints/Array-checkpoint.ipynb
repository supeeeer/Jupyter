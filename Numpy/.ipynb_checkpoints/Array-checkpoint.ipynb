{
 "cells": [
  {
   "cell_type": "markdown",
   "metadata": {
    "toc": true
   },
   "source": [
    "<h1>Table of Contents<span class=\"tocSkip\"></span></h1>\n",
    "<div class=\"toc\"><ul class=\"toc-item\"><li><span><a href=\"#创建\" data-toc-modified-id=\"创建-1\"><span class=\"toc-item-num\">1&nbsp;&nbsp;</span>创建</a></span><ul class=\"toc-item\"><li><span><a href=\"#range\" data-toc-modified-id=\"range-1.1\"><span class=\"toc-item-num\">1.1&nbsp;&nbsp;</span>range</a></span><ul class=\"toc-item\"><li><span><a href=\"#arange()\" data-toc-modified-id=\"arange()-1.1.1\"><span class=\"toc-item-num\">1.1.1&nbsp;&nbsp;</span>arange()</a></span></li><li><span><a href=\"#linspace()\" data-toc-modified-id=\"linspace()-1.1.2\"><span class=\"toc-item-num\">1.1.2&nbsp;&nbsp;</span>linspace()</a></span></li></ul></li><li><span><a href=\"#0、1、full、empty\" data-toc-modified-id=\"0、1、full、empty-1.2\"><span class=\"toc-item-num\">1.2&nbsp;&nbsp;</span>0、1、full、empty</a></span><ul class=\"toc-item\"><li><span><a href=\"#ones()、zeros()\" data-toc-modified-id=\"ones()、zeros()-1.2.1\"><span class=\"toc-item-num\">1.2.1&nbsp;&nbsp;</span>ones()、zeros()</a></span></li><li><span><a href=\"#ones_like()\" data-toc-modified-id=\"ones_like()-1.2.2\"><span class=\"toc-item-num\">1.2.2&nbsp;&nbsp;</span>ones_like()</a></span></li></ul></li></ul></li><li><span><a href=\"#属性\" data-toc-modified-id=\"属性-2\"><span class=\"toc-item-num\">2&nbsp;&nbsp;</span>属性</a></span><ul class=\"toc-item\"><li><span><a href=\"#shape\" data-toc-modified-id=\"shape-2.1\"><span class=\"toc-item-num\">2.1&nbsp;&nbsp;</span>shape</a></span></li></ul></li><li><span><a href=\"#维度改变\" data-toc-modified-id=\"维度改变-3\"><span class=\"toc-item-num\">3&nbsp;&nbsp;</span>维度改变</a></span><ul class=\"toc-item\"><li><span><a href=\"#meshgrid(-)\" data-toc-modified-id=\"meshgrid(-)-3.1\"><span class=\"toc-item-num\">3.1&nbsp;&nbsp;</span>meshgrid( )</a></span></li></ul></li><li><span><a href=\"#运算\" data-toc-modified-id=\"运算-4\"><span class=\"toc-item-num\">4&nbsp;&nbsp;</span>运算</a></span><ul class=\"toc-item\"><li><span><a href=\"#np.sum()\" data-toc-modified-id=\"np.sum()-4.1\"><span class=\"toc-item-num\">4.1&nbsp;&nbsp;</span>np.sum()</a></span></li><li><span><a href=\"#multiply()、dot()、-matmul()、'-*-'、'@'\" data-toc-modified-id=\"multiply()、dot()、-matmul()、'-*-'、'@'-4.2\"><span class=\"toc-item-num\">4.2&nbsp;&nbsp;</span>multiply()、dot()、 matmul()、' * '、'@'</a></span></li><li><span><a href=\"#np.unique()去重\" data-toc-modified-id=\"np.unique()去重-4.3\"><span class=\"toc-item-num\">4.3&nbsp;&nbsp;</span>np.unique()去重</a></span></li></ul></li><li><span><a href=\"#matrix\" data-toc-modified-id=\"matrix-5\"><span class=\"toc-item-num\">5&nbsp;&nbsp;</span>matrix</a></span><ul class=\"toc-item\"><li><span><a href=\"#创建\" data-toc-modified-id=\"创建-5.1\"><span class=\"toc-item-num\">5.1&nbsp;&nbsp;</span>创建</a></span><ul class=\"toc-item\"><li><span><a href=\"#np.eye()\" data-toc-modified-id=\"np.eye()-5.1.1\"><span class=\"toc-item-num\">5.1.1&nbsp;&nbsp;</span>np.eye()</a></span></li><li><span><a href=\"#ravel()、flatten()\" data-toc-modified-id=\"ravel()、flatten()-5.1.2\"><span class=\"toc-item-num\">5.1.2&nbsp;&nbsp;</span>ravel()、flatten()</a></span></li></ul></li></ul></li></ul></div>"
   ]
  },
  {
   "cell_type": "code",
   "execution_count": 1,
   "metadata": {},
   "outputs": [],
   "source": [
    "import numpy as np\n",
    "from matplotlib import pyplot as plt"
   ]
  },
  {
   "cell_type": "markdown",
   "metadata": {},
   "source": [
    "# 创建"
   ]
  },
  {
   "cell_type": "markdown",
   "metadata": {},
   "source": [
    "## range"
   ]
  },
  {
   "cell_type": "markdown",
   "metadata": {},
   "source": [
    "### arange()\n",
    "根据设置的step, 返回 [ start, stop )\n",
    "\n",
    "- numpy.arange ( [ start, ] stop, [step, ] dtype=None )"
   ]
  },
  {
   "cell_type": "code",
   "execution_count": 1,
   "metadata": {},
   "outputs": [
    {
     "name": "stdout",
     "output_type": "stream",
     "text": [
      "[0 1 2] [0. 1. 2.] [3 4 5 6] [3 5]\n"
     ]
    }
   ],
   "source": [
    "print(np.arange(3), np.arange(3.0), np.arange(3,7), np.arange(3,7,2))"
   ]
  },
  {
   "cell_type": "markdown",
   "metadata": {},
   "source": [
    "### linspace()\n",
    "\n",
    "自动计算step, 返回平均分配的点，[ start, stop ]\n",
    "- numpy.linspace(start, stop, num=50, endpoint=True, retstep=False, dtype=None, axis=0)"
   ]
  },
  {
   "cell_type": "code",
   "execution_count": 6,
   "metadata": {},
   "outputs": [
    {
     "name": "stdout",
     "output_type": "stream",
     "text": [
      "[2.   2.25 2.5  2.75 3.  ]\n",
      "[2.  2.2 2.4 2.6 2.8]\n"
     ]
    }
   ],
   "source": [
    "print(np.linspace(2.0, 3.0, num=5))\n",
    "print(np.linspace(2.0, 3.0, num=5, endpoint=False))"
   ]
  },
  {
   "cell_type": "markdown",
   "metadata": {},
   "source": [
    "## 0、1、full、empty"
   ]
  },
  {
   "cell_type": "markdown",
   "metadata": {},
   "source": [
    "### ones()、zeros()\n",
    "返回指定形状的0、1序列\n",
    "\n",
    "`ndarray = numpy.ones(shape, dtype=None, order='C')`\n",
    "\n",
    "`ndarray = numpy.full(shape, fill_value, dtype=None, order='C')`\n",
    "\n",
    "`ndarray = numpy.empty(shape, dtype=float, order='C')`：随机值，速度更快\n",
    "- shape : int or sequence of ints。可以是()、[]"
   ]
  },
  {
   "cell_type": "code",
   "execution_count": 36,
   "metadata": {
    "cell_style": "split"
   },
   "outputs": [
    {
     "name": "stdout",
     "output_type": "stream",
     "text": [
      "[1. 1. 1.] \n",
      "\n",
      "[[1.]\n",
      " [1.]] \n",
      "\n",
      "[[1 1 1]\n",
      " [1 1 1]\n",
      " [1 1 1]\n",
      " [1 1 1]\n",
      " [1 1 1]]\n"
     ]
    }
   ],
   "source": [
    "print(np.ones(3),'\\n')\n",
    "print(np.ones((2, 1)),'\\n')\n",
    "print(np.ones([5,3], dtype=int))"
   ]
  },
  {
   "cell_type": "code",
   "execution_count": 35,
   "metadata": {
    "cell_style": "split"
   },
   "outputs": [
    {
     "name": "stdout",
     "output_type": "stream",
     "text": [
      "[[10 10]\n",
      " [10 10]] \n",
      "\n",
      "[[5.e-323 5.e-323]\n",
      " [5.e-323 5.e-323]]\n"
     ]
    }
   ],
   "source": [
    "print(np.full([2, 2], 10),'\\n')\n",
    "\n",
    "print(np.empty([2, 2]))"
   ]
  },
  {
   "cell_type": "markdown",
   "metadata": {},
   "source": [
    "### ones_like()\n",
    "返回与传输列表相同，值都是1的列表\n",
    "\n",
    "`ndarray = numpy.ones_like(array, dtype=None, order='K', subok=True)`\n",
    "\n",
    "- array : array_like\n"
   ]
  },
  {
   "cell_type": "code",
   "execution_count": 4,
   "metadata": {},
   "outputs": [
    {
     "name": "stdout",
     "output_type": "stream",
     "text": [
      "[1 1 1 1 1]\n",
      "[1. 1. 1.]\n"
     ]
    }
   ],
   "source": [
    "x = np.arange(5)\n",
    "y = np.arange(3, dtype=float)\n",
    "\n",
    "print(np.ones_like(x))\n",
    "print(np.ones_like(y))"
   ]
  },
  {
   "cell_type": "markdown",
   "metadata": {},
   "source": [
    "# 属性"
   ]
  },
  {
   "cell_type": "markdown",
   "metadata": {},
   "source": [
    "## shape\n",
    "`Tuple = np.shape(list)`\n",
    "\n",
    "`Tuple = numpy.ndarray.shape`\n",
    "\n",
    "三维数组返回 = [二维个数，二维行，二维列]\n",
    "\n",
    "对于二维数组：`shape[0]` = 行数，`shape[1]` = 列数"
   ]
  },
  {
   "cell_type": "code",
   "execution_count": 6,
   "metadata": {
    "cell_style": "split"
   },
   "outputs": [
    {
     "name": "stdout",
     "output_type": "stream",
     "text": [
      "(5,)\n",
      "(3, 3)\n"
     ]
    }
   ],
   "source": [
    "arr = [1, 2, 3, 4, 5]\n",
    "matrix = [[1, 1, 1],\n",
    "          [2, 2, 2],\n",
    "          [3, 3, 3]]\n",
    "\n",
    "print(np.shape(arr))\n",
    "print(np.shape(matrix))"
   ]
  },
  {
   "cell_type": "code",
   "execution_count": 10,
   "metadata": {
    "cell_style": "split"
   },
   "outputs": [
    {
     "name": "stdout",
     "output_type": "stream",
     "text": [
      "(5,)\n",
      "(3, 3)\n"
     ]
    }
   ],
   "source": [
    "arr = [1, 2, 3, 4, 5]\n",
    "matrix = [[1, 1, 1],\n",
    "          [2, 2, 2],\n",
    "          [3, 3, 3]]\n",
    "\n",
    "# 转化成np数据后\n",
    "arr = np.array(arr)\n",
    "matrix = np.array(matrix)\n",
    "\n",
    "print(arr.shape)\n",
    "print(matrix.shape)"
   ]
  },
  {
   "cell_type": "code",
   "execution_count": 41,
   "metadata": {},
   "outputs": [
    {
     "name": "stdout",
     "output_type": "stream",
     "text": [
      "[[[0. 0. 0. 0.]\n",
      "  [0. 0. 0. 0.]\n",
      "  [0. 0. 0. 0.]]\n",
      "\n",
      " [[0. 0. 0. 0.]\n",
      "  [0. 0. 0. 0.]\n",
      "  [0. 0. 0. 0.]]] \n",
      "\n",
      "[[0. 0. 0. 0. 0. 0. 0. 0.]\n",
      " [0. 0. 0. 0. 0. 0. 0. 0.]\n",
      " [0. 0. 0. 0. 0. 0. 0. 0.]]\n"
     ]
    }
   ],
   "source": [
    "y = np.zeros((2, 3, 4))\n",
    "print(y,'\\n')\n",
    "\n",
    "y = y.reshape((3, 8))\n",
    "print(y)"
   ]
  },
  {
   "cell_type": "markdown",
   "metadata": {},
   "source": [
    "# 维度改变"
   ]
  },
  {
   "cell_type": "markdown",
   "metadata": {},
   "source": [
    "## meshgrid( )\n",
    "\n",
    "将多个向量转换成多维数组，组成坐标系网格\n",
    "\n",
    "返回每个方向的网格数组，传入3\\*2，输出2\\*3的数组\n",
    "\n",
    "`ndarray = numpy.meshgrid(*xi, **kwargs)`\n"
   ]
  },
  {
   "cell_type": "code",
   "execution_count": 3,
   "metadata": {},
   "outputs": [
    {
     "name": "stdout",
     "output_type": "stream",
     "text": [
      "[-4 -3 -2 -1  0  1  2  3] \n",
      " [-2 -1  0  1] \n",
      "\n",
      "\n",
      "[[-4 -3 -2 -1  0  1  2  3]\n",
      " [-4 -3 -2 -1  0  1  2  3]\n",
      " [-4 -3 -2 -1  0  1  2  3]\n",
      " [-4 -3 -2 -1  0  1  2  3]] \n",
      "\n",
      " [[-2 -2 -2 -2 -2 -2 -2 -2]\n",
      " [-1 -1 -1 -1 -1 -1 -1 -1]\n",
      " [ 0  0  0  0  0  0  0  0]\n",
      " [ 1  1  1  1  1  1  1  1]]\n"
     ]
    }
   ],
   "source": [
    "X = np.arange(-4, 4, 1)\n",
    "Y = np.arange(-2, 2, 1)\n",
    "print(X, '\\n', Y, '\\n\\n')\n",
    "\n",
    "X, Y = np.meshgrid(X, Y)    # 将两个一维向量转变成二维坐标轴，形成网格\n",
    "print(X, '\\n\\n', Y)"
   ]
  },
  {
   "cell_type": "markdown",
   "metadata": {},
   "source": [
    "# 运算"
   ]
  },
  {
   "cell_type": "markdown",
   "metadata": {
    "cell_style": "center"
   },
   "source": [
    "## np.sum()\n",
    "`numpy.sum(a, axis=None,dtype=None,initial=0)`\n",
    "- axis：此维消失，其他维不变，对消失的维求和(固定)\n",
    "- initial：加一个初始值\n",
    "\n",
    "`python.sum(iterable, start=0)`：只对单层列表\n",
    "- start：初始值"
   ]
  },
  {
   "cell_type": "code",
   "execution_count": 53,
   "metadata": {
    "cell_style": "center"
   },
   "outputs": [
    {
     "name": "stdout",
     "output_type": "stream",
     "text": [
      "python.sum(start):  16\n",
      "unsupported operand type(s) for +: int and list\n",
      "np.sum(initial):  15.0\n"
     ]
    }
   ],
   "source": [
    "print('python.sum(start): ',sum([0, 1, 0, 5], 10))\n",
    "\n",
    "try:\n",
    "    print(sum([[0, 1], [0, 5]]))\n",
    "except:\n",
    "    print('unsupported operand type(s) for +: int and list')\n",
    "    \n",
    "print('np.sum(initial): ',np.sum([10], initial=5,dtype=float))"
   ]
  },
  {
   "cell_type": "code",
   "execution_count": 50,
   "metadata": {
    "cell_style": "split"
   },
   "outputs": [
    {
     "name": "stdout",
     "output_type": "stream",
     "text": [
      "14\n",
      "[0 6 8]\n",
      "[ 3 11]\n"
     ]
    }
   ],
   "source": [
    "print(np.sum([[0, 1, 2],\n",
    "              [0, 5, 6]])) \n",
    "\n",
    "print(np.sum([[0, 1, 2],\n",
    "              [0, 5, 6]], axis=0))        # 对列求和\n",
    "\n",
    "print(np.sum([[0, 1, 2], \n",
    "              [0, 5, 6]], axis=1))        # 对行求和\n"
   ]
  },
  {
   "cell_type": "code",
   "execution_count": 71,
   "metadata": {
    "cell_style": "split"
   },
   "outputs": [
    {
     "name": "stdout",
     "output_type": "stream",
     "text": [
      "data\n",
      " [[[ 0  1  2  3]\n",
      "  [ 4  5  6  7]\n",
      "  [ 8  9 10 11]]\n",
      "\n",
      " [[12 13 14 15]\n",
      "  [16 17 18 19]\n",
      "  [20 21 22 23]]] \n",
      " shape= (2, 3, 4) \n",
      "\n",
      "axis=0\n",
      " [[12 14 16 18]\n",
      " [20 22 24 26]\n",
      " [28 30 32 34]] \n",
      " shape= (3, 4) \n",
      "\n",
      "axis=1\n",
      " [[12 15 18 21]\n",
      " [48 51 54 57]] \n",
      " shape= (2, 4) \n",
      "\n",
      "axis=2\n",
      " [[ 6 22 38]\n",
      " [54 70 86]] \n",
      " shape= (2, 3) \n",
      "\n"
     ]
    }
   ],
   "source": [
    "a=np.arange(24).reshape(2,3,4)\n",
    "print('data\\n', a, '\\n shape=',a.shape,'\\n')\n",
    "print('axis=0\\n',a.sum(0),'\\n shape=',a.sum(0).shape,'\\n')\n",
    "print('axis=1\\n',a.sum(1),'\\n shape=',a.sum(1).shape,'\\n')\n",
    "print('axis=2\\n',a.sum(2),'\\n shape=',a.sum(2).shape,'\\n')\n"
   ]
  },
  {
   "cell_type": "markdown",
   "metadata": {},
   "source": [
    "## multiply()、dot()、 matmul()、' * '、'@'\n",
    "\n",
    "- 对应位置相乘：\n",
    "    - multiply()\n",
    "- 矩阵相乘：\n",
    "    - '@'：\n",
    "    - dot()：\n",
    "    - matmul()：\n",
    "- ' * '： 位置相乘(array)、矩阵相乘(matrix)"
   ]
  },
  {
   "cell_type": "code",
   "execution_count": 11,
   "metadata": {
    "cell_style": "center"
   },
   "outputs": [
    {
     "name": "stdout",
     "output_type": "stream",
     "text": [
      "*： [ 4 10 18]\n",
      "@： 32\n",
      "multiply： [ 4 10 18]\n",
      "dot： 32\n",
      "matmul： 32\n"
     ]
    }
   ],
   "source": [
    "a = np.array([1, 2, 3])\n",
    "b = np.array([4, 5, 6])\n",
    "\n",
    "print('*：',a*b)\n",
    "print('@：', a@b)\n",
    "print('multiply：', np.multiply(a,b))\n",
    "print('dot：', np.dot(a,b))\n",
    "print('matmul：', np.matmul(a,b))"
   ]
  },
  {
   "cell_type": "code",
   "execution_count": 18,
   "metadata": {
    "cell_style": "split"
   },
   "outputs": [
    {
     "name": "stdout",
     "output_type": "stream",
     "text": [
      "*： [[32]\n",
      " [32]] \n",
      "\n",
      "@： [[32]\n",
      " [32]] \n",
      "\n",
      "multiply： [[ 4 10 18]\n",
      " [ 4 10 18]] \n",
      "\n",
      "dot： [[32]\n",
      " [32]] \n",
      "\n",
      "matmul： [[32]\n",
      " [32]] \n",
      "\n"
     ]
    }
   ],
   "source": [
    "a = np.mat([[1, 2, 3],\n",
    "            [1, 2, 3]])\n",
    "b = np.mat([[4], \n",
    "            [5], \n",
    "            [6]])\n",
    "\n",
    "print('*：',a*b,'\\n')\n",
    "print('@：', a@b,'\\n')\n",
    "# 需要符合形状\n",
    "print('multiply：', np.multiply(a,b.T),'\\n')\n",
    "print('dot：', np.dot(a,b),'\\n')\n",
    "print('matmul：', np.matmul(a,b),'\\n')"
   ]
  },
  {
   "cell_type": "code",
   "execution_count": 27,
   "metadata": {
    "cell_style": "split"
   },
   "outputs": [
    {
     "name": "stdout",
     "output_type": "stream",
     "text": [
      "*： [[15]\n",
      " [30]\n",
      " [45]] \n",
      "\n",
      "@： [[15]\n",
      " [30]\n",
      " [45]] \n",
      "\n",
      "multiply： [[ 7 14 21]\n",
      " [ 8 16 24]] \n",
      "\n",
      "dot： [[15]\n",
      " [30]\n",
      " [45]] \n",
      "\n",
      "matmul： [[15]\n",
      " [30]\n",
      " [45]] \n",
      "\n"
     ]
    }
   ],
   "source": [
    "a = np.mat([[1, 2, 3],\n",
    "            [1, 2, 3]])\n",
    "b = np.mat([[7],[8]])\n",
    "\n",
    "print('*：',a.T * b,'\\n')\n",
    "print('@：', a.T @ b,'\\n')\n",
    "# broadcasting\n",
    "print('multiply：', np.multiply(a,b),'\\n')\n",
    "print('dot：', np.dot(a.T,b),'\\n')\n",
    "print('matmul：', np.matmul(a.T,b),'\\n')"
   ]
  },
  {
   "cell_type": "markdown",
   "metadata": {},
   "source": [
    "## np.unique()去重\n",
    "`ndarray = np.unique(array, \n",
    "    return_index=False, \n",
    "    return_inverse=False, \n",
    "    return_counts=False, \n",
    "    axis=None)`\n",
    "\n",
    "- return_index：返回新列表元素在旧列表中的位置\n",
    "\n",
    "- return_inverse：返回旧列表元素在新列表中的位置"
   ]
  },
  {
   "cell_type": "code",
   "execution_count": 7,
   "metadata": {},
   "outputs": [
    {
     "name": "stdout",
     "output_type": "stream",
     "text": [
      "[1 2 3 4 5] \n",
      " [0 1 5 2 4] \n",
      " [0 1 3 1 4 2 3 2] \n",
      " [1 2 2 2 1]\n"
     ]
    }
   ],
   "source": [
    "a = [1, 2, 4, 2, 5, 3, 4, 3]\n",
    "num, index, inverse, count = np.unique(a, return_index=True, return_inverse=True, return_counts=True)\n",
    "print(num, '\\n', index, '\\n', inverse, '\\n', count)\n"
   ]
  },
  {
   "cell_type": "markdown",
   "metadata": {},
   "source": [
    "# matrix\n",
    "matrix必须是2维的, ndarrays可以是多维的。ndarray包含matrix"
   ]
  },
  {
   "cell_type": "markdown",
   "metadata": {},
   "source": [
    "## 创建"
   ]
  },
  {
   "cell_type": "markdown",
   "metadata": {},
   "source": [
    "### np.eye()\n",
    "生成指定行数的单位矩阵"
   ]
  },
  {
   "cell_type": "code",
   "execution_count": 42,
   "metadata": {},
   "outputs": [
    {
     "name": "stdout",
     "output_type": "stream",
     "text": [
      "[[1. 0. 0. 0.]\n",
      " [0. 1. 0. 0.]\n",
      " [0. 0. 1. 0.]\n",
      " [0. 0. 0. 1.]]\n"
     ]
    }
   ],
   "source": [
    "print(np.eye(4))"
   ]
  },
  {
   "cell_type": "markdown",
   "metadata": {},
   "source": [
    "### ravel()、flatten()\n",
    "将多维数组转换为一维数组\n",
    "\n",
    "ravel()：相当于引用\n",
    "\n",
    "flatten()：返回源数据的拷贝\n",
    "\n",
    "reshape(-1)"
   ]
  },
  {
   "cell_type": "code",
   "execution_count": 18,
   "metadata": {},
   "outputs": [
    {
     "data": {
      "image/png": "[encoded data removed]",
      "text/plain": [
       "<Figure size 432x288 with 3 Axes>"
      ]
     },
     "metadata": {
      "needs_background": "light"
     },
     "output_type": "display_data"
    }
   ],
   "source": [
    "X = np.arange(-4, 4, 1)\n",
    "Y = np.arange(-2, 2, 1)\n",
    "X, Y = np.meshgrid(X, Y)\n",
    "\n",
    "fig, ax = plt.subplots(1, 3)\n",
    "ax[0].plot(X, Y)\n",
    "ax[1].plot(Y, X)\n",
    "ax[2].plot(X, Y)\n",
    "ax[2].plot(Y, X)\n",
    "plt.show()"
   ]
  },
  {
   "cell_type": "code",
   "execution_count": 49,
   "metadata": {},
   "outputs": [
    {
     "name": "stdout",
     "output_type": "stream",
     "text": [
      "[[1 2 3]\n",
      " [4 5 6]] \n",
      "\n",
      "[1 2 3 4 5 6]\n",
      "[1 4 2 5 3 6]\n"
     ]
    }
   ],
   "source": [
    "x = np.array([[1, 2, 3], [4, 5, 6]])\n",
    "\n",
    "print(x,'\\n')\n",
    "print(np.ravel(x))\n",
    "print(np.ravel(x, order='F'))"
   ]
  },
  {
   "cell_type": "code",
   "execution_count": null,
   "metadata": {},
   "outputs": [],
   "source": []
  }
 ],
 "metadata": {
  "hide_input": false,
  "kernelspec": {
   "display_name": "Python 3",
   "language": "python",
   "name": "python3"
  },
  "language_info": {
   "codemirror_mode": {
    "name": "ipython",
    "version": 3
   },
   "file_extension": ".py",
   "mimetype": "text/x-python",
   "name": "python",
   "nbconvert_exporter": "python",
   "pygments_lexer": "ipython3",
   "version": "3.7.3"
  },
  "latex_envs": {
   "LaTeX_envs_menu_present": true,
   "autoclose": true,
   "autocomplete": true,
   "bibliofile": "biblio.bib",
   "cite_by": "apalike",
   "current_citInitial": 1,
   "eqLabelWithNumbers": true,
   "eqNumInitial": 1,
   "hotkeys": {
    "equation": "Ctrl-E",
    "itemize": "Ctrl-I"
   },
   "labels_anchors": false,
   "latex_user_defs": false,
   "report_style_numbering": false,
   "user_envs_cfg": false
  },
  "nbTranslate": {
   "displayLangs": [
    "*"
   ],
   "hotkey": "alt-t",
   "langInMainMenu": true,
   "sourceLang": "en",
   "targetLang": "fr",
   "useGoogleTranslate": true
  },
  "toc": {
   "base_numbering": 1,
   "nav_menu": {},
   "number_sections": true,
   "sideBar": true,
   "skip_h1_title": false,
   "title_cell": "Table of Contents",
   "title_sidebar": "Contents",
   "toc_cell": true,
   "toc_position": {},
   "toc_section_display": true,
   "toc_window_display": false
  },
  "varInspector": {
   "cols": {
    "lenName": 16,
    "lenType": 16,
    "lenVar": 40
   },
   "kernels_config": {
    "python": {
     "delete_cmd_postfix": "",
     "delete_cmd_prefix": "del ",
     "library": "var_list.py",
     "varRefreshCmd": "print(var_dic_list())"
    },
    "r": {
     "delete_cmd_postfix": ") ",
     "delete_cmd_prefix": "rm(",
     "library": "var_list.r",
     "varRefreshCmd": "cat(var_dic_list()) "
    }
   },
   "types_to_exclude": [
    "module",
    "function",
    "builtin_function_or_method",
    "instance",
    "_Feature"
   ],
   "window_display": false
  }
 },
 "nbformat": 4,
 "nbformat_minor": 2
}
