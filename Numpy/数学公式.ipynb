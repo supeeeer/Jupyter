{
 "cells": [
  {
   "cell_type": "markdown",
   "metadata": {
    "toc": true
   },
   "source": [
    "<h1>Table of Contents<span class=\"tocSkip\"></span></h1>\n",
    "<div class=\"toc\"><ul class=\"toc-item\"><li><span><a href=\"#三角\" data-toc-modified-id=\"三角-1\"><span class=\"toc-item-num\">1&nbsp;&nbsp;</span>三角</a></span><ul class=\"toc-item\"><li><span><a href=\"#常量\" data-toc-modified-id=\"常量-1.1\"><span class=\"toc-item-num\">1.1&nbsp;&nbsp;</span>常量</a></span></li><li><span><a href=\"#numpy.arctan2(-)\" data-toc-modified-id=\"numpy.arctan2(-)-1.2\"><span class=\"toc-item-num\">1.2&nbsp;&nbsp;</span>numpy.arctan2( )</a></span></li></ul></li><li><span><a href=\"#指数\" data-toc-modified-id=\"指数-2\"><span class=\"toc-item-num\">2&nbsp;&nbsp;</span>指数</a></span><ul class=\"toc-item\"><li><span><a href=\"#np.power()\" data-toc-modified-id=\"np.power()-2.1\"><span class=\"toc-item-num\">2.1&nbsp;&nbsp;</span>np.power()</a></span></li></ul></li></ul></div>"
   ]
  },
  {
   "cell_type": "code",
   "execution_count": 1,
   "metadata": {},
   "outputs": [],
   "source": [
    "import numpy as np"
   ]
  },
  {
   "cell_type": "markdown",
   "metadata": {},
   "source": [
    "# 三角"
   ]
  },
  {
   "cell_type": "markdown",
   "metadata": {},
   "source": [
    "## 常量\n",
    "- np.pi = 3.1412..."
   ]
  },
  {
   "cell_type": "markdown",
   "metadata": {},
   "source": [
    "## numpy.arctan2( )\n",
    "\n",
    "函数返回y/x的反正切角度 ( 反正切 = X轴与通过原点和给定坐标点的直线之间的夹角 ) ，在区间 [ -pi, +pi ]\n",
    "\n",
    "\n",
    "ndarray = numpy.arctan2( y, x, /, out=None, where=True,  order='K', dtype=None>"
   ]
  },
  {
   "cell_type": "code",
   "execution_count": 5,
   "metadata": {},
   "outputs": [
    {
     "name": "stdout",
     "output_type": "stream",
     "text": [
      "0.25\n"
     ]
    }
   ],
   "source": [
    "x ,y = 1, 1\n",
    "print(np.arctan2(y, x) / np.pi)"
   ]
  },
  {
   "cell_type": "markdown",
   "metadata": {},
   "source": [
    "# 指数"
   ]
  },
  {
   "cell_type": "markdown",
   "metadata": {},
   "source": [
    "## np.power()\n",
    "`ndarray = numpy.power(x, exponents)`\n",
    "\n",
    "对列表中的每一个做指数运算\n",
    "\n",
    "- x：(array_like)输入值\n",
    "- exponents：(array_like)指数"
   ]
  },
  {
   "cell_type": "code",
   "execution_count": 7,
   "metadata": {},
   "outputs": [
    {
     "name": "stdout",
     "output_type": "stream",
     "text": [
      "[  0   1   8  27  64 125] \n",
      "\n",
      "[ 0  1  8 27 16  5] \n",
      "\n",
      "[[ 0  1  8 27 16  5]\n",
      " [ 0  1  8 27 16  5]]\n"
     ]
    }
   ],
   "source": [
    "x = range(6)\n",
    "ex = np.array([1, 2, 3, 3, 2, 1])\n",
    "exs = np.array([[1, 2, 3, 3, 2, 1], [1, 2, 3, 3, 2, 1]])\n",
    "\n",
    "print(np.power(x, 3),'\\n')                  # 统一指数\n",
    "print(np.power(x,ex),'\\n')                  # 指数列表\n",
    "print(np.power(x,exs))                      # 广播"
   ]
  },
  {
   "cell_type": "code",
   "execution_count": null,
   "metadata": {},
   "outputs": [],
   "source": []
  }
 ],
 "metadata": {
  "hide_input": false,
  "kernelspec": {
   "display_name": "Python 3",
   "language": "python",
   "name": "python3"
  },
  "language_info": {
   "codemirror_mode": {
    "name": "ipython",
    "version": 3
   },
   "file_extension": ".py",
   "mimetype": "text/x-python",
   "name": "python",
   "nbconvert_exporter": "python",
   "pygments_lexer": "ipython3",
   "version": "3.7.3"
  },
  "latex_envs": {
   "LaTeX_envs_menu_present": true,
   "autoclose": true,
   "autocomplete": true,
   "bibliofile": "biblio.bib",
   "cite_by": "apalike",
   "current_citInitial": 1,
   "eqLabelWithNumbers": true,
   "eqNumInitial": 1,
   "hotkeys": {
    "equation": "Ctrl-E",
    "itemize": "Ctrl-I"
   },
   "labels_anchors": false,
   "latex_user_defs": false,
   "report_style_numbering": false,
   "user_envs_cfg": false
  },
  "nbTranslate": {
   "displayLangs": [
    "*"
   ],
   "hotkey": "alt-t",
   "langInMainMenu": true,
   "sourceLang": "en",
   "targetLang": "fr",
   "useGoogleTranslate": true
  },
  "toc": {
   "base_numbering": 1,
   "nav_menu": {},
   "number_sections": true,
   "sideBar": true,
   "skip_h1_title": false,
   "title_cell": "Table of Contents",
   "title_sidebar": "Contents",
   "toc_cell": true,
   "toc_position": {},
   "toc_section_display": true,
   "toc_window_display": false
  },
  "varInspector": {
   "cols": {
    "lenName": 16,
    "lenType": 16,
    "lenVar": 40
   },
   "kernels_config": {
    "python": {
     "delete_cmd_postfix": "",
     "delete_cmd_prefix": "del ",
     "library": "var_list.py",
     "varRefreshCmd": "print(var_dic_list())"
    },
    "r": {
     "delete_cmd_postfix": ") ",
     "delete_cmd_prefix": "rm(",
     "library": "var_list.r",
     "varRefreshCmd": "cat(var_dic_list()) "
    }
   },
   "types_to_exclude": [
    "module",
    "function",
    "builtin_function_or_method",
    "instance",
    "_Feature"
   ],
   "window_display": false
  }
 },
 "nbformat": 4,
 "nbformat_minor": 2
}
