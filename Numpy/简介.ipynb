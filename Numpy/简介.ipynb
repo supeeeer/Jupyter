{
 "cells": [
  {
   "cell_type": "markdown",
   "metadata": {
    "toc": true
   },
   "source": [
    "<h1>Table of Contents<span class=\"tocSkip\"></span></h1>\n",
    "<div class=\"toc\"><ul class=\"toc-item\"><li><span><a href=\"#numpy\" data-toc-modified-id=\"numpy-1\"><span class=\"toc-item-num\">1&nbsp;&nbsp;</span>numpy</a></span><ul class=\"toc-item\"><li><span><a href=\"#代替列表\" data-toc-modified-id=\"代替列表-1.1\"><span class=\"toc-item-num\">1.1&nbsp;&nbsp;</span>代替列表</a></span></li></ul></li><li><span><a href=\"#ndarray\" data-toc-modified-id=\"ndarray-2\"><span class=\"toc-item-num\">2&nbsp;&nbsp;</span>ndarray</a></span><ul class=\"toc-item\"><li><span><a href=\"#创建数组\" data-toc-modified-id=\"创建数组-2.1\"><span class=\"toc-item-num\">2.1&nbsp;&nbsp;</span>创建数组</a></span></li><li><span><a href=\"#数据类型\" data-toc-modified-id=\"数据类型-2.2\"><span class=\"toc-item-num\">2.2&nbsp;&nbsp;</span>数据类型</a></span></li></ul></li><li><span><a href=\"#ufunc\" data-toc-modified-id=\"ufunc-3\"><span class=\"toc-item-num\">3&nbsp;&nbsp;</span>ufunc</a></span><ul class=\"toc-item\"><li><span><a href=\"#运算函数\" data-toc-modified-id=\"运算函数-3.1\"><span class=\"toc-item-num\">3.1&nbsp;&nbsp;</span>运算函数</a></span></li><li><span><a href=\"#统计函数\" data-toc-modified-id=\"统计函数-3.2\"><span class=\"toc-item-num\">3.2&nbsp;&nbsp;</span>统计函数</a></span></li><li><span><a href=\"#排序函数\" data-toc-modified-id=\"排序函数-3.3\"><span class=\"toc-item-num\">3.3&nbsp;&nbsp;</span>排序函数</a></span></li></ul></li></ul></div>"
   ]
  },
  {
   "cell_type": "markdown",
   "metadata": {},
   "source": [
    "# numpy\n",
    "[用NumPy快速处理数据](https://time.geekbang.org/column/article/73756)"
   ]
  },
  {
   "cell_type": "markdown",
   "metadata": {},
   "source": [
    "## 代替列表\n",
    "- list 的元素在内存中是分散存储的，而 NumPy 数组存储在一个**连续**的内存块中，不需要再查找内存地址\n",
    "\n",
    "- NumPy 中的矩阵计算可以采用多线程的方式，充分利用多核 CPU 计算资源，提升计算效率\n",
    "\n",
    "操作技巧：\n",
    "- 采用就地操作，**避免隐式拷贝**。举个例子，如果我想让一个数值 x 是原来的两倍，可以直接写成 x * =2，而不要写成 y=x * 2"
   ]
  },
  {
   "cell_type": "markdown",
   "metadata": {},
   "source": [
    "# ndarray\n",
    "ndarray (N-dimensional array object) 多维数组\n",
    "\n",
    "- 秩：维数称为秩（rank），一维数组的秩为 1，二维数组的秩为 2 \n",
    "\n",
    "- 轴：每一个线性的数组称为一个轴（axes），秩就是描述轴的数量\n",
    "    - axes = 0：跨行，对列求\n",
    "    - axes = 1：跨列，对行求\n"
   ]
  },
  {
   "cell_type": "markdown",
   "metadata": {},
   "source": [
    "## 创建数组\n",
    "`ndarray = np.array()`"
   ]
  },
  {
   "cell_type": "code",
   "execution_count": 7,
   "metadata": {},
   "outputs": [
    {
     "name": "stdout",
     "output_type": "stream",
     "text": [
      "(3,) int64\n",
      "(3, 3) int64\n"
     ]
    }
   ],
   "source": [
    "import numpy as np\n",
    "\n",
    "a = np.array([1, 2, 3])\n",
    "b = np.array([[1, 2, 3], [4, 5, 6], [7, 8, 9]])\n",
    "\n",
    "print(a.shape, a.dtype)\n",
    "print(b.shape, b.dtype)"
   ]
  },
  {
   "cell_type": "markdown",
   "metadata": {
    "cell_style": "split"
   },
   "source": [
    "## 数据类型\n",
    "`dtype = numpy.dtype(object, align=False, copy=False)`\n",
    "\n",
    "- object\n",
    "    - 传入字符串：字段名默认为为'f0'，'f1'，...\n",
    "    ```\n",
    "    dt = np.dtype(\"i4, (2,3)f8, f4\")\n",
    "    ```\n",
    "    - 传入列表：`[(field_name, field_dtype, field_shape), ...]`\n",
    "    ```\n",
    "    dt = np.dtype([('big', '>i4'), ('little', '<i4')])\n",
    "    ```\n",
    "    - 传入字典：`{'names': ..., 'formats': ..., 'offsets': ..., 'titles': ..., 'itemsize': ...}`\n",
    "    ```\n",
    "    dt = np.dtype({\n",
    "        'names': ['r','g','b','a'],\n",
    "        'formats': [uint8, uint8, uint8, uint8]})\n",
    "    ```\n",
    "   "
   ]
  },
  {
   "cell_type": "markdown",
   "metadata": {
    "cell_style": "split"
   },
   "source": [
    "- 数据类型\n",
    "\n",
    "形式|含义\n",
    ":--: |:--:\n",
    "'?'\t| boolean\n",
    "'b'\t| (signed) byte\n",
    "'B'\t| unsigned byte\n",
    "'i' | integer\n",
    "'u' | unsigned integer\n",
    "'f'\t| floating-point\n",
    "'c'\t| complex-floating point\n",
    "'U' | unicode string\n",
    "'O'\t| (Python) objects"
   ]
  },
  {
   "cell_type": "code",
   "execution_count": 26,
   "metadata": {},
   "outputs": [
    {
     "name": "stdout",
     "output_type": "stream",
     "text": [
      "{'f0': (dtype('int32'), 0), 'f1': (dtype(('<f8', (2, 3))), 4), 'f2': (dtype('float32'), 52)}\n",
      "{'name': (dtype('<U32'), 0), 'age': (dtype('int32'), 128), 'chinese': (dtype('int32'), 132)}\n",
      "{'name': (dtype('<U32'), 0), 'age': (dtype('int32'), 128), 'chinese': (dtype('int32'), 132)}\n"
     ]
    }
   ],
   "source": [
    "# 名为f0的字段，包含32位整数\n",
    "# 名为f1的字段，包含一个2 x 3的64位浮点数子数组\n",
    "# 名为f2的字段，包含32位浮点数\n",
    "dt = np.dtype(\"i4, (2,3)f8, f4\")\n",
    "print(dt.fields)\n",
    "\n",
    "# 列表创建\n",
    "dt = np.dtype([('name', 'U32'), ('age', 'i'), ('chinese', 'i')])\n",
    "print(dt.fields)\n",
    "\n",
    "# 字典创建\n",
    "dt = np.dtype({\n",
    "    'names': ('name', 'age', 'chinese'),\n",
    "    'formats': ('U32', 'i', 'i')\n",
    "})\n",
    "print(dt.fields)"
   ]
  },
  {
   "cell_type": "code",
   "execution_count": 23,
   "metadata": {},
   "outputs": [
    {
     "name": "stdout",
     "output_type": "stream",
     "text": [
      "['ZhangFei' 'GuanYu' 'ZhaoYun' 'HuangZhong']\n",
      "[75 85 85 65]\n",
      "77.5\n"
     ]
    }
   ],
   "source": [
    "import numpy as np\n",
    "\n",
    "person = np.dtype({                                                   # 构造数据类型（表）\n",
    "    'names': ['name', 'age', 'chinese', 'math', 'english'],    \n",
    "    'formats':['U32','i', 'i', 'i', 'f']\n",
    "})\n",
    "\n",
    "people = np.array([                                                   # 传入数据（行）\n",
    "    (\"ZhangFei\",32,75,100, 90),(\"GuanYu\",24,85,96,88.5),\n",
    "    (\"ZhaoYun\",28,85,92,96.5),(\"HuangZhong\",29,65,85,100)],\n",
    "    dtype = person\n",
    ")\n",
    "\n",
    "names = people['name']\n",
    "chinese = people['chinese']\n",
    "print(names, chinese, np.mean(chinese), sep='\\n')"
   ]
  },
  {
   "cell_type": "markdown",
   "metadata": {
    "cell_style": "center"
   },
   "source": [
    "# ufunc"
   ]
  },
  {
   "cell_type": "markdown",
   "metadata": {},
   "source": [
    "## 运算函数"
   ]
  },
  {
   "cell_type": "code",
   "execution_count": 29,
   "metadata": {},
   "outputs": [
    {
     "name": "stdout",
     "output_type": "stream",
     "text": [
      "[ 2.  6. 10. 14. 18.]\n",
      "[0. 0. 0. 0. 0.]\n",
      "[ 1.  9. 25. 49. 81.]\n",
      "[1. 1. 1. 1. 1.]\n",
      "[1.00000000e+00 2.70000000e+01 3.12500000e+03 8.23543000e+05\n",
      " 3.87420489e+08]\n",
      "[0. 0. 0. 0. 0.]\n"
     ]
    }
   ],
   "source": [
    "x1 = np.arange(1,11,2)\n",
    "x2 = np.linspace(1,9,5)\n",
    "\n",
    "print (np.add(x1, x2))\n",
    "print (np.subtract(x1, x2))\n",
    "print (np.multiply(x1, x2))\n",
    "print (np.divide(x1, x2))\n",
    "print (np.power(x1, x2))\n",
    "print (np.mod(x1, x2))"
   ]
  },
  {
   "cell_type": "markdown",
   "metadata": {},
   "source": [
    "## 统计函数"
   ]
  },
  {
   "cell_type": "code",
   "execution_count": 50,
   "metadata": {},
   "outputs": [
    {
     "name": "stdout",
     "output_type": "stream",
     "text": [
      "1 [1 2 3] [1 4 7]\n",
      "8 [6 6 6] [2 2 2]\n"
     ]
    }
   ],
   "source": [
    "import numpy as np\n",
    "\n",
    "a = np.array([[1,2,3], [4,5,6], [7,8,9]])\n",
    "\n",
    "print(np.min(a), np.min(a, 0), np.min(a, 1))    # 最小值\n",
    "print(np.ptp(a), np.ptp(a, 0), np.ptp(a, 1))    # max-min\n",
    "\n"
   ]
  },
  {
   "cell_type": "markdown",
   "metadata": {},
   "source": [
    "- `np.percentile(a, q, axis=None, out=None, overwrite_input=False, interpolation='linear', keepdims=False)`\n",
    "\n",
    "    使得至少有p%的数据项小于或等于这个值，且至少有(100-p)%的数据项大于或等于这个值\n",
    "    - p=0 求最小值，p=50 求平均值，p=100 求最大值\n",
    "- `numpy.median(a, axis=None, out=None, overwrite_input=False, keepdims=False)` \n",
    "\n",
    "    返回中位数\n",
    "- `numpy.mean(a, axis=None, dtype=None, out=None, keepdims=False)`\n",
    "\n",
    "    返回平均值\n",
    "- `numpy.average(a, axis=None, weights=None, returned=False)`\n",
    "\n",
    "    加权平均值"
   ]
  },
  {
   "cell_type": "code",
   "execution_count": 78,
   "metadata": {
    "cell_style": "split"
   },
   "outputs": [
    {
     "name": "stdout",
     "output_type": "stream",
     "text": [
      "[5.  5.8]\n",
      "\n",
      "[[4.  5.  6. ]\n",
      " [4.6 5.6 6.6]]\n",
      "\n",
      "[[2.19921875 5.         8.        ]\n",
      " [2.37929688 5.2        8.2       ]]\n"
     ]
    }
   ],
   "source": [
    "import numpy as np\n",
    "\n",
    "a = np.array([[1.1,2.2,3.1], [4,5,6], [7,8,9]], dtype=np.float16)\n",
    "\n",
    "print(np.percentile(a, (50, 60)), np.percentile(a, (50, 60) , 0), np.percentile(a, (50, 60) , 1), sep='\\n\\n')\n"
   ]
  },
  {
   "cell_type": "code",
   "execution_count": 81,
   "metadata": {
    "cell_style": "split"
   },
   "outputs": [
    {
     "name": "stdout",
     "output_type": "stream",
     "text": [
      "5.0 [4. 5. 6.] [2.2 5.  8. ]\n",
      "5.043 [4.03  5.066 6.03 ] [2.133 5.    8.   ]\n",
      "6.351041666666666\n"
     ]
    }
   ],
   "source": [
    "print(np.median(a), np.median(a, 0), np.median(a, 1))\n",
    "print(np.mean(a), np.mean(a, 0), np.mean(a, 1))\n",
    "print(np.average(a, weights=[[1,2,3], [4,5,6], [7,8,9]]))\n",
    "\n"
   ]
  },
  {
   "cell_type": "markdown",
   "metadata": {},
   "source": [
    "- `numpy.var(a, axis=None, dtype=None, out=None, ddof=0, keepdims=False)`\n",
    "\n",
    "    方差\n",
    "- `numpy.std(a, axis=None, dtype=None, out=None, ddof=0, keepdims=False)`\n",
    "\n",
    "    标准差"
   ]
  },
  {
   "cell_type": "code",
   "execution_count": 85,
   "metadata": {},
   "outputs": [
    {
     "name": "stdout",
     "output_type": "stream",
     "text": [
      "6.666666666666667 [6. 6. 6.] [0.66666667 0.66666667 0.66666667]\n",
      "2.581988897471611 [2.44948974 2.44948974 2.44948974] [0.81649658 0.81649658 0.81649658]\n"
     ]
    }
   ],
   "source": [
    "a = np.array([[1,2,3], [4,5,6], [7,8,9]])\n",
    "\n",
    "print(np.var(a), np.var(a, 0), np.var(a, 1))\n",
    "print(np.std(a), np.std(a, 0), np.std(a, 1))"
   ]
  },
  {
   "cell_type": "markdown",
   "metadata": {},
   "source": [
    "## 排序函数\n",
    "- `np.sort(a, axis=-1, kind=‘quicksort’, order=None)`\n",
    "    - axis\n",
    "        - 默认沿数组的最后一个轴进行排序\n",
    "        - None：向量化\n",
    "    - kind \n",
    "        - quicksort、mergesort、heapsort 分别表示快速排序、合并排序、堆排序。"
   ]
  },
  {
   "cell_type": "code",
   "execution_count": 88,
   "metadata": {},
   "outputs": [
    {
     "name": "stdout",
     "output_type": "stream",
     "text": [
      "[[2 3 4]\n",
      " [1 2 4]] \n",
      "\n",
      "[1 2 2 3 4 4] \n",
      "\n",
      "[[2 3 1]\n",
      " [4 4 2]] \n",
      "\n",
      "[[2 3 4]\n",
      " [1 2 4]] \n",
      "\n"
     ]
    }
   ],
   "source": [
    "a = np.array([[4,3,2],[2,4,1]])\n",
    "print (np.sort(a), '\\n')                 # 默认以行排序\n",
    "print (np.sort(a, axis=None), '\\n')      # 转化成一维向量\n",
    "print (np.sort(a, axis=0), '\\n')\n",
    "print (np.sort(a, axis=1), '\\n')\n"
   ]
  },
  {
   "cell_type": "markdown",
   "metadata": {},
   "source": [
    "- `list = sorted(iterable, key=None, reverse=False)`"
   ]
  },
  {
   "cell_type": "code",
   "execution_count": 115,
   "metadata": {},
   "outputs": [
    {
     "name": "stdout",
     "output_type": "stream",
     "text": [
      "科目 | 平均成绩 | 最小成绩 | 最大成绩 | 方差 | 标准差\n",
      "语文 | 84.66666666666667 | 66.0 | 95.0 | 174.88888888888889 | 13.224556283251582 \n",
      "英语 | 80.66666666666667 | 65.0 | 92.0 | 130.88888888888889 | 11.440668201153676 \n",
      "数学 | 74.66666666666667 | 30.0 | 98.0 | 998.2222222222222 | 31.594654962860762 \n",
      "[('zhaoyun', 93., 92., 96.), ('guanyu', 95., 85., 98.), ('zhangfei', 66., 65., 30.)]\n"
     ]
    }
   ],
   "source": [
    "import numpy as np\n",
    "\n",
    "type_grade = np.dtype({\n",
    "    'names':['姓名', '语文', '英语', '数学'],\n",
    "    'formats':['U32', 'f16', 'f16', 'f16']\n",
    "})\n",
    "\n",
    "grades = np.array([\n",
    "    ('zhangfei', 66, 65, 30),\n",
    "    ('guanyu', 95, 85, 98),\n",
    "    ('zhaoyun', 93, 92, 96)], \n",
    "    dtype=type_grade)\n",
    "\n",
    "\n",
    "names = grades['姓名']\n",
    "chinese = grades['语文']\n",
    "english = grades['英语']\n",
    "math = grades['数学']\n",
    "\n",
    "def show(name,cj):\n",
    "    print('{} | {} | {} | {} | {} | {} '\n",
    "          .format(name,np.mean(cj),np.min(cj),np.max(cj),np.var(cj),np.std(cj)))\n",
    "\n",
    "print(\"科目 | 平均成绩 | 最小成绩 | 最大成绩 | 方差 | 标准差\")\n",
    "show(\"语文\", chinese)\n",
    "show(\"英语\", english)\n",
    "show(\"数学\", math)\n",
    "\n",
    "\n",
    "ranking = sorted(grades, key=lambda x:x['语文']+x['英语']+x['数学'], reverse=True)\n",
    "print(ranking)"
   ]
  },
  {
   "cell_type": "code",
   "execution_count": null,
   "metadata": {},
   "outputs": [],
   "source": []
  }
 ],
 "metadata": {
  "kernelspec": {
   "display_name": "Python 3",
   "language": "python",
   "name": "python3"
  },
  "language_info": {
   "codemirror_mode": {
    "name": "ipython",
    "version": 3
   },
   "file_extension": ".py",
   "mimetype": "text/x-python",
   "name": "python",
   "nbconvert_exporter": "python",
   "pygments_lexer": "ipython3",
   "version": "3.7.3"
  },
  "latex_envs": {
   "LaTeX_envs_menu_present": true,
   "autoclose": true,
   "autocomplete": true,
   "bibliofile": "biblio.bib",
   "cite_by": "apalike",
   "current_citInitial": 1,
   "eqLabelWithNumbers": true,
   "eqNumInitial": 1,
   "hotkeys": {
    "equation": "Ctrl-E",
    "itemize": "Ctrl-I"
   },
   "labels_anchors": false,
   "latex_user_defs": false,
   "report_style_numbering": false,
   "user_envs_cfg": false
  },
  "toc": {
   "base_numbering": 1,
   "nav_menu": {},
   "number_sections": true,
   "sideBar": true,
   "skip_h1_title": false,
   "title_cell": "Table of Contents",
   "title_sidebar": "Contents",
   "toc_cell": true,
   "toc_position": {
    "height": "calc(100% - 180px)",
    "left": "10px",
    "top": "150px",
    "width": "165px"
   },
   "toc_section_display": true,
   "toc_window_display": true
  },
  "varInspector": {
   "cols": {
    "lenName": 16,
    "lenType": 16,
    "lenVar": 40
   },
   "kernels_config": {
    "python": {
     "delete_cmd_postfix": "",
     "delete_cmd_prefix": "del ",
     "library": "var_list.py",
     "varRefreshCmd": "print(var_dic_list())"
    },
    "r": {
     "delete_cmd_postfix": ") ",
     "delete_cmd_prefix": "rm(",
     "library": "var_list.r",
     "varRefreshCmd": "cat(var_dic_list()) "
    }
   },
   "types_to_exclude": [
    "module",
    "function",
    "builtin_function_or_method",
    "instance",
    "_Feature"
   ],
   "window_display": false
  }
 },
 "nbformat": 4,
 "nbformat_minor": 2
}
