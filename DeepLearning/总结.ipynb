{
 "cells": [
  {
   "cell_type": "markdown",
   "metadata": {
    "toc": true
   },
   "source": [
    "<h1>Table of Contents<span class=\"tocSkip\"></span></h1>\n",
    "<div class=\"toc\"><ul class=\"toc-item\"><li><span><a href=\"#过程\" data-toc-modified-id=\"过程-1\"><span class=\"toc-item-num\">1&nbsp;&nbsp;</span>过程</a></span></li><li><span><a href=\"#NN\" data-toc-modified-id=\"NN-2\"><span class=\"toc-item-num\">2&nbsp;&nbsp;</span>NN</a></span></li><li><span><a href=\"#数量\" data-toc-modified-id=\"数量-3\"><span class=\"toc-item-num\">3&nbsp;&nbsp;</span>数量</a></span></li><li><span><a href=\"#使用框架\" data-toc-modified-id=\"使用框架-4\"><span class=\"toc-item-num\">4&nbsp;&nbsp;</span>使用框架</a></span></li></ul></div>"
   ]
  },
  {
   "cell_type": "markdown",
   "metadata": {},
   "source": [
    "# 过程\n",
    "\n",
    "1. 导入，观察数据集\n",
    "    - 是否非线性 (将参数多项式化)\n",
    "    - 是否需要修正\n",
    "2. 提出假设函数\n",
    "    - 是(高阶)参数的线性关系\n",
    "    - 激活函数\n",
    "3. 代价函数 = f ( 假设函数 - 真实结果）\n",
    "4. 梯度下降，训练参数\n",
    "    - 每次都是全部数据输入，矩阵\n",
    "5. 查看结果\n",
    "    - 概率 、 拟合率"
   ]
  },
  {
   "cell_type": "markdown",
   "metadata": {},
   "source": [
    "# NN\n",
    "- 输入层不算入总层数，层数 = 隐藏层 + 结果层\n",
    "- 一个结点 = 假设函数 + 激活函数\n",
    "- 假设函数 ➡️ 激活函数 = 缩放范围 + 斜率够大 ➡️ 代价函数 ➡️ 参数\n",
    "- 激活函数非线性，能起到选择的作用。只有输出连续值时使用线性函数"
   ]
  },
  {
   "cell_type": "markdown",
   "metadata": {
    "cell_style": "split"
   },
   "source": [
    "# 数量\n",
    "特征数 = n，样本数 = m，层数 = c\n",
    "\n",
    "x = (n, m)\n",
    "\n",
    "w = (n, c)\n",
    "\n",
    "b = (1, 1)\n",
    "\n",
    "y = (1, m)"
   ]
  },
  {
   "cell_type": "markdown",
   "metadata": {
    "cell_style": "split"
   },
   "source": [
    "<img src='img/number.jpg' width=500>"
   ]
  },
  {
   "cell_type": "markdown",
   "metadata": {},
   "source": [
    "<img src='img/justifiction.jpg' width=800>"
   ]
  },
  {
   "cell_type": "markdown",
   "metadata": {},
   "source": [
    "# 使用框架"
   ]
  },
  {
   "cell_type": "markdown",
   "metadata": {},
   "source": [
    "- Scikit-learn：分类，回归，聚类，数据降维，模型选择和数据预处理\n",
    "    https://sklearn.apachecn.org/#/\n",
    "- scipy.optimize：梯度下降"
   ]
  }
 ],
 "metadata": {
  "hide_input": false,
  "kernelspec": {
   "display_name": "Python 3",
   "language": "python",
   "name": "python3"
  },
  "language_info": {
   "codemirror_mode": {
    "name": "ipython",
    "version": 3
   },
   "file_extension": ".py",
   "mimetype": "text/x-python",
   "name": "python",
   "nbconvert_exporter": "python",
   "pygments_lexer": "ipython3",
   "version": "3.7.3"
  },
  "latex_envs": {
   "LaTeX_envs_menu_present": true,
   "autoclose": true,
   "autocomplete": true,
   "bibliofile": "biblio.bib",
   "cite_by": "apalike",
   "current_citInitial": 1,
   "eqLabelWithNumbers": true,
   "eqNumInitial": 1,
   "hotkeys": {
    "equation": "Ctrl-E",
    "itemize": "Ctrl-I"
   },
   "labels_anchors": false,
   "latex_user_defs": false,
   "report_style_numbering": false,
   "user_envs_cfg": false
  },
  "nbTranslate": {
   "displayLangs": [
    "*"
   ],
   "hotkey": "alt-t",
   "langInMainMenu": true,
   "sourceLang": "en",
   "targetLang": "fr",
   "useGoogleTranslate": true
  },
  "toc": {
   "base_numbering": 1,
   "nav_menu": {},
   "number_sections": true,
   "sideBar": true,
   "skip_h1_title": false,
   "title_cell": "Table of Contents",
   "title_sidebar": "Contents",
   "toc_cell": true,
   "toc_position": {},
   "toc_section_display": true,
   "toc_window_display": false
  },
  "varInspector": {
   "cols": {
    "lenName": 16,
    "lenType": 16,
    "lenVar": 40
   },
   "kernels_config": {
    "python": {
     "delete_cmd_postfix": "",
     "delete_cmd_prefix": "del ",
     "library": "var_list.py",
     "varRefreshCmd": "print(var_dic_list())"
    },
    "r": {
     "delete_cmd_postfix": ") ",
     "delete_cmd_prefix": "rm(",
     "library": "var_list.r",
     "varRefreshCmd": "cat(var_dic_list()) "
    }
   },
   "types_to_exclude": [
    "module",
    "function",
    "builtin_function_or_method",
    "instance",
    "_Feature"
   ],
   "window_display": false
  }
 },
 "nbformat": 4,
 "nbformat_minor": 2
}
