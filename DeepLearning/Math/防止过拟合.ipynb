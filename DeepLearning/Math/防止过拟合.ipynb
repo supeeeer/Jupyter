{
 "cells": [
  {
   "cell_type": "markdown",
   "metadata": {
    "toc": true
   },
   "source": [
    "<h1>Table of Contents<span class=\"tocSkip\"></span></h1>\n",
    "<div class=\"toc\"><ul class=\"toc-item\"><li><span><a href=\"#正则化\" data-toc-modified-id=\"正则化-1\"><span class=\"toc-item-num\">1&nbsp;&nbsp;</span>正则化</a></span><ul class=\"toc-item\"><li><span><a href=\"#L2正则化\" data-toc-modified-id=\"L2正则化-1.1\"><span class=\"toc-item-num\">1.1&nbsp;&nbsp;</span>L2正则化</a></span><ul class=\"toc-item\"><li><span><a href=\"#过程\" data-toc-modified-id=\"过程-1.1.1\"><span class=\"toc-item-num\">1.1.1&nbsp;&nbsp;</span>过程</a></span></li><li><span><a href=\"#原理\" data-toc-modified-id=\"原理-1.1.2\"><span class=\"toc-item-num\">1.1.2&nbsp;&nbsp;</span>原理</a></span></li></ul></li></ul></li></ul></div>"
   ]
  },
  {
   "cell_type": "markdown",
   "metadata": {},
   "source": [
    "在训练数据不够多时，或者overtraining时，常常会导致overfitting\n",
    "\n",
    "随着训练过程的进行，模型复杂度增加，在training data上的error渐渐减小，但是在验证集上的error却反而渐渐增大\n",
    "\n"
   ]
  },
  {
   "cell_type": "markdown",
   "metadata": {},
   "source": [
    "避免过拟合的方法有很多：early stopping、数据集扩增（Data augmentation）、正则化（Regularization），dropout"
   ]
  },
  {
   "cell_type": "markdown",
   "metadata": {},
   "source": [
    "# 正则化"
   ]
  },
  {
   "cell_type": "markdown",
   "metadata": {},
   "source": [
    "https://blog.csdn.net/liujiandu101/article/details/55103831\n",
    "\n",
    "https://blog.csdn.net/u012162613/article/details/44261657"
   ]
  },
  {
   "cell_type": "markdown",
   "metadata": {},
   "source": [
    "将原始数据集分为三部分：training data、validation data，testing data。\n",
    "\n",
    "validation data就是用来避免过拟合的，在训练过程中，我们通常用它来确定一些超参数（比如根据validation data上的accuracy来确定early stopping的epoch大小、根据validation data确定learning rate等等）\n",
    "\n"
   ]
  },
  {
   "cell_type": "markdown",
   "metadata": {},
   "source": [
    "方法：在损失函数上，为参数添加范数约束，不改动偏置项\n",
    "\n",
    "    偏置项一般需要较少的数据就能精确的拟合。如果添加约束常常会导致欠拟合。"
   ]
  },
  {
   "cell_type": "markdown",
   "metadata": {},
   "source": [
    "## L2正则化\n"
   ]
  },
  {
   "cell_type": "markdown",
   "metadata": {},
   "source": [
    "### 过程\n",
    "\n",
    "**修改代价函数，增加一个正则化项**\n",
    "\n",
    "代价函数cost = c0 + 1/2 * λ正则系数 * ( 所有参数w的平方和 / 训练集的样本大小n )\n",
    "$$C\\left( \\theta  \\right)=C_0+\\frac{\\lambda }{2n}\\sum\\limits_{j=1}{\\theta _j^2}$$\n",
    "\n",
    "- 权衡正则项与C0项的比重\n",
    "- 1/2主要是为了后面求导的结果方便 (后面那一项求导会产生一个2，与1/2相乘刚好凑整)\n",
    "\n",
    "- L2正则化项对b的更新没有影响，但是对于w有影响:\n",
    "\n",
    "$$\\frac{\\partial C}{\\partial b} = \\frac {\\partial C_0}{\\partial b}$$\n",
    "\n",
    "$$\\frac{\\partial C}{\\partial w} = \\frac{\\partial C_0}{\\partial w}+\\frac{\\lambda}{n}w$$\n",
    "\n",
    "<span class=\"mark\">效果是减小w:</span>\n",
    "$$w:=(1-\\frac{\\lambda}{n})w-\\frac{\\partial C_0}{\\partial w}$$"
   ]
  },
  {
   "cell_type": "markdown",
   "metadata": {},
   "source": [
    "### 原理\n",
    "**奥卡姆剃刀**: 更小的权值w，表示网络的复杂度更低\n",
    "\n",
    "过拟合，就是拟合函数需要顾忌每一个点，最终形成的拟合函数波动很大。在某些很小的区间里，函数值的变化很剧烈。\n",
    "\n",
    "这就意味着函数在某些小区间里的导数值（绝对值）非常大，由于自变量值可大可小，所以只有系数足够大，才能保证导数值很大。\n",
    "\n",
    "而正则化是通过约束参数的范数使其不要太大，可以在一定程度上减少过拟合情况\n",
    "\n"
   ]
  },
  {
   "cell_type": "code",
   "execution_count": null,
   "metadata": {},
   "outputs": [],
   "source": []
  }
 ],
 "metadata": {
  "hide_input": false,
  "kernelspec": {
   "display_name": "Python 3",
   "language": "python",
   "name": "python3"
  },
  "language_info": {
   "codemirror_mode": {
    "name": "ipython",
    "version": 3
   },
   "file_extension": ".py",
   "mimetype": "text/x-python",
   "name": "python",
   "nbconvert_exporter": "python",
   "pygments_lexer": "ipython3",
   "version": "3.7.3"
  },
  "latex_envs": {
   "LaTeX_envs_menu_present": true,
   "autoclose": true,
   "autocomplete": true,
   "bibliofile": "biblio.bib",
   "cite_by": "apalike",
   "current_citInitial": 1,
   "eqLabelWithNumbers": true,
   "eqNumInitial": 1,
   "hotkeys": {
    "equation": "Ctrl-E",
    "itemize": "Ctrl-I"
   },
   "labels_anchors": false,
   "latex_user_defs": false,
   "report_style_numbering": false,
   "user_envs_cfg": false
  },
  "nbTranslate": {
   "displayLangs": [
    "*"
   ],
   "hotkey": "alt-t",
   "langInMainMenu": true,
   "sourceLang": "en",
   "targetLang": "fr",
   "useGoogleTranslate": true
  },
  "toc": {
   "base_numbering": 1,
   "nav_menu": {},
   "number_sections": true,
   "sideBar": true,
   "skip_h1_title": false,
   "title_cell": "Table of Contents",
   "title_sidebar": "Contents",
   "toc_cell": true,
   "toc_position": {
    "height": "calc(100% - 180px)",
    "left": "10px",
    "top": "150px",
    "width": "165px"
   },
   "toc_section_display": true,
   "toc_window_display": false
  },
  "varInspector": {
   "cols": {
    "lenName": 16,
    "lenType": 16,
    "lenVar": 40
   },
   "kernels_config": {
    "python": {
     "delete_cmd_postfix": "",
     "delete_cmd_prefix": "del ",
     "library": "var_list.py",
     "varRefreshCmd": "print(var_dic_list())"
    },
    "r": {
     "delete_cmd_postfix": ") ",
     "delete_cmd_prefix": "rm(",
     "library": "var_list.r",
     "varRefreshCmd": "cat(var_dic_list()) "
    }
   },
   "types_to_exclude": [
    "module",
    "function",
    "builtin_function_or_method",
    "instance",
    "_Feature"
   ],
   "window_display": false
  }
 },
 "nbformat": 4,
 "nbformat_minor": 2
}
