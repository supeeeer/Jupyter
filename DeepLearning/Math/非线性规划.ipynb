{
 "cells": [
  {
   "cell_type": "markdown",
   "metadata": {
    "toc": true
   },
   "source": [
    "<h1>Table of Contents<span class=\"tocSkip\"></span></h1>\n",
    "<div class=\"toc\"><ul class=\"toc-item\"><li><span><a href=\"#非凸函数\" data-toc-modified-id=\"非凸函数-1\"><span class=\"toc-item-num\">1&nbsp;&nbsp;</span>非凸函数</a></span><ul class=\"toc-item\"><li><span><a href=\"#scipy.optimize.minimize\" data-toc-modified-id=\"scipy.optimize.minimize-1.1\"><span class=\"toc-item-num\">1.1&nbsp;&nbsp;</span>scipy.optimize.minimize</a></span></li></ul></li></ul></div>"
   ]
  },
  {
   "cell_type": "markdown",
   "metadata": {},
   "source": [
    "**非线性规划**是一种求解目标函数中有一个或几个非线性函数的最优化问题的方法\n",
    "\n",
    "非线性规划可以简单分两种，目标函数为凸函数 or 非凸函数"
   ]
  },
  {
   "cell_type": "markdown",
   "metadata": {},
   "source": [
    "# 非凸函数"
   ]
  },
  {
   "cell_type": "markdown",
   "metadata": {},
   "source": [
    "## scipy.optimize.minimize\n",
    "`OptimizeResult = scipy.optimize.minimize(fun, x0, args=(), method=None, jac=None, constraints=())`： 求局部最优\n",
    "\n",
    "- fun: 求最小值的目标函数\n",
    "\n",
    "- x0: 变量的初始值\n",
    "\n",
    "- args: 传给fun的参数\n",
    "\n",
    "- method: 求极值的方法\n",
    "\n",
    "- jac：返回梯度向量的函数\n",
    "\n",
    "- constraints:约束条件，对fun中参数部分进行约束\n",
    "\n",
    "返回`scipy.optimize.OptimizeResult`对象：\n",
    "- x：最佳参数\n",
    "- fun, jac, hess：最优化的函数值、梯度值、hess值\n",
    "\n",
    "https://docs.scipy.org/doc/scipy/reference/generated/scipy.optimize.minimize.html\n",
    "\n",
    "https://blog.csdn.net/sinat_17697111/article/details/81534935"
   ]
  },
  {
   "cell_type": "code",
   "execution_count": 28,
   "metadata": {
    "cell_style": "split",
    "scrolled": true
   },
   "outputs": [
    {
     "name": "stdout",
     "output_type": "stream",
     "text": [
      "arg =  1\n",
      "2.0000000815356342\n",
      "[1.00028559]\n",
      "[0.00057095]\n"
     ]
    }
   ],
   "source": [
    "from scipy.optimize import minimize\n",
    "import numpy as np\n",
    "\n",
    "# 匿名函数，fun带上参数传入\n",
    "\n",
    "def fun(arg):\n",
    "    print('arg = ', arg)\n",
    "    v = lambda x: arg / x + x\n",
    "    return v\n",
    "\n",
    "args = 1  # a\n",
    "x0 = 2    # 初始猜测值\n",
    "res = minimize(fun(args), x0, method='SLSQP')\n",
    "print(res.fun)\n",
    "print(res.x)\n",
    "print(res.jac)"
   ]
  },
  {
   "cell_type": "code",
   "execution_count": 26,
   "metadata": {
    "cell_style": "split"
   },
   "outputs": [
    {
     "name": "stdout",
     "output_type": "stream",
     "text": [
      "arg =  1 , x =  [2.]\n",
      "arg =  1 , x =  [2.]\n",
      "arg =  1 , x =  [2.00000001]\n",
      "arg =  1 , x =  [1.25]\n",
      "arg =  1 , x =  [1.25]\n",
      "arg =  1 , x =  [1.25000001]\n",
      "arg =  1 , x =  [0.55769225]\n",
      "arg =  1 , x =  [1.09314905]\n",
      "arg =  1 , x =  [1.09314905]\n",
      "arg =  1 , x =  [1.09314906]\n",
      "arg =  1 , x =  [0.96313246]\n",
      "arg =  1 , x =  [0.96313246]\n",
      "arg =  1 , x =  [0.96313248]\n",
      "arg =  1 , x =  [1.00519252]\n",
      "arg =  1 , x =  [1.00519252]\n",
      "arg =  1 , x =  [1.00519253]\n",
      "arg =  1 , x =  [1.00028559]\n",
      "arg =  1 , x =  [1.00028559]\n",
      "arg =  1 , x =  [1.0002856]\n",
      "2.0000000815356342\n",
      "[1.00028559]\n"
     ]
    }
   ],
   "source": [
    "def fun2(x, arg):\n",
    "    print('arg = ', arg, ', x = ', x)\n",
    "    v = arg / x + x\n",
    "    return v\n",
    "\n",
    "args = 1  # a\n",
    "x0 = 2    # 初始猜测值\n",
    "res = minimize(fun2, x0, args=args, method='SLSQP')\n",
    "print(res.fun)\n",
    "print(res.x)"
   ]
  },
  {
   "cell_type": "code",
   "execution_count": null,
   "metadata": {},
   "outputs": [],
   "source": []
  }
 ],
 "metadata": {
  "hide_input": false,
  "kernelspec": {
   "display_name": "Python 3",
   "language": "python",
   "name": "python3"
  },
  "language_info": {
   "codemirror_mode": {
    "name": "ipython",
    "version": 3
   },
   "file_extension": ".py",
   "mimetype": "text/x-python",
   "name": "python",
   "nbconvert_exporter": "python",
   "pygments_lexer": "ipython3",
   "version": "3.7.3"
  },
  "latex_envs": {
   "LaTeX_envs_menu_present": true,
   "autoclose": true,
   "autocomplete": true,
   "bibliofile": "biblio.bib",
   "cite_by": "apalike",
   "current_citInitial": 1,
   "eqLabelWithNumbers": true,
   "eqNumInitial": 1,
   "hotkeys": {
    "equation": "Ctrl-E",
    "itemize": "Ctrl-I"
   },
   "labels_anchors": false,
   "latex_user_defs": false,
   "report_style_numbering": false,
   "user_envs_cfg": false
  },
  "nbTranslate": {
   "displayLangs": [
    "*"
   ],
   "hotkey": "alt-t",
   "langInMainMenu": true,
   "sourceLang": "en",
   "targetLang": "fr",
   "useGoogleTranslate": true
  },
  "toc": {
   "base_numbering": 1,
   "nav_menu": {},
   "number_sections": true,
   "sideBar": true,
   "skip_h1_title": false,
   "title_cell": "Table of Contents",
   "title_sidebar": "Contents",
   "toc_cell": true,
   "toc_position": {},
   "toc_section_display": true,
   "toc_window_display": false
  },
  "varInspector": {
   "cols": {
    "lenName": 16,
    "lenType": 16,
    "lenVar": 40
   },
   "kernels_config": {
    "python": {
     "delete_cmd_postfix": "",
     "delete_cmd_prefix": "del ",
     "library": "var_list.py",
     "varRefreshCmd": "print(var_dic_list())"
    },
    "r": {
     "delete_cmd_postfix": ") ",
     "delete_cmd_prefix": "rm(",
     "library": "var_list.r",
     "varRefreshCmd": "cat(var_dic_list()) "
    }
   },
   "types_to_exclude": [
    "module",
    "function",
    "builtin_function_or_method",
    "instance",
    "_Feature"
   ],
   "window_display": false
  }
 },
 "nbformat": 4,
 "nbformat_minor": 2
}
