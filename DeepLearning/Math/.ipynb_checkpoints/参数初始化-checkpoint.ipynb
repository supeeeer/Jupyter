{
 "cells": [
  {
   "cell_type": "markdown",
   "metadata": {
    "toc": true
   },
   "source": [
    "<h1>Table of Contents<span class=\"tocSkip\"></span></h1>\n",
    "<div class=\"toc\"><ul class=\"toc-item\"><li><span><a href=\"#隐层\" data-toc-modified-id=\"隐层-1\"><span class=\"toc-item-num\">1&nbsp;&nbsp;</span>隐层</a></span></li><li><span><a href=\"#初始参数\" data-toc-modified-id=\"初始参数-2\"><span class=\"toc-item-num\">2&nbsp;&nbsp;</span>初始参数</a></span><ul class=\"toc-item\"><li><span><a href=\"#随机\" data-toc-modified-id=\"随机-2.1\"><span class=\"toc-item-num\">2.1&nbsp;&nbsp;</span>随机</a></span></li><li><span><a href=\"#小\" data-toc-modified-id=\"小-2.2\"><span class=\"toc-item-num\">2.2&nbsp;&nbsp;</span>小</a></span></li></ul></li></ul></div>"
   ]
  },
  {
   "cell_type": "markdown",
   "metadata": {},
   "source": [
    "# 隐层\n",
    "https://v.youku.com/v_show/id_XMjgxNTY1NzQwOA==.html"
   ]
  },
  {
   "cell_type": "markdown",
   "metadata": {},
   "source": [
    "- 增加一层隐层，相当于进行一次特征提取\n",
    "\n",
    "\n",
    "- 一层隐层表示一层特征，每个神经元是一个特征属性\n",
    "\n",
    "    在隐藏层，节点的个数代表数据在经过处理之后新”提取“出来的特征。一个隐藏层的节点个数越多，意味着这一层所提取的新特征越多\n",
    "\n",
    "    输入一张图片，把中间隐层的值给打印出来，会发现大部分的值都是0，少部分的值会零点几或者1，这就代表这一层的某些特征被激活了\n",
    "    \n",
    "    \n",
    "- 从局部到整体\n"
   ]
  },
  {
   "cell_type": "markdown",
   "metadata": {},
   "source": [
    "# 初始参数"
   ]
  },
  {
   "cell_type": "markdown",
   "metadata": {},
   "source": [
    "初始化为：`W=0.01∗np.random.randn(D,H)`"
   ]
  },
  {
   "cell_type": "markdown",
   "metadata": {},
   "source": [
    "## 随机\n",
    "进行了恰当的数据归一化后，有一半的权重是正的，另一半是负的\n",
    "\n",
    "1. 如果权重初始化为同一个值，网络就是对称(symmetry)的\n",
    "\n",
    "2. 无论隐层层数有多少，由于各层的神经元激活值大小一样，也就相当于各层只有一个有效神经元（特征），这就失去了神经网络进行特征扩展和优化的本意了。\n",
    "\n",
    "3. 保证神经元在一开始随机、独一无二，它们会计算出不同的更新，并将自己整合到整个网络的各个部分。"
   ]
  },
  {
   "cell_type": "markdown",
   "metadata": {},
   "source": [
    "## 小\n",
    "并不是数字越小就会表现的越好。\n",
    "\n",
    "如果权重非常小，那么在反向传播时，就会计算出很小的梯度 ( **因为梯度gradient是与权重成正比的** )。在不断的反向传播中将极大地减少“梯度信号”"
   ]
  },
  {
   "cell_type": "code",
   "execution_count": null,
   "metadata": {},
   "outputs": [],
   "source": []
  }
 ],
 "metadata": {
  "hide_input": false,
  "kernelspec": {
   "display_name": "Python 3",
   "language": "python",
   "name": "python3"
  },
  "language_info": {
   "codemirror_mode": {
    "name": "ipython",
    "version": 3
   },
   "file_extension": ".py",
   "mimetype": "text/x-python",
   "name": "python",
   "nbconvert_exporter": "python",
   "pygments_lexer": "ipython3",
   "version": "3.7.3"
  },
  "latex_envs": {
   "LaTeX_envs_menu_present": true,
   "autoclose": true,
   "autocomplete": true,
   "bibliofile": "biblio.bib",
   "cite_by": "apalike",
   "current_citInitial": 1,
   "eqLabelWithNumbers": true,
   "eqNumInitial": 1,
   "hotkeys": {
    "equation": "Ctrl-E",
    "itemize": "Ctrl-I"
   },
   "labels_anchors": false,
   "latex_user_defs": false,
   "report_style_numbering": false,
   "user_envs_cfg": false
  },
  "nbTranslate": {
   "displayLangs": [
    "*"
   ],
   "hotkey": "alt-t",
   "langInMainMenu": true,
   "sourceLang": "en",
   "targetLang": "fr",
   "useGoogleTranslate": true
  },
  "toc": {
   "base_numbering": 1,
   "nav_menu": {},
   "number_sections": true,
   "sideBar": true,
   "skip_h1_title": false,
   "title_cell": "Table of Contents",
   "title_sidebar": "Contents",
   "toc_cell": true,
   "toc_position": {},
   "toc_section_display": true,
   "toc_window_display": false
  },
  "varInspector": {
   "cols": {
    "lenName": 16,
    "lenType": 16,
    "lenVar": 40
   },
   "kernels_config": {
    "python": {
     "delete_cmd_postfix": "",
     "delete_cmd_prefix": "del ",
     "library": "var_list.py",
     "varRefreshCmd": "print(var_dic_list())"
    },
    "r": {
     "delete_cmd_postfix": ") ",
     "delete_cmd_prefix": "rm(",
     "library": "var_list.r",
     "varRefreshCmd": "cat(var_dic_list()) "
    }
   },
   "types_to_exclude": [
    "module",
    "function",
    "builtin_function_or_method",
    "instance",
    "_Feature"
   ],
   "window_display": false
  }
 },
 "nbformat": 4,
 "nbformat_minor": 2
}
