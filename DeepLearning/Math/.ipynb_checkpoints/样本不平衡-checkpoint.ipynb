{
 "cells": [
  {
   "cell_type": "markdown",
   "metadata": {
    "toc": true
   },
   "source": [
    "<h1>Table of Contents<span class=\"tocSkip\"></span></h1>\n",
    "<div class=\"toc\"><ul class=\"toc-item\"><li><span><a href=\"#样本失衡\" data-toc-modified-id=\"样本失衡-1\"><span class=\"toc-item-num\">1&nbsp;&nbsp;</span>样本失衡</a></span></li><li><span><a href=\"#处理不平衡\" data-toc-modified-id=\"处理不平衡-2\"><span class=\"toc-item-num\">2&nbsp;&nbsp;</span>处理不平衡</a></span><ul class=\"toc-item\"><li><span><a href=\"#数据\" data-toc-modified-id=\"数据-2.1\"><span class=\"toc-item-num\">2.1&nbsp;&nbsp;</span>数据</a></span><ul class=\"toc-item\"><li><span><a href=\"#平衡采样\" data-toc-modified-id=\"平衡采样-2.1.1\"><span class=\"toc-item-num\">2.1.1&nbsp;&nbsp;</span>平衡采样</a></span></li><li><span><a href=\"#采样策略、生成\" data-toc-modified-id=\"采样策略、生成-2.1.2\"><span class=\"toc-item-num\">2.1.2&nbsp;&nbsp;</span>采样策略、生成</a></span></li></ul></li><li><span><a href=\"#对损失函数加权重\" data-toc-modified-id=\"对损失函数加权重-2.2\"><span class=\"toc-item-num\">2.2&nbsp;&nbsp;</span>对损失函数加权重</a></span></li><li><span><a href=\"#用回归代替分类\" data-toc-modified-id=\"用回归代替分类-2.3\"><span class=\"toc-item-num\">2.3&nbsp;&nbsp;</span>用回归代替分类</a></span></li></ul></li></ul></div>"
   ]
  },
  {
   "cell_type": "markdown",
   "metadata": {},
   "source": [
    "# 样本失衡\n",
    "问题： 因为b类占比少，分类器倾向于将一些b类样本误判为a类（相反，a类误判b类的可能性要小很多），最终输出中，b类很可能比实际情况少很多\n",
    "\n",
    "情况：\n",
    "\n",
    "1. 分为a、b两类，a类训练样本占比0.9，b类只占0.1\n",
    "    \n",
    "2. 一对多分类是，正类<<负类"
   ]
  },
  {
   "cell_type": "markdown",
   "metadata": {},
   "source": [
    "# 处理不平衡"
   ]
  },
  {
   "cell_type": "markdown",
   "metadata": {},
   "source": [
    "## 数据"
   ]
  },
  {
   "cell_type": "markdown",
   "metadata": {},
   "source": [
    "### 平衡采样\n",
    "适合轻微失衡的问题\n",
    "\n",
    "1. 欠采样a类 (遗漏a类中具有重要特征的样本的风险很高）\n",
    "\n",
    "2. 过采样b类 (由于存在大量重复采样，过拟合的风险也很高）"
   ]
  },
  {
   "cell_type": "markdown",
   "metadata": {},
   "source": [
    "### 采样策略、生成\n",
    "\n",
    "1. 对a的数据进行采样策略，建议使用Gibbs采样，尽量保持改类别的分布近似一致\n",
    "\n",
    "2. 合成一些b类样本(过拟合的风险仍然存在，毕竟合成样本是基于现有的b类样本拟合出来的）"
   ]
  },
  {
   "cell_type": "markdown",
   "metadata": {},
   "source": [
    "## 对损失函数加权重\n",
    "给错误分类b类样本更大的惩罚（成本敏感学习），从而抑制分类器将b类误判为a类的倾向。比如，使用加权交叉熵损失函数"
   ]
  },
  {
   "cell_type": "markdown",
   "metadata": {},
   "source": [
    "## 用回归代替分类"
   ]
  },
  {
   "cell_type": "code",
   "execution_count": null,
   "metadata": {},
   "outputs": [],
   "source": []
  }
 ],
 "metadata": {
  "hide_input": false,
  "kernelspec": {
   "display_name": "Python 3",
   "language": "python",
   "name": "python3"
  },
  "language_info": {
   "codemirror_mode": {
    "name": "ipython",
    "version": 3
   },
   "file_extension": ".py",
   "mimetype": "text/x-python",
   "name": "python",
   "nbconvert_exporter": "python",
   "pygments_lexer": "ipython3",
   "version": "3.7.3"
  },
  "latex_envs": {
   "LaTeX_envs_menu_present": true,
   "autoclose": true,
   "autocomplete": true,
   "bibliofile": "biblio.bib",
   "cite_by": "apalike",
   "current_citInitial": 1,
   "eqLabelWithNumbers": true,
   "eqNumInitial": 1,
   "hotkeys": {
    "equation": "Ctrl-E",
    "itemize": "Ctrl-I"
   },
   "labels_anchors": false,
   "latex_user_defs": false,
   "report_style_numbering": false,
   "user_envs_cfg": false
  },
  "nbTranslate": {
   "displayLangs": [
    "*"
   ],
   "hotkey": "alt-t",
   "langInMainMenu": true,
   "sourceLang": "en",
   "targetLang": "fr",
   "useGoogleTranslate": true
  },
  "toc": {
   "base_numbering": 1,
   "nav_menu": {},
   "number_sections": true,
   "sideBar": true,
   "skip_h1_title": false,
   "title_cell": "Table of Contents",
   "title_sidebar": "Contents",
   "toc_cell": true,
   "toc_position": {},
   "toc_section_display": true,
   "toc_window_display": false
  },
  "varInspector": {
   "cols": {
    "lenName": 16,
    "lenType": 16,
    "lenVar": 40
   },
   "kernels_config": {
    "python": {
     "delete_cmd_postfix": "",
     "delete_cmd_prefix": "del ",
     "library": "var_list.py",
     "varRefreshCmd": "print(var_dic_list())"
    },
    "r": {
     "delete_cmd_postfix": ") ",
     "delete_cmd_prefix": "rm(",
     "library": "var_list.r",
     "varRefreshCmd": "cat(var_dic_list()) "
    }
   },
   "types_to_exclude": [
    "module",
    "function",
    "builtin_function_or_method",
    "instance",
    "_Feature"
   ],
   "window_display": false
  }
 },
 "nbformat": 4,
 "nbformat_minor": 2
}
