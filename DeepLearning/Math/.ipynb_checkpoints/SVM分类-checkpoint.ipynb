{
 "cells": [
  {
   "cell_type": "markdown",
   "metadata": {
    "toc": true
   },
   "source": [
    "<h1>Table of Contents<span class=\"tocSkip\"></span></h1>\n",
    "<div class=\"toc\"><ul class=\"toc-item\"><li><span><a href=\"#SVM\" data-toc-modified-id=\"SVM-1\"><span class=\"toc-item-num\">1&nbsp;&nbsp;</span>SVM</a></span><ul class=\"toc-item\"><li><span><a href=\"#高维度\" data-toc-modified-id=\"高维度-1.1\"><span class=\"toc-item-num\">1.1&nbsp;&nbsp;</span>高维度</a></span></li></ul></li><li><span><a href=\"#分类方法\" data-toc-modified-id=\"分类方法-2\"><span class=\"toc-item-num\">2&nbsp;&nbsp;</span>分类方法</a></span><ul class=\"toc-item\"><li><span><a href=\"#一对多(one-versus-rest)-➡️-决策树\" data-toc-modified-id=\"一对多(one-versus-rest)-➡️-决策树-2.1\"><span class=\"toc-item-num\">2.1&nbsp;&nbsp;</span>一对多(one-versus-rest) ➡️ 决策树</a></span></li><li><span><a href=\"#一对一(one-versus-one)-➡️-有向无环图\" data-toc-modified-id=\"一对一(one-versus-one)-➡️-有向无环图-2.2\"><span class=\"toc-item-num\">2.2&nbsp;&nbsp;</span>一对一(one-versus-one) ➡️ 有向无环图</a></span></li></ul></li><li><span><a href=\"#错误惩罚\" data-toc-modified-id=\"错误惩罚-3\"><span class=\"toc-item-num\">3&nbsp;&nbsp;</span>错误惩罚</a></span></li></ul></div>"
   ]
  },
  {
   "cell_type": "markdown",
   "metadata": {},
   "source": [
    "# SVM"
   ]
  },
  {
   "cell_type": "markdown",
   "metadata": {},
   "source": [
    "SVM(support vector machine)是一个二分类方法\n",
    "\n",
    "用一条直线将两类分开，SVM是其中最优的一条\n",
    "\n",
    "特点：\n",
    "1. 到两边最近点的距离相等\n",
    "2. 到两边的间距最大\n",
    "\n",
    "https://www.zhihu.com/question/21094489"
   ]
  },
  {
   "cell_type": "markdown",
   "metadata": {},
   "source": [
    "## 高维度\n",
    "低维非线性的分界线其实在高维是可以线性分割的\n",
    "\n",
    "如果是高维的点，SVM的分界线就是平面或者超平面"
   ]
  },
  {
   "cell_type": "markdown",
   "metadata": {},
   "source": [
    "# 分类方法\n",
    "https://blog.csdn.net/xfchen2/article/details/79621396"
   ]
  },
  {
   "cell_type": "markdown",
   "metadata": {},
   "source": [
    "## 一对多(one-versus-rest) ➡️ 决策树\n",
    "- 对每个样本设计一个SVM (分为是类a,不是类a)，共k个分类器\n",
    "\n",
    "    假如我有四类要划分（也就是4个Label），他们是A、B、C、D。\n",
    "\n",
    "    于是我在抽取训练集的时候，分别抽取\n",
    "\n",
    "    （1）A所对应的向量作为正集，B，C，D所对应的向量作为负集；\n",
    "\n",
    "    （2）B所对应的向量作为正集，A，C，D所对应的向量作为负集；\n",
    "\n",
    "    （3）C所对应的向量作为正集，A，B，D所对应的向量作为负集；\n",
    "\n",
    "    （4）D所对应的向量作为正集，A，B，C所对应的向量作为负集；\n",
    "\n",
    "    使用这四个训练集分别进行训练，然后的得到四个训练结果文件。\n",
    "\n",
    "    在测试的时候，把对应的测试向量分别利用这四个训练结果文件进行测试。\n",
    "\n",
    "    最后每个测试都有一个结果f1(x),f2(x),f3(x),f4(x)。\n",
    "\n",
    "    于是最终的结果便是这四个值中最大的一个作为分类结果。\n",
    "\n",
    "\n",
    "- 优点：训练k个分类器，个数较少，其分类速度相对较快。\n",
    "\n",
    "- 缺点：\n",
    "\n",
    "    1. 每个分类器的训练都是将全部的样本作为训练样本，训练速度会随着训练样本的数量的增加而急剧减慢\n",
    "\n",
    "    2. 负类样本>>正类样本，样本不对称。解决不对称的问题可以引入不同的惩罚因子，对样本点来说较少的正类采用较大的惩罚因子C\n",
    "\n",
    "    3. 当有新的类别加进来时，需要对所有的模型进行重新训练"
   ]
  },
  {
   "cell_type": "markdown",
   "metadata": {},
   "source": [
    "## 一对一(one-versus-one) ➡️ 有向无环图\n",
    "- 在任意两类样本之间设计一个SVM (分为类a, 类b)，共有（k*(k-1)/2）个分类器\n",
    "　　\n",
    "  \n",
    "  假设有四类A,B,C,D四类。\n",
    "  \n",
    "  在训练的时候我选择A,B; A,C; A,D; B,C; B,D;C,D所对应的向量作为训练集，然后得到六个训练结果\n",
    "  \n",
    "  在测试的时候，把对应的向量分别对六个结果进行测试，然后采取投票形式，最后得到一组结果。\n",
    "\n",
    "　　投票是这样的：\n",
    "  \n",
    "　　A=B=C=D=0;\n",
    "  \n",
    "　　(A,B)-classifier 如果是A win,则A=A+1;otherwise,B=B+1;\n",
    "  \n",
    "　　(A,C)-classifier 如果是A win,则A=A+1;otherwise, C=C+1;\n",
    "  \n",
    "　　...\n",
    "  \n",
    "　　(C,D)-classifier 如果是A win,则C=C+1;otherwise,D=D+1;\n",
    "  \n",
    "　　The decision is the Max(A,B,C,D)\n",
    "\n",
    "- 优点：不需要重新训练所有的SVM，只需要重新训练和增加语音样本相关的分类器。在训练单个模型时，相对速度较快。\n",
    "\n",
    "- 缺点：所需构造和测试的二值分类器的数量关于k成二次函数增长，总训练时间和测试时间相对较慢。"
   ]
  },
  {
   "cell_type": "markdown",
   "metadata": {},
   "source": [
    "# 错误惩罚\n",
    "松弛变量 (slack variable ) 允许错误的分类，但是要付出代价。\n",
    "\n",
    "错误分类的${\\lambda>1}$, 在margin当中但是正确分类的$0<\\lambda<1$,正确分类并且在margin外面的$\\lambda=0$"
   ]
  },
  {
   "cell_type": "code",
   "execution_count": null,
   "metadata": {},
   "outputs": [],
   "source": []
  }
 ],
 "metadata": {
  "hide_input": false,
  "kernelspec": {
   "display_name": "Python 3",
   "language": "python",
   "name": "python3"
  },
  "language_info": {
   "codemirror_mode": {
    "name": "ipython",
    "version": 3
   },
   "file_extension": ".py",
   "mimetype": "text/x-python",
   "name": "python",
   "nbconvert_exporter": "python",
   "pygments_lexer": "ipython3",
   "version": "3.7.3"
  },
  "latex_envs": {
   "LaTeX_envs_menu_present": true,
   "autoclose": true,
   "autocomplete": true,
   "bibliofile": "biblio.bib",
   "cite_by": "apalike",
   "current_citInitial": 1,
   "eqLabelWithNumbers": true,
   "eqNumInitial": 1,
   "hotkeys": {
    "equation": "Ctrl-E",
    "itemize": "Ctrl-I"
   },
   "labels_anchors": false,
   "latex_user_defs": false,
   "report_style_numbering": false,
   "user_envs_cfg": false
  },
  "nbTranslate": {
   "displayLangs": [
    "*"
   ],
   "hotkey": "alt-t",
   "langInMainMenu": true,
   "sourceLang": "en",
   "targetLang": "fr",
   "useGoogleTranslate": true
  },
  "toc": {
   "base_numbering": 1,
   "nav_menu": {},
   "number_sections": true,
   "sideBar": true,
   "skip_h1_title": false,
   "title_cell": "Table of Contents",
   "title_sidebar": "Contents",
   "toc_cell": true,
   "toc_position": {},
   "toc_section_display": true,
   "toc_window_display": false
  },
  "varInspector": {
   "cols": {
    "lenName": 16,
    "lenType": 16,
    "lenVar": 40
   },
   "kernels_config": {
    "python": {
     "delete_cmd_postfix": "",
     "delete_cmd_prefix": "del ",
     "library": "var_list.py",
     "varRefreshCmd": "print(var_dic_list())"
    },
    "r": {
     "delete_cmd_postfix": ") ",
     "delete_cmd_prefix": "rm(",
     "library": "var_list.r",
     "varRefreshCmd": "cat(var_dic_list()) "
    }
   },
   "types_to_exclude": [
    "module",
    "function",
    "builtin_function_or_method",
    "instance",
    "_Feature"
   ],
   "window_display": false
  }
 },
 "nbformat": 4,
 "nbformat_minor": 2
}
