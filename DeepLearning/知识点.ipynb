{
 "cells": [
  {
   "cell_type": "markdown",
   "metadata": {
    "toc": true
   },
   "source": [
    "<h1>Table of Contents<span class=\"tocSkip\"></span></h1>\n",
    "<div class=\"toc\"><ul class=\"toc-item\"><li><span><a href=\"#AI处理数据类型\" data-toc-modified-id=\"AI处理数据类型-1\"><span class=\"toc-item-num\">1&nbsp;&nbsp;</span>AI处理数据类型</a></span><ul class=\"toc-item\"><li><span><a href=\"#特征学习(feature-learning)\" data-toc-modified-id=\"特征学习(feature-learning)-1.1\"><span class=\"toc-item-num\">1.1&nbsp;&nbsp;</span>特征学习(feature learning)</a></span></li><li><span><a href=\"#特征工程(feature-engineering)\" data-toc-modified-id=\"特征工程(feature-engineering)-1.2\"><span class=\"toc-item-num\">1.2&nbsp;&nbsp;</span>特征工程(feature engineering)</a></span></li></ul></li></ul></div>"
   ]
  },
  {
   "cell_type": "markdown",
   "metadata": {},
   "source": [
    "## AI处理数据类型\n",
    "https://www.zhihu.com/question/264417928/answer/283087276\n",
    "\n",
    "\n",
    "两者区别：\n",
    "<img src='img/dif.jpg' width=600>\n",
    "\n"
   ]
  },
  {
   "cell_type": "markdown",
   "metadata": {
    "cell_style": "split"
   },
   "source": [
    "### 特征学习(feature learning)\n",
    "机器自己学习特征，比如：深度学习(cnn, rnn)，迁移学习，无监督学习算，树模型\n",
    "\n",
    "深度学习就是一种表示学习，其学习过程是一种**对于有效特征的抽取过程**。有用的特征在层层学习后抽取了出来，最终交给了后面的分类层进行预测\n",
    "\n",
    "输入数据通过网络后，**逐层抽象化**，从而促进了分类结果，最终高度的抽象化的特征被应用于分类层(n)上，从而得到了良好的分类结果\n",
    "\n",
    "<img src='img/abstract.jpg' width=600>\n",
    "\n"
   ]
  },
  {
   "cell_type": "markdown",
   "metadata": {
    "cell_style": "split"
   },
   "source": [
    "### 特征工程(feature engineering)\n",
    "数据经过人为处理提取，而后机器再学习，即机器学习"
   ]
  },
  {
   "cell_type": "markdown",
   "metadata": {},
   "source": [
    "选择人工提取：\n",
    "1. 数据量不够的时候\n",
    "2. 当使用者对于数据和问题有深刻的理解时。比如去掉无关数据、选择适合的数据、合并数据、对数据做离散化等。\n",
    "\n",
    "选择自动提取：\n",
    "1. 高度抽象化的特征可以被应用于相关的领域上(迁移学习)，比如有了大量猫的图片以后，不仅可以用于预测一个物体是不是猫，也可以用于将抽取到的特征再运用于其他类似的领域从而节省数据开销。"
   ]
  },
  {
   "cell_type": "code",
   "execution_count": null,
   "metadata": {},
   "outputs": [],
   "source": []
  }
 ],
 "metadata": {
  "hide_input": false,
  "kernelspec": {
   "display_name": "Python 3",
   "language": "python",
   "name": "python3"
  },
  "language_info": {
   "codemirror_mode": {
    "name": "ipython",
    "version": 3
   },
   "file_extension": ".py",
   "mimetype": "text/x-python",
   "name": "python",
   "nbconvert_exporter": "python",
   "pygments_lexer": "ipython3",
   "version": "3.7.3"
  },
  "latex_envs": {
   "LaTeX_envs_menu_present": true,
   "autoclose": true,
   "autocomplete": true,
   "bibliofile": "biblio.bib",
   "cite_by": "apalike",
   "current_citInitial": 1,
   "eqLabelWithNumbers": true,
   "eqNumInitial": 1,
   "hotkeys": {
    "equation": "Ctrl-E",
    "itemize": "Ctrl-I"
   },
   "labels_anchors": false,
   "latex_user_defs": false,
   "report_style_numbering": false,
   "user_envs_cfg": false
  },
  "nbTranslate": {
   "displayLangs": [
    "*"
   ],
   "hotkey": "alt-t",
   "langInMainMenu": true,
   "sourceLang": "en",
   "targetLang": "fr",
   "useGoogleTranslate": true
  },
  "toc": {
   "base_numbering": 1,
   "nav_menu": {},
   "number_sections": true,
   "sideBar": true,
   "skip_h1_title": false,
   "title_cell": "Table of Contents",
   "title_sidebar": "Contents",
   "toc_cell": true,
   "toc_position": {},
   "toc_section_display": true,
   "toc_window_display": false
  },
  "varInspector": {
   "cols": {
    "lenName": 16,
    "lenType": 16,
    "lenVar": 40
   },
   "kernels_config": {
    "python": {
     "delete_cmd_postfix": "",
     "delete_cmd_prefix": "del ",
     "library": "var_list.py",
     "varRefreshCmd": "print(var_dic_list())"
    },
    "r": {
     "delete_cmd_postfix": ") ",
     "delete_cmd_prefix": "rm(",
     "library": "var_list.r",
     "varRefreshCmd": "cat(var_dic_list()) "
    }
   },
   "types_to_exclude": [
    "module",
    "function",
    "builtin_function_or_method",
    "instance",
    "_Feature"
   ],
   "window_display": false
  }
 },
 "nbformat": 4,
 "nbformat_minor": 2
}
