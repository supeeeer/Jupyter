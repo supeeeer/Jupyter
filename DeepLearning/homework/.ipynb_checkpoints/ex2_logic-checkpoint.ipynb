{
 "cells": [
  {
   "cell_type": "markdown",
   "metadata": {
    "toc": true
   },
   "source": [
    "<h1>Table of Contents<span class=\"tocSkip\"></span></h1>\n",
    "<div class=\"toc\"><ul class=\"toc-item\"><li><span><a href=\"#导入数据\" data-toc-modified-id=\"导入数据-1\"><span class=\"toc-item-num\">1&nbsp;&nbsp;</span>导入数据</a></span></li><li><span><a href=\"#模型函数\" data-toc-modified-id=\"模型函数-2\"><span class=\"toc-item-num\">2&nbsp;&nbsp;</span>模型函数</a></span><ul class=\"toc-item\"><li><span><a href=\"#假设函数-+-Sigmoid\" data-toc-modified-id=\"假设函数-+-Sigmoid-2.1\"><span class=\"toc-item-num\">2.1&nbsp;&nbsp;</span>假设函数 + Sigmoid</a></span></li><li><span><a href=\"#代价函数\" data-toc-modified-id=\"代价函数-2.2\"><span class=\"toc-item-num\">2.2&nbsp;&nbsp;</span>代价函数</a></span></li><li><span><a href=\"#梯度下降函数\" data-toc-modified-id=\"梯度下降函数-2.3\"><span class=\"toc-item-num\">2.3&nbsp;&nbsp;</span>梯度下降函数</a></span></li></ul></li><li><span><a href=\"#训练参数\" data-toc-modified-id=\"训练参数-3\"><span class=\"toc-item-num\">3&nbsp;&nbsp;</span>训练参数</a></span><ul class=\"toc-item\"><li><span><a href=\"#数据处理\" data-toc-modified-id=\"数据处理-3.1\"><span class=\"toc-item-num\">3.1&nbsp;&nbsp;</span>数据处理</a></span></li><li><span><a href=\"#SciPy's-truncated-newton（TNC）寻找最优参数\" data-toc-modified-id=\"SciPy's-truncated-newton（TNC）寻找最优参数-3.2\"><span class=\"toc-item-num\">3.2&nbsp;&nbsp;</span>SciPy's truncated newton（TNC）寻找最优参数</a></span></li></ul></li><li><span><a href=\"#检测准确度\" data-toc-modified-id=\"检测准确度-4\"><span class=\"toc-item-num\">4&nbsp;&nbsp;</span>检测准确度</a></span><ul class=\"toc-item\"><li><span><a href=\"#规定预测\" data-toc-modified-id=\"规定预测-4.1\"><span class=\"toc-item-num\">4.1&nbsp;&nbsp;</span>规定预测</a></span></li><li><span><a href=\"#判断训练集准确度\" data-toc-modified-id=\"判断训练集准确度-4.2\"><span class=\"toc-item-num\">4.2&nbsp;&nbsp;</span>判断训练集准确度</a></span></li></ul></li></ul></div>"
   ]
  },
  {
   "cell_type": "markdown",
   "metadata": {},
   "source": [
    "<img src='img/logic_one.jpg' width=600>"
   ]
  },
  {
   "cell_type": "code",
   "execution_count": 53,
   "metadata": {},
   "outputs": [],
   "source": [
    "import numpy as np\n",
    "import pandas as pd\n",
    "import matplotlib.pyplot as plt\n",
    "\n",
    "\n",
    "plt.rcParams['figure.figsize'] = (12.0, 8.0)"
   ]
  },
  {
   "cell_type": "markdown",
   "metadata": {},
   "source": [
    "# 导入数据"
   ]
  },
  {
   "cell_type": "code",
   "execution_count": 3,
   "metadata": {},
   "outputs": [
    {
     "data": {
      "text/html": [
       "<div>\n",
       "<style scoped>\n",
       "    .dataframe tbody tr th:only-of-type {\n",
       "        vertical-align: middle;\n",
       "    }\n",
       "\n",
       "    .dataframe tbody tr th {\n",
       "        vertical-align: top;\n",
       "    }\n",
       "\n",
       "    .dataframe thead th {\n",
       "        text-align: right;\n",
       "    }\n",
       "</style>\n",
       "<table border=\"1\" class=\"dataframe\">\n",
       "  <thead>\n",
       "    <tr style=\"text-align: right;\">\n",
       "      <th></th>\n",
       "      <th>Exam 1</th>\n",
       "      <th>Exam 2</th>\n",
       "      <th>Admitted</th>\n",
       "    </tr>\n",
       "  </thead>\n",
       "  <tbody>\n",
       "    <tr>\n",
       "      <th>0</th>\n",
       "      <td>34.623660</td>\n",
       "      <td>78.024693</td>\n",
       "      <td>0</td>\n",
       "    </tr>\n",
       "    <tr>\n",
       "      <th>1</th>\n",
       "      <td>30.286711</td>\n",
       "      <td>43.894998</td>\n",
       "      <td>0</td>\n",
       "    </tr>\n",
       "    <tr>\n",
       "      <th>2</th>\n",
       "      <td>35.847409</td>\n",
       "      <td>72.902198</td>\n",
       "      <td>0</td>\n",
       "    </tr>\n",
       "    <tr>\n",
       "      <th>3</th>\n",
       "      <td>60.182599</td>\n",
       "      <td>86.308552</td>\n",
       "      <td>1</td>\n",
       "    </tr>\n",
       "    <tr>\n",
       "      <th>4</th>\n",
       "      <td>79.032736</td>\n",
       "      <td>75.344376</td>\n",
       "      <td>1</td>\n",
       "    </tr>\n",
       "  </tbody>\n",
       "</table>\n",
       "</div>"
      ],
      "text/plain": [
       "      Exam 1     Exam 2  Admitted\n",
       "0  34.623660  78.024693         0\n",
       "1  30.286711  43.894998         0\n",
       "2  35.847409  72.902198         0\n",
       "3  60.182599  86.308552         1\n",
       "4  79.032736  75.344376         1"
      ]
     },
     "execution_count": 3,
     "metadata": {},
     "output_type": "execute_result"
    }
   ],
   "source": [
    "path = 'data/ex2data1.txt'\n",
    "data = pd.read_csv(path,header=None,names=['Exam 1', 'Exam 2', 'Admitted'])\n",
    "data.head()"
   ]
  },
  {
   "cell_type": "code",
   "execution_count": 17,
   "metadata": {
    "cell_style": "center"
   },
   "outputs": [
    {
     "data": {
      "image/png": "[encoded data removed]",
      "text/plain": [
       "<Figure size 864x576 with 1 Axes>"
      ]
     },
     "metadata": {
      "needs_background": "light"
     },
     "output_type": "display_data"
    }
   ],
   "source": [
    "positive = data[data['Admitted'].isin([1])]\n",
    "negative = data[data['Admitted'].isin([0])]\n",
    "\n",
    "fig, ax = plt.subplots(figsize=(12,8))\n",
    "ax.scatter(positive['Exam 1'], positive['Exam 2'], s=50, c='b', marker='o', label='Admitted')\n",
    "ax.scatter(negative['Exam 1'], negative['Exam 2'], s=50, c='r', marker='x', label='Not Admitted')\n",
    "ax.legend()\n",
    "ax.set_xlabel('Exam 1 Score')\n",
    "ax.set_ylabel('Exam 2 Score')\n",
    "plt.show()"
   ]
  },
  {
   "cell_type": "markdown",
   "metadata": {},
   "source": [
    "# 模型函数"
   ]
  },
  {
   "cell_type": "markdown",
   "metadata": {
    "cell_style": "split"
   },
   "source": [
    "## 假设函数 + Sigmoid\n",
    "假设函数 (-∞，+∞)：$$z = {\\theta^T}x={\\theta_0}+{\\theta_1 x_1}+...+{\\theta_i x_i} $$\n",
    "\n",
    "经过sigmoid (0，1)：\n",
    "$$ {h_\\theta}\\left({x} \\right) = g\\left( z \\right)=\\frac{1}{1+{e^{-z}}} $$\n",
    "最终输出sigmoid值，可看做是录取概率\n"
   ]
  },
  {
   "cell_type": "code",
   "execution_count": 33,
   "metadata": {
    "cell_style": "split"
   },
   "outputs": [
    {
     "data": {
      "image/png": "[encoded data removed]",
      "text/plain": [
       "<Figure size 864x576 with 1 Axes>"
      ]
     },
     "metadata": {
      "needs_background": "light"
     },
     "output_type": "display_data"
    }
   ],
   "source": [
    "x = np.linspace(-10,10,100)\n",
    "y = 1 / (1 + np.exp(-x))\n",
    "\n",
    "ax = plt.gca()\n",
    "plt.title('sigmoid function')\n",
    "ax.spines['left'].set_position(('data',0))\n",
    "ax.spines['bottom'].set_position(('data',0))\n",
    "ax.spines['top'].set_color('none')\n",
    "ax.spines['right'].set_color('none')\n",
    "fig = plt.plot(x,y)"
   ]
  },
  {
   "cell_type": "code",
   "execution_count": 18,
   "metadata": {},
   "outputs": [],
   "source": [
    "def sigmoid(z):\n",
    "    return 1 / (1 + np.exp(-z))"
   ]
  },
  {
   "cell_type": "markdown",
   "metadata": {},
   "source": [
    "## 代价函数\n",
    "$$J\\left( \\theta  \\right)=\\frac{1}{m}\\sum\\limits_{i=1}^{m}{[-{y^{(i)}}\\log \\left( {h_\\theta }\\left( {x^{(i)}} \\right) \\right)-\\left( 1-{y^{(i)}} \\right)\\log \\left( 1-{h_\\theta }\\left( {x^{(i)}} \\right) \\right)]}$$"
   ]
  },
  {
   "cell_type": "code",
   "execution_count": 63,
   "metadata": {},
   "outputs": [],
   "source": [
    "def cost(theta, x, y):\n",
    "    theta = np.matrix(theta)        # 转换成矩阵\n",
    "    x = np.matrix(x)\n",
    "    y = np.matrix(y)\n",
    "    \n",
    "    first = np.multiply(-y, np.log(sigmoid(x * theta.T)))\n",
    "    second = np.multiply((1-y),np.log(1-sigmoid(x * theta.T)))\n",
    "    return np.sum(first - second) / len(x)"
   ]
  },
  {
   "cell_type": "markdown",
   "metadata": {},
   "source": [
    "## 梯度下降函数\n",
    "$$ \\frac{\\partial J\\left( \\theta  \\right)}{\\partial {\\theta _j}}=\\frac{1}{m}\\sum\\limits_{i=1}^{m}{({h_\\theta }\\left( {x^{(i)}} \\right)-{y^{(i)}})x_{j}^{(i)}} $$"
   ]
  },
  {
   "cell_type": "code",
   "execution_count": 56,
   "metadata": {},
   "outputs": [],
   "source": [
    "# 计算一次梯度下降\n",
    "def gradient(theta, x, y):\n",
    "    theta = np.matrix(theta)\n",
    "    x = np.matrix(x)\n",
    "    y = np.matrix(y)\n",
    "    \n",
    "    paras = int(theta.ravel().shape[1])         # 参数个数\n",
    "    grad = np.zeros(paras)                      # 初始化参数，无法多次分开训练？？？\n",
    "    \n",
    "    error = sigmoid(x * theta.T) - y            # error值\n",
    "    \n",
    "    for i in range(paras):                      # 对每个参数修正\n",
    "        inner = np.multiply(error, x[:,i])\n",
    "        grad[i] = np.sum(inner) / len(x)\n",
    "        \n",
    "    return grad\n",
    "        "
   ]
  },
  {
   "cell_type": "markdown",
   "metadata": {},
   "source": [
    "# 训练参数"
   ]
  },
  {
   "cell_type": "markdown",
   "metadata": {},
   "source": [
    "## 数据处理"
   ]
  },
  {
   "cell_type": "code",
   "execution_count": 48,
   "metadata": {},
   "outputs": [
    {
     "name": "stdout",
     "output_type": "stream",
     "text": [
      "(100, 3) (1, 3) (100, 1)\n"
     ]
    }
   ],
   "source": [
    "# data.insert(0,'Ones', 1)\n",
    "\n",
    "cols = data.shape[1]\n",
    "x = data.iloc[:, 0:cols-1]\n",
    "y = data.iloc[:, cols-1:cols]\n",
    "\n",
    "x = np.mat(x.values)                # pandas.DataFrame → numpy.matrix\n",
    "y = np.mat(y.values)\n",
    "theta = np.mat([0, 0, 0])\n",
    "\n",
    "print(x.shape, theta.shape, y.shape)"
   ]
  },
  {
   "cell_type": "markdown",
   "metadata": {},
   "source": [
    "## SciPy's truncated newton（TNC）寻找最优参数\n",
    "`theta, nfeval, rc = scipy.optimize.fmin_tnc(func, x0, fprime=None, args=(), approx_grad=0)`\n",
    "\n",
    "- func：优化的目标函数\n",
    "- x0：初值\n",
    "- fprime：优化函数func的梯度函数\n",
    "- approx_grad :如果设置为True，会给出近似梯度\n",
    "- args：元组，传递给优化函数的参数\n",
    "\n",
    "return:\n",
    "\n",
    "- theta ： 数组，返回的优化问题目标值\n",
    "\n",
    "- nfeval ： 整数，function evaluations的数目\n",
    "    - 目标优化函数被调用一次，就算一个function evaluation。在一次迭代过程中会有多次function evaluation。这个参数不等同于迭代次数，而往往大于迭代次数。\n",
    "\n",
    "- rc ： int,Return code"
   ]
  },
  {
   "cell_type": "code",
   "execution_count": 68,
   "metadata": {},
   "outputs": [
    {
     "data": {
      "text/plain": [
       "(array([-25.16131863,   0.20623159,   0.20147149]), 36, 0)"
      ]
     },
     "execution_count": 68,
     "metadata": {},
     "output_type": "execute_result"
    }
   ],
   "source": [
    "import scipy.optimize as opt\n",
    "\n",
    "result = opt.fmin_tnc(func=cost, x0=theta, fprime=gradient, args=(x, y))\n",
    "result"
   ]
  },
  {
   "cell_type": "code",
   "execution_count": 69,
   "metadata": {},
   "outputs": [
    {
     "data": {
      "text/plain": [
       "0.20349770158947458"
      ]
     },
     "execution_count": 69,
     "metadata": {},
     "output_type": "execute_result"
    }
   ],
   "source": [
    "cost(result[0], x, y)"
   ]
  },
  {
   "cell_type": "markdown",
   "metadata": {},
   "source": [
    "# 检测准确度\n"
   ]
  },
  {
   "cell_type": "markdown",
   "metadata": {},
   "source": [
    "## 规定预测\n",
    "假设函数 (输出录取的概率)：$${h_\\theta}\\left( x \\right)=\\frac{1}{1+{e^{-\\theta^T X}}}$$\n",
    "\n",
    "规定：\n",
    " - 当${{h}_\\theta ≥0.5}$时，预测 y=1\n",
    "\n",
    " - 当${{h}_\\theta＜0.5}$时，预测 y=0 "
   ]
  },
  {
   "cell_type": "code",
   "execution_count": 71,
   "metadata": {},
   "outputs": [],
   "source": [
    "def predict(theta, X):\n",
    "    probability = sigmoid(X * theta.T)\n",
    "    return [1 if x >= 0.5 else 0 for x in probability]"
   ]
  },
  {
   "cell_type": "markdown",
   "metadata": {},
   "source": [
    "## 判断训练集准确度"
   ]
  },
  {
   "cell_type": "code",
   "execution_count": 77,
   "metadata": {},
   "outputs": [
    {
     "name": "stdout",
     "output_type": "stream",
     "text": [
      "accuracy = 89%\n"
     ]
    }
   ],
   "source": [
    "theta = np.matrix(result[0])\n",
    "predictions = predict(theta, x)\n",
    "correct = [1 if ((a == 1 and b == 1) or (a == 0 and b == 0)) else 0 \n",
    "           for (a, b) in zip(predictions, y)]\n",
    "accuracy = (sum(correct) % len(correct))\n",
    "print ('accuracy = {0}%'.format(accuracy))"
   ]
  }
 ],
 "metadata": {
  "hide_input": false,
  "kernelspec": {
   "display_name": "Python 3",
   "language": "python",
   "name": "python3"
  },
  "language_info": {
   "codemirror_mode": {
    "name": "ipython",
    "version": 3
   },
   "file_extension": ".py",
   "mimetype": "text/x-python",
   "name": "python",
   "nbconvert_exporter": "python",
   "pygments_lexer": "ipython3",
   "version": "3.7.3"
  },
  "latex_envs": {
   "LaTeX_envs_menu_present": true,
   "autoclose": true,
   "autocomplete": true,
   "bibliofile": "biblio.bib",
   "cite_by": "apalike",
   "current_citInitial": 1,
   "eqLabelWithNumbers": true,
   "eqNumInitial": 1,
   "hotkeys": {
    "equation": "Ctrl-E",
    "itemize": "Ctrl-I"
   },
   "labels_anchors": false,
   "latex_user_defs": false,
   "report_style_numbering": false,
   "user_envs_cfg": false
  },
  "nbTranslate": {
   "displayLangs": [
    "*"
   ],
   "hotkey": "alt-t",
   "langInMainMenu": true,
   "sourceLang": "en",
   "targetLang": "fr",
   "useGoogleTranslate": true
  },
  "toc": {
   "base_numbering": 1,
   "nav_menu": {},
   "number_sections": true,
   "sideBar": true,
   "skip_h1_title": false,
   "title_cell": "Table of Contents",
   "title_sidebar": "Contents",
   "toc_cell": true,
   "toc_position": {
    "height": "641px",
    "left": "47px",
    "top": "110px",
    "width": "288px"
   },
   "toc_section_display": true,
   "toc_window_display": false
  },
  "varInspector": {
   "cols": {
    "lenName": 16,
    "lenType": 16,
    "lenVar": 40
   },
   "kernels_config": {
    "python": {
     "delete_cmd_postfix": "",
     "delete_cmd_prefix": "del ",
     "library": "var_list.py",
     "varRefreshCmd": "print(var_dic_list())"
    },
    "r": {
     "delete_cmd_postfix": ") ",
     "delete_cmd_prefix": "rm(",
     "library": "var_list.r",
     "varRefreshCmd": "cat(var_dic_list()) "
    }
   },
   "types_to_exclude": [
    "module",
    "function",
    "builtin_function_or_method",
    "instance",
    "_Feature"
   ],
   "window_display": false
  }
 },
 "nbformat": 4,
 "nbformat_minor": 2
}
