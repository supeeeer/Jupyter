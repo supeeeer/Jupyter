{
 "cells": [
  {
   "cell_type": "markdown",
   "metadata": {
    "toc": true
   },
   "source": [
    "<h1>Table of Contents<span class=\"tocSkip\"></span></h1>\n",
    "<div class=\"toc\"><ul class=\"toc-item\"><li><span><a href=\"#导入数据\" data-toc-modified-id=\"导入数据-1\"><span class=\"toc-item-num\">1&nbsp;&nbsp;</span>导入数据</a></span></li><li><span><a href=\"#模型提出\" data-toc-modified-id=\"模型提出-2\"><span class=\"toc-item-num\">2&nbsp;&nbsp;</span>模型提出</a></span><ul class=\"toc-item\"><li><span><a href=\"#逻辑回归模型的假设函数\" data-toc-modified-id=\"逻辑回归模型的假设函数-2.1\"><span class=\"toc-item-num\">2.1&nbsp;&nbsp;</span>逻辑回归模型的假设函数</a></span></li><li><span><a href=\"#代价函数\" data-toc-modified-id=\"代价函数-2.2\"><span class=\"toc-item-num\">2.2&nbsp;&nbsp;</span>代价函数</a></span></li><li><span><a href=\"#梯度下降\" data-toc-modified-id=\"梯度下降-2.3\"><span class=\"toc-item-num\">2.3&nbsp;&nbsp;</span>梯度下降</a></span></li><li><span><a href=\"#多分类器(o-v-r-svms)\" data-toc-modified-id=\"多分类器(o-v-r-svms)-2.4\"><span class=\"toc-item-num\">2.4&nbsp;&nbsp;</span>多分类器(o-v-r svms)</a></span></li></ul></li><li><span><a href=\"#训练参数\" data-toc-modified-id=\"训练参数-3\"><span class=\"toc-item-num\">3&nbsp;&nbsp;</span>训练参数</a></span><ul class=\"toc-item\"><li><span><a href=\"#检查各个数据\" data-toc-modified-id=\"检查各个数据-3.1\"><span class=\"toc-item-num\">3.1&nbsp;&nbsp;</span>检查各个数据</a></span></li><li><span><a href=\"#训练分类器\" data-toc-modified-id=\"训练分类器-3.2\"><span class=\"toc-item-num\">3.2&nbsp;&nbsp;</span>训练分类器</a></span></li></ul></li><li><span><a href=\"#预测标签\" data-toc-modified-id=\"预测标签-4\"><span class=\"toc-item-num\">4&nbsp;&nbsp;</span>预测标签</a></span></li></ul></div>"
   ]
  },
  {
   "cell_type": "code",
   "execution_count": 1,
   "metadata": {},
   "outputs": [],
   "source": [
    "import numpy as np\n",
    "import pandas as pd\n",
    "import matplotlib.pyplot as plt\n",
    "from scipy.optimize import minimize\n",
    "from scipy.io import loadmat            # 将MATLAB的本机格式加载到Python"
   ]
  },
  {
   "cell_type": "markdown",
   "metadata": {},
   "source": [
    "# 导入数据"
   ]
  },
  {
   "cell_type": "code",
   "execution_count": 2,
   "metadata": {
    "cell_style": "split"
   },
   "outputs": [
    {
     "data": {
      "text/plain": [
       "{'__header__': b'MATLAB 5.0 MAT-file, Platform: GLNXA64, Created on: Sun Oct 16 13:09:09 2011',\n",
       " '__version__': '1.0',\n",
       " '__globals__': [],\n",
       " 'X': array([[0., 0., 0., ..., 0., 0., 0.],\n",
       "        [0., 0., 0., ..., 0., 0., 0.],\n",
       "        [0., 0., 0., ..., 0., 0., 0.],\n",
       "        ...,\n",
       "        [0., 0., 0., ..., 0., 0., 0.],\n",
       "        [0., 0., 0., ..., 0., 0., 0.],\n",
       "        [0., 0., 0., ..., 0., 0., 0.]]),\n",
       " 'y': array([[10],\n",
       "        [10],\n",
       "        [10],\n",
       "        ...,\n",
       "        [ 9],\n",
       "        [ 9],\n",
       "        [ 9]], dtype=uint8)}"
      ]
     },
     "execution_count": 2,
     "metadata": {},
     "output_type": "execute_result"
    }
   ],
   "source": [
    "path = 'data/ex3data1.mat'\n",
    "data = loadmat(path)\n",
    "data"
   ]
  },
  {
   "cell_type": "code",
   "execution_count": 3,
   "metadata": {
    "cell_style": "split"
   },
   "outputs": [
    {
     "name": "stdout",
     "output_type": "stream",
     "text": [
      "(5000, 400) (5000, 1)\n"
     ]
    }
   ],
   "source": [
    "print(data['X'].shape, data['y'].shape)\n",
    "\n",
    "x, y = data['X'], data['y']"
   ]
  },
  {
   "cell_type": "markdown",
   "metadata": {
    "cell_style": "split"
   },
   "source": [
    "x：400维“特征”是原始20 x 20图像中每个像素的灰度强度\n",
    "\n",
    "y：10个数字类\n",
    "\n",
    "一共有5000个样本\n"
   ]
  },
  {
   "cell_type": "markdown",
   "metadata": {},
   "source": [
    "# 模型提出"
   ]
  },
  {
   "cell_type": "markdown",
   "metadata": {
    "cell_style": "split"
   },
   "source": [
    "## 逻辑回归模型的假设函数\n",
    "\n",
    "sigmoid：$$g\\left( z \\right)=\\frac{1}{1+{e^{-z}}}$$\n",
    "\n",
    "合并后：$${h_\\theta }\\left( x \\right)=\\frac{1}{1+{e^{-{\\theta ^T}X}}}$$"
   ]
  },
  {
   "cell_type": "code",
   "execution_count": 4,
   "metadata": {
    "cell_style": "split"
   },
   "outputs": [],
   "source": [
    "def sigmoid(z):\n",
    "    return 1 / (1 + np.exp(-z))\n",
    "\n",
    "def hyper(x, theta):\n",
    "    x = np.mat(x)\n",
    "    theta = np.mat(theta)\n",
    "    \n",
    "    temp = x * theta.T\n",
    "    return sigmoid(temp)"
   ]
  },
  {
   "cell_type": "markdown",
   "metadata": {
    "cell_style": "center"
   },
   "source": [
    "## 代价函数\n",
    "$$J\\left( \\theta  \\right)=\\frac{1}{m}\\sum\\limits_{i=1}^{m}{[-{y^{(i)}}\\log \\left( {h_\\theta }\\left( {x^{(i)}} \\right) \\right)-\\left( 1-{y^{(i)}} \\right)\\log \\left( 1-{h_\\theta }\\left( {x^{(i)}} \\right) \\right)]}+\\frac{\\lambda }{2m}\\sum\\limits_{j=1}^n{\\theta _j^2}$$"
   ]
  },
  {
   "cell_type": "code",
   "execution_count": 5,
   "metadata": {},
   "outputs": [],
   "source": [
    "def cost(theta, x, y, learningRate):\n",
    "    theta = np.matrix(theta)\n",
    "    x = np.matrix(x)\n",
    "    y = np.matrix(y)\n",
    "    \n",
    "    first = (-y).T * np.log(hyper(x, theta))\n",
    "    second = (1-y).T * np.log(1-hyper(x,theta))\n",
    "    left = (1/len(x))*(first - second)\n",
    "    reg = (learningRate / (2*len(x))) * (np.sum(np.power(theta[:, 1:theta.shape[1]], 2)))\n",
    "    \n",
    "    return left+reg"
   ]
  },
  {
   "cell_type": "markdown",
   "metadata": {
    "cell_style": "split"
   },
   "source": [
    "## 梯度下降\n",
    "\\begin{align}\n",
    "  & Repeat\\text{ }until\\text{ }convergence\\text{ }\\!\\!\\{\\!\\!\\text{ } \\\\ \n",
    " & \\text{     }{\\theta _0}:={\\theta _0}-a\\frac{1}{m}\\sum\\limits_{i=1}^{m}{[{h_\\theta }\\left( {x^{(i)}} \\right)-{y^{(i)}}]x_{_0}^{(i)}} \\\\ \n",
    " & \\text{     }{\\theta _j}:={\\theta _j}-a\\frac{1}{m}\\sum\\limits_{i=1}^{m}{[{h_\\theta }\\left( {x^{(i)}} \\right)-{y^{(i)}}]x_{j}^{(i)}}+\\frac{\\lambda }{m}{\\theta _j} \\\\ \n",
    " & \\text{          }\\!\\!\\}\\!\\!\\text{ } \\\\ \n",
    " & Repeat \\\\ \n",
    "\\end{align}"
   ]
  },
  {
   "cell_type": "code",
   "execution_count": 6,
   "metadata": {
    "cell_style": "center"
   },
   "outputs": [],
   "source": [
    "def gradient(theta, x, y, learningRate):\n",
    "    theta = np.matrix(theta)\n",
    "    x = np.matrix(x)\n",
    "    y = np.matrix(y)\n",
    "    \n",
    "    error = hyper(theta, x) - y.T\n",
    "    dtheta =  (error.reshape((1, 5000)) * x) / len(x)\n",
    "#     print(dtheta[2, :])\n",
    "    dtheta[1:] += (learningRate / len(x)) * theta[1:]\n",
    "#     print(dtheta[2, :])\n",
    "    return dtheta"
   ]
  },
  {
   "cell_type": "markdown",
   "metadata": {},
   "source": [
    "## 多分类器(o-v-r svms)\n",
    "逻辑回归只能一次在2个类之间进行分类，所以要使用多个分类器\n",
    "\n",
    "**一对一全分类**：\n",
    "- 具有k个不同标签就有k个分类器，每个分类器在 “是 i” 和 “不是 i” 之间决定\n",
    "- 计算k个分类器的最终权重，并将权重返回为k *（n + 1）数组\n",
    "- 独立训练k个分类器，每次都使用全部的训练集训练"
   ]
  },
  {
   "cell_type": "code",
   "execution_count": 7,
   "metadata": {},
   "outputs": [],
   "source": [
    "def one_vs_all(x, y, num_labels, learning_rate):\n",
    "    rows = x.shape[0]\n",
    "    x = np.insert(x, 0, values=np.ones(rows), axis=1)     # x = (5000, 401)\n",
    "    params = x.shape[1]\n",
    "    all_theta = np.zeros((num_labels, params))            # w[1] = (10, 401)\n",
    "    \n",
    "    # 独立训练每个分类器\n",
    "    for i in range(1, num_labels+1):\n",
    "        theta = np.mat(np.zeros(params))\n",
    "        y_i = np.array([1 if ylabel==i else 0 for ylabel in y])            # 修改y值，变为0、1\n",
    "        y_i = y_i.reshape(rows, 1)                        # y = (5000, 1)\n",
    "        \n",
    "        fmin = minimize(fun=cost, x0=theta, args=(x, y_i, learning_rate), method='TNC', jac=gradient)                        # 最小化cost\n",
    "        all_theta[i-1, :] = fmin.x\n",
    "        \n",
    "    return all_theta\n",
    "    "
   ]
  },
  {
   "cell_type": "markdown",
   "metadata": {},
   "source": [
    "# 训练参数"
   ]
  },
  {
   "cell_type": "markdown",
   "metadata": {},
   "source": [
    "## 检查各个数据"
   ]
  },
  {
   "cell_type": "code",
   "execution_count": 10,
   "metadata": {
    "cell_style": "split"
   },
   "outputs": [
    {
     "data": {
      "text/plain": [
       "((5000, 401), (5000, 1), (401,), (10, 401))"
      ]
     },
     "execution_count": 10,
     "metadata": {},
     "output_type": "execute_result"
    }
   ],
   "source": [
    "# 检查维度\n",
    "rows = data['X'].shape[0]\n",
    "params = data['X'].shape[1]\n",
    "\n",
    "all_theta = np.zeros((10, params + 1))\n",
    "\n",
    "X = np.insert(data['X'], 0, values=np.ones(rows), axis=1)\n",
    "\n",
    "# 两者效果一样\n",
    "theta = np.zeros(params + 1)\n",
    "theta = np.random.randn(params+1)\n",
    "\n",
    "y_0 = np.array([1 if label == 0 else 0 for label in data['y']])\n",
    "y_0 = np.reshape(y_0, (rows, 1))\n",
    "\n",
    "X.shape, y_0.shape, theta.shape, all_theta.shape"
   ]
  },
  {
   "cell_type": "code",
   "execution_count": 11,
   "metadata": {
    "cell_style": "split"
   },
   "outputs": [
    {
     "data": {
      "text/plain": [
       "array([ 1,  2,  3,  4,  5,  6,  7,  8,  9, 10], dtype=uint8)"
      ]
     },
     "execution_count": 11,
     "metadata": {},
     "output_type": "execute_result"
    }
   ],
   "source": [
    "# 检查标签数\n",
    "np.unique(data['y'])"
   ]
  },
  {
   "cell_type": "markdown",
   "metadata": {},
   "source": [
    "## 训练分类器"
   ]
  },
  {
   "cell_type": "code",
   "execution_count": 12,
   "metadata": {},
   "outputs": [
    {
     "data": {
      "text/plain": [
       "array([[-1.78831929e+00,  0.00000000e+00,  0.00000000e+00, ...,\n",
       "         1.07814846e-03,  2.85950101e-07,  0.00000000e+00],\n",
       "       [-3.56264869e+00,  0.00000000e+00,  0.00000000e+00, ...,\n",
       "         4.69143541e-03, -5.41439968e-04,  0.00000000e+00],\n",
       "       [-4.97162876e+00,  0.00000000e+00,  0.00000000e+00, ...,\n",
       "        -3.36285069e-05,  3.24337895e-07,  0.00000000e+00],\n",
       "       ...,\n",
       "       [-8.91481040e+00,  0.00000000e+00,  0.00000000e+00, ...,\n",
       "        -1.12925858e-04,  9.03523844e-06,  0.00000000e+00],\n",
       "       [-4.88454791e+00,  0.00000000e+00,  0.00000000e+00, ...,\n",
       "        -5.55402245e-04,  3.69050052e-05,  0.00000000e+00],\n",
       "       [-4.07194160e+00,  0.00000000e+00,  0.00000000e+00, ...,\n",
       "         5.16413667e-04,  1.48344669e-05,  0.00000000e+00]])"
      ]
     },
     "execution_count": 12,
     "metadata": {},
     "output_type": "execute_result"
    }
   ],
   "source": [
    "all_theta = one_vs_all(data['X'], data['y'], 10, 1)\n",
    "all_theta"
   ]
  },
  {
   "cell_type": "markdown",
   "metadata": {},
   "source": [
    "# 预测标签\n",
    "计算每个类的类概率，并输出类标签为具有最高概率的类\n"
   ]
  },
  {
   "cell_type": "code",
   "execution_count": 13,
   "metadata": {},
   "outputs": [],
   "source": [
    "def predict_all(X, all_theta):\n",
    "    rows = X.shape[0]\n",
    "    params = X.shape[1]\n",
    "    num_labels = all_theta.shape[0]\n",
    "    \n",
    "    # same as before, insert ones to match the shape\n",
    "    X = np.insert(X, 0, values=np.ones(rows), axis=1)\n",
    "    \n",
    "    # convert to matrices\n",
    "    X = np.matrix(X)\n",
    "    all_theta = np.matrix(all_theta)\n",
    "    \n",
    "    # compute the class probability for each class on each training instance\n",
    "    h = sigmoid(X * all_theta.T)\n",
    "    \n",
    "    # create array of the index with the maximum probability\n",
    "    h_argmax = np.argmax(h, axis=1)\n",
    "    \n",
    "    # because our array was zero-indexed we need to add one for the true label prediction\n",
    "    h_argmax = h_argmax + 1\n",
    "    \n",
    "    return h_argmax"
   ]
  },
  {
   "cell_type": "code",
   "execution_count": 14,
   "metadata": {},
   "outputs": [
    {
     "name": "stdout",
     "output_type": "stream",
     "text": [
      "accuracy = 94.42%\n"
     ]
    }
   ],
   "source": [
    "y_pred = predict_all(data['X'], all_theta)\n",
    "correct = [1 if a == b else 0 for (a, b) in zip(y_pred, data['y'])]\n",
    "accuracy = (sum(map(int, correct)) / float(len(correct)))\n",
    "print ('accuracy = {0}%'.format(accuracy * 100))"
   ]
  },
  {
   "cell_type": "code",
   "execution_count": null,
   "metadata": {},
   "outputs": [],
   "source": []
  }
 ],
 "metadata": {
  "hide_input": false,
  "kernelspec": {
   "display_name": "Python 3",
   "language": "python",
   "name": "python3"
  },
  "language_info": {
   "codemirror_mode": {
    "name": "ipython",
    "version": 3
   },
   "file_extension": ".py",
   "mimetype": "text/x-python",
   "name": "python",
   "nbconvert_exporter": "python",
   "pygments_lexer": "ipython3",
   "version": "3.7.3"
  },
  "latex_envs": {
   "LaTeX_envs_menu_present": true,
   "autoclose": true,
   "autocomplete": true,
   "bibliofile": "biblio.bib",
   "cite_by": "apalike",
   "current_citInitial": 1,
   "eqLabelWithNumbers": true,
   "eqNumInitial": 1,
   "hotkeys": {
    "equation": "Ctrl-E",
    "itemize": "Ctrl-I"
   },
   "labels_anchors": false,
   "latex_user_defs": false,
   "report_style_numbering": false,
   "user_envs_cfg": false
  },
  "nbTranslate": {
   "displayLangs": [
    "*"
   ],
   "hotkey": "alt-t",
   "langInMainMenu": true,
   "sourceLang": "en",
   "targetLang": "fr",
   "useGoogleTranslate": true
  },
  "toc": {
   "base_numbering": 1,
   "nav_menu": {},
   "number_sections": true,
   "sideBar": true,
   "skip_h1_title": false,
   "title_cell": "Table of Contents",
   "title_sidebar": "Contents",
   "toc_cell": true,
   "toc_position": {},
   "toc_section_display": true,
   "toc_window_display": false
  },
  "varInspector": {
   "cols": {
    "lenName": 16,
    "lenType": 16,
    "lenVar": 40
   },
   "kernels_config": {
    "python": {
     "delete_cmd_postfix": "",
     "delete_cmd_prefix": "del ",
     "library": "var_list.py",
     "varRefreshCmd": "print(var_dic_list())"
    },
    "r": {
     "delete_cmd_postfix": ") ",
     "delete_cmd_prefix": "rm(",
     "library": "var_list.r",
     "varRefreshCmd": "cat(var_dic_list()) "
    }
   },
   "types_to_exclude": [
    "module",
    "function",
    "builtin_function_or_method",
    "instance",
    "_Feature"
   ],
   "window_display": false
  }
 },
 "nbformat": 4,
 "nbformat_minor": 2
}
