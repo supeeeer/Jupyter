{
 "cells": [
  {
   "cell_type": "markdown",
   "metadata": {
    "toc": true
   },
   "source": [
    "<h1>Table of Contents<span class=\"tocSkip\"></span></h1>\n",
    "<div class=\"toc\"><ul class=\"toc-item\"><li><span><a href=\"#处理方法\" data-toc-modified-id=\"处理方法-1\"><span class=\"toc-item-num\">1&nbsp;&nbsp;</span>处理方法</a></span><ul class=\"toc-item\"><li><span><a href=\"#颜色处理\" data-toc-modified-id=\"颜色处理-1.1\"><span class=\"toc-item-num\">1.1&nbsp;&nbsp;</span>颜色处理</a></span></li><li><span><a href=\"#降噪\" data-toc-modified-id=\"降噪-1.2\"><span class=\"toc-item-num\">1.2&nbsp;&nbsp;</span>降噪</a></span></li><li><span><a href=\"#去除边框\" data-toc-modified-id=\"去除边框-1.3\"><span class=\"toc-item-num\">1.3&nbsp;&nbsp;</span>去除边框</a></span></li><li><span><a href=\"#字符切割\" data-toc-modified-id=\"字符切割-1.4\"><span class=\"toc-item-num\">1.4&nbsp;&nbsp;</span>字符切割</a></span></li></ul></li><li><span><a href=\"#图形ORC\" data-toc-modified-id=\"图形ORC-2\"><span class=\"toc-item-num\">2&nbsp;&nbsp;</span>图形ORC</a></span></li><li><span><a href=\"#识别库\" data-toc-modified-id=\"识别库-3\"><span class=\"toc-item-num\">3&nbsp;&nbsp;</span>识别库</a></span><ul class=\"toc-item\"><li><span><a href=\"#tesserocr\" data-toc-modified-id=\"tesserocr-3.1\"><span class=\"toc-item-num\">3.1&nbsp;&nbsp;</span>tesserocr</a></span></li></ul></li></ul></div>"
   ]
  },
  {
   "cell_type": "markdown",
   "metadata": {},
   "source": [
    "# 处理方法\n",
    "1. 灰度处理、二值化\n",
    "2. 去除边框（如果有的话）\n",
    "3. 降噪\n",
    "4. 切割字符或者倾斜度矫正\n",
    "5. 训练字体库\n",
    "6. 识别\n",
    "\n",
    "https://www.cnblogs.com/qqandfqr/p/7866650.html"
   ]
  },
  {
   "cell_type": "markdown",
   "metadata": {},
   "source": [
    "## 颜色处理\n",
    "- 灰度处理：把彩色的图片转为灰色的图片\n",
    "\n",
    "- 二值化：是将图片处理为只有黑白两色\n"
   ]
  },
  {
   "cell_type": "code",
   "execution_count": 22,
   "metadata": {
    "cell_style": "split"
   },
   "outputs": [],
   "source": [
    "# pillow\n",
    "from PIL import Image\n",
    "import numpy as np\n",
    "\n",
    "def get_binary_image(img_name):\n",
    "    img = Image.open(img_name)\n",
    "    img_mat = np.array(img)                           # 图片 → 矩阵\n",
    "    \n",
    "    img = img.convert('L')                 # 转变成灰度\n",
    "    \n",
    "    img_mat = (img_mat > 100) * 255        # 二值化（设置阈值100，大于的全变为白色）\n",
    "    \n",
    "    img = Image.fromarray(img_mat.astype('uint8'))    # 矩阵 → 图片\n",
    "    \n",
    "    return img"
   ]
  },
  {
   "cell_type": "code",
   "execution_count": 21,
   "metadata": {
    "cell_style": "split"
   },
   "outputs": [],
   "source": [
    "# cv\n",
    "def _get_dynamic_binary_image(filedir, img_name):\n",
    "    filename =   './out_img/' + img_name.split('.')[0] + '-binary.jpg'\n",
    "    img_name = filedir + '/' + img_name\n",
    "    print('.....' + img_name)\n",
    "    im = cv2.imread(img_name)\n",
    "    #灰值化\n",
    "    im = cv2.cvtColor(im,cv2.COLOR_BGR2GRAY) \n",
    "    # 二值化\n",
    "    th1 = cv2.adaptiveThreshold(im, 255, cv2.ADAPTIVE_THRESH_GAUSSIAN_C, cv2.THRESH_BINARY, 21, 1)\n",
    "    cv2.imwrite(filename,th1)\n",
    "    return th1"
   ]
  },
  {
   "cell_type": "markdown",
   "metadata": {},
   "source": [
    "## 降噪\n",
    "- 点降噪\n",
    "- 线降噪\n",
    "\n",
    "过程：检测这个点相邻的四个点，判断这四个点中是白点的个数，如果有两个以上的白色像素点，那么就认为这个点是白色的\n",
    "\n",
    "限制：如果干扰线特别粗就没有办法去除，只能去除细的干扰线"
   ]
  },
  {
   "cell_type": "code",
   "execution_count": 10,
   "metadata": {
    "cell_style": "center"
   },
   "outputs": [],
   "source": [
    "# 干扰线降噪\n",
    "def interference_line(img, img_name):\n",
    "    filename =  './out_img/' + img_name.split('.')[0] + '-interferenceline.jpg'\n",
    "    h, w = img.shape[:2]    # opencv矩阵点是反的\n",
    "    for y in range(1, w - 1):\n",
    "        for x in range(1, h - 1):\n",
    "            count = 0\n",
    "            if img[x, y - 1] > 245:\n",
    "                count = count + 1\n",
    "            if img[x, y + 1] > 245:\n",
    "                count = count + 1\n",
    "            if img[x - 1, y] > 245:\n",
    "                count = count + 1\n",
    "            if img[x + 1, y] > 245:\n",
    "                count = count + 1\n",
    "            if count > 2:\n",
    "                img[x, y] = 255\n",
    "    cv2.imwrite(filename,img)\n",
    "    return img"
   ]
  },
  {
   "cell_type": "markdown",
   "metadata": {},
   "source": [
    "## 去除边框\n",
    "去遍历像素点，找到四个边框上的所有点(宽度)，把他们都改为白色"
   ]
  },
  {
   "cell_type": "code",
   "execution_count": 9,
   "metadata": {},
   "outputs": [],
   "source": [
    "def clear_border(img,img_name):\n",
    "    filename = './out_img/' + img_name.split('.')[0] + '-clearBorder.jpg'\n",
    "    h, w = img.shape[:2]\n",
    "    \n",
    "    for y in range(0, w):\n",
    "        for x in range(0, h):\n",
    "            if y < 2 or y > w - 2:    # 把外出层两2pix的边框去掉\n",
    "                img[x, y] = 255\n",
    "            if x < 2 or x > h - 2:\n",
    "                img[x, y] = 255\n",
    "        cv2.imwrite(filename,img)\n",
    "    return img"
   ]
  },
  {
   "cell_type": "markdown",
   "metadata": {},
   "source": [
    "## 字符切割\n",
    "将粘连的字符切割为单个的字符，再进行识别\n",
    "\n",
    "过程：\n",
    "1. 找到一个黑色的点，遍历与他相邻的黑色的点，找出这些点中的最高、最低、最右、最左的点，记录下这四个点，认为这是一个字符。\n",
    "2. 再向后遍历点，直至找到黑色的点，继续步骤1\n",
    "\n",
    "<img src='img/clip.png' width=400>\n",
    "\n"
   ]
  },
  {
   "cell_type": "code",
   "execution_count": 17,
   "metadata": {
    "cell_style": "split",
    "code_folding": []
   },
   "outputs": [],
   "source": [
    "def cfs(im,x_fd,y_fd):\n",
    "    '''\n",
    "    用队列和集合记录遍历过的像素坐标代替单纯递归以解决cfs访问过深问题\n",
    "    '''\n",
    "\n",
    "    xaxis=[]\n",
    "    yaxis=[]\n",
    "    visited =set()\n",
    "    q = Queue()\n",
    "    q.put((x_fd, y_fd))\n",
    "    visited.add((x_fd, y_fd))\n",
    "    offsets=[(1, 0), (0, 1), (-1, 0), (0, -1)]    #四邻域\n",
    "\n",
    "    while not q.empty():\n",
    "        x,y=q.get()\n",
    "\n",
    "        for xoffset,yoffset in offsets:\n",
    "            x_neighbor,y_neighbor = x+xoffset,y+yoffset\n",
    "            \n",
    "            if (x_neighbor,y_neighbor) in (visited):\n",
    "                continue  # 已经访问过了\n",
    "\n",
    "            visited.add((x_neighbor, y_neighbor))\n",
    "\n",
    "            try:\n",
    "                if im[x_neighbor, y_neighbor] == 0:\n",
    "                    xaxis.append(x_neighbor)\n",
    "                    yaxis.append(y_neighbor)\n",
    "                    q.put((x_neighbor,y_neighbor))\n",
    "            except IndexError:\n",
    "                pass\n",
    "    # print(xaxis)\n",
    "    if (len(xaxis) == 0 | len(yaxis) == 0):\n",
    "        xmax = x_fd + 1\n",
    "        xmin = x_fd\n",
    "        ymax = y_fd + 1\n",
    "        ymin = y_fd\n",
    "\n",
    "    else:\n",
    "        xmax = max(xaxis)\n",
    "        xmin = min(xaxis)\n",
    "        ymax = max(yaxis)\n",
    "        ymin = min(yaxis)\n",
    "    #ymin,ymax=sort(yaxis)\n",
    "\n",
    "    return ymax,ymin,xmax,xmin\n",
    "\n",
    "    def detectFgPix(im,xmax):\n",
    "        '''\n",
    "        搜索区块起点\n",
    "        '''\n",
    "\n",
    "    h,w = im.shape[:2]\n",
    "    for y_fd in range(xmax+1,w):\n",
    "        for x_fd in range(h):\n",
    "            if im[x_fd,y_fd] == 0:\n",
    "                return x_fd,y_fd\n",
    "\n",
    "    def CFS(im):\n",
    "        '''\n",
    "        切割字符位置\n",
    "        '''\n",
    "\n",
    "    zoneL=[]#各区块长度L列表\n",
    "    zoneWB=[]#各区块的X轴[起始，终点]列表\n",
    "    zoneHB=[]#各区块的Y轴[起始，终点]列表\n",
    "\n",
    "    xmax=0#上一区块结束黑点横坐标,这里是初始化\n",
    "    for i in range(10):\n",
    "\n",
    "        try:\n",
    "            x_fd,y_fd = detectFgPix(im,xmax)\n",
    "            # print(y_fd,x_fd)\n",
    "            xmax,xmin,ymax,ymin=cfs(im,x_fd,y_fd)\n",
    "            L = xmax - xmin\n",
    "            H = ymax - ymin\n",
    "            zoneL.append(L)\n",
    "            zoneWB.append([xmin,xmax])\n",
    "            zoneHB.append([ymin,ymax])\n",
    "\n",
    "        except TypeError:\n",
    "            return zoneL,zoneWB,zoneHB\n",
    "\n",
    "    return zoneL,zoneWB,zoneHB"
   ]
  },
  {
   "cell_type": "code",
   "execution_count": 18,
   "metadata": {
    "cell_style": "split"
   },
   "outputs": [],
   "source": [
    "def cutting_img(im,im_position,img,xoffset = 1,yoffset = 1):\n",
    "    filename =  './out_img/' + img.split('.')[0]\n",
    "    # 识别出的字符个数\n",
    "    im_number = len(im_position[1])\n",
    "    # 切割字符\n",
    "    for i in range(im_number):\n",
    "        im_start_X = im_position[1][i][0] - xoffset\n",
    "        im_end_X = im_position[1][i][1] + xoffset\n",
    "        im_start_Y = im_position[2][i][0] - yoffset\n",
    "        im_end_Y = im_position[2][i][1] + yoffset\n",
    "        cropped = im[im_start_Y:im_end_Y, im_start_X:im_end_X]\n",
    "        cv2.imwrite(filename + '-cutting-' + str(i) + '.jpg',cropped)"
   ]
  },
  {
   "cell_type": "markdown",
   "metadata": {},
   "source": [
    "使用库：Pillow(python图像处理库)、OpenCV(高级图像处理库)、pytesseract(识别库)\n"
   ]
  },
  {
   "cell_type": "markdown",
   "metadata": {},
   "source": [
    "# 图形ORC\n",
    "OCR( Optical Character Recognition，光学字符识别) ：扫描字符，通过其形状将其翻译成电子文本的过程。\n",
    "\n",
    "对于图形验证码来说，它们都是一些不规则的字符，是由字符稍加扭曲变换得到的内容。\n"
   ]
  },
  {
   "cell_type": "markdown",
   "metadata": {},
   "source": [
    "# 识别库\n"
   ]
  },
  {
   "cell_type": "markdown",
   "metadata": {},
   "source": [
    "## tesserocr \n",
    "tesserocr 是一个 OCR 识别库，是对 tesseract 做的一层 Python API 封装，所以它的核心是 tesseract\n",
    "\n"
   ]
  },
  {
   "cell_type": "code",
   "execution_count": 2,
   "metadata": {},
   "outputs": [
    {
     "name": "stdout",
     "output_type": "stream",
     "text": [
      "Python3WebSpider\n",
      "\n"
     ]
    }
   ],
   "source": [
    "# 导入包\n",
    "import locale\n",
    "locale.setlocale(locale.LC_ALL, 'C')    # 设置当前运行环境\n",
    "import tesserocr\n",
    "\n",
    "from PIL import Image\n",
    "\n",
    "image = Image.open('img/test.jpg')       # 传入图片\n",
    "print(tesserocr.image_to_text(image))    # OCR识别"
   ]
  },
  {
   "cell_type": "code",
   "execution_count": null,
   "metadata": {},
   "outputs": [],
   "source": []
  }
 ],
 "metadata": {
  "hide_input": false,
  "kernelspec": {
   "display_name": "Python 3",
   "language": "python",
   "name": "python3"
  },
  "language_info": {
   "codemirror_mode": {
    "name": "ipython",
    "version": 3
   },
   "file_extension": ".py",
   "mimetype": "text/x-python",
   "name": "python",
   "nbconvert_exporter": "python",
   "pygments_lexer": "ipython3",
   "version": "3.7.3"
  },
  "latex_envs": {
   "LaTeX_envs_menu_present": true,
   "autoclose": true,
   "autocomplete": true,
   "bibliofile": "biblio.bib",
   "cite_by": "apalike",
   "current_citInitial": 1,
   "eqLabelWithNumbers": true,
   "eqNumInitial": 1,
   "hotkeys": {
    "equation": "Ctrl-E",
    "itemize": "Ctrl-I"
   },
   "labels_anchors": false,
   "latex_user_defs": false,
   "report_style_numbering": false,
   "user_envs_cfg": false
  },
  "nbTranslate": {
   "displayLangs": [
    "*"
   ],
   "hotkey": "alt-t",
   "langInMainMenu": true,
   "sourceLang": "en",
   "targetLang": "fr",
   "useGoogleTranslate": true
  },
  "toc": {
   "base_numbering": 1,
   "nav_menu": {},
   "number_sections": true,
   "sideBar": true,
   "skip_h1_title": false,
   "title_cell": "Table of Contents",
   "title_sidebar": "Contents",
   "toc_cell": true,
   "toc_position": {},
   "toc_section_display": true,
   "toc_window_display": false
  },
  "varInspector": {
   "cols": {
    "lenName": 16,
    "lenType": 16,
    "lenVar": 40
   },
   "kernels_config": {
    "python": {
     "delete_cmd_postfix": "",
     "delete_cmd_prefix": "del ",
     "library": "var_list.py",
     "varRefreshCmd": "print(var_dic_list())"
    },
    "r": {
     "delete_cmd_postfix": ") ",
     "delete_cmd_prefix": "rm(",
     "library": "var_list.r",
     "varRefreshCmd": "cat(var_dic_list()) "
    }
   },
   "types_to_exclude": [
    "module",
    "function",
    "builtin_function_or_method",
    "instance",
    "_Feature"
   ],
   "window_display": false
  }
 },
 "nbformat": 4,
 "nbformat_minor": 2
}
