{
 "cells": [
  {
   "cell_type": "markdown",
   "metadata": {
    "toc": true
   },
   "source": [
    "<h1>Table of Contents<span class=\"tocSkip\"></span></h1>\n",
    "<div class=\"toc\"><ul class=\"toc-item\"><li><span><a href=\"#文档\" data-toc-modified-id=\"文档-1\"><span class=\"toc-item-num\">1&nbsp;&nbsp;</span>文档</a></span></li><li><span><a href=\"#数据库\" data-toc-modified-id=\"数据库-2\"><span class=\"toc-item-num\">2&nbsp;&nbsp;</span>数据库</a></span><ul class=\"toc-item\"><li><span><a href=\"#MySQL\" data-toc-modified-id=\"MySQL-2.1\"><span class=\"toc-item-num\">2.1&nbsp;&nbsp;</span>MySQL</a></span></li><li><span><a href=\"#MongoDB\" data-toc-modified-id=\"MongoDB-2.2\"><span class=\"toc-item-num\">2.2&nbsp;&nbsp;</span>MongoDB</a></span></li><li><span><a href=\"#Redis\" data-toc-modified-id=\"Redis-2.3\"><span class=\"toc-item-num\">2.3&nbsp;&nbsp;</span>Redis</a></span></li></ul></li><li><span><a href=\"#远程服务器\" data-toc-modified-id=\"远程服务器-3\"><span class=\"toc-item-num\">3&nbsp;&nbsp;</span>远程服务器</a></span></li></ul></div>"
   ]
  },
  {
   "cell_type": "markdown",
   "metadata": {},
   "source": [
    "https://python3webspider.cuiqingcai.com/1.4-shu-ju-ku-de-an-zhuang#4-mac-xia-de-an-zhuang"
   ]
  },
  {
   "cell_type": "markdown",
   "metadata": {},
   "source": [
    "# 文档"
   ]
  },
  {
   "cell_type": "markdown",
   "metadata": {},
   "source": [
    "# 数据库"
   ]
  },
  {
   "cell_type": "markdown",
   "metadata": {},
   "source": [
    "## MySQL"
   ]
  },
  {
   "cell_type": "markdown",
   "metadata": {},
   "source": [
    "启动、停止和重启 MySQL 服务的命令：\n",
    "\n",
    "```\n",
    "sudo mysql.server start  \n",
    "sudo mysql.server stop  \n",
    "sudo mysql.server restart\n",
    "```"
   ]
  },
  {
   "cell_type": "markdown",
   "metadata": {},
   "source": [
    "## MongoDB"
   ]
  },
  {
   "cell_type": "markdown",
   "metadata": {},
   "source": [
    "启动 MongoDB 服务的命令：\n",
    "```\n",
    "brew services start mongodb  \n",
    "sudo mongod\n",
    "```\n",
    "停止和重启 MongoDB 服务的命令：\n",
    "```\n",
    "brew services stop mongodb  \n",
    "brew services restart mongodb\n",
    "```\n",
    "下载存放地址为：\n",
    "```\n",
    "/usr/local/Cellar/mongodb/4.0.3_1/bin\n",
    "```\n",
    "配置位置：\n",
    "```\n",
    "/usr/local/etc/mongod.conf\n",
    "```"
   ]
  },
  {
   "cell_type": "markdown",
   "metadata": {},
   "source": [
    "## Redis"
   ]
  },
  {
   "cell_type": "markdown",
   "metadata": {},
   "source": [
    "启动 Redis 服务的命令：\n",
    "```\n",
    "brew services start redis  \n",
    "redis-server /usr/local/etc/redis.conf\n",
    "```\n",
    "停止和重启 Redis 服务的命令：\n",
    "```\n",
    "brew services stop redis  \n",
    "brew services restart redis\n",
    "```"
   ]
  },
  {
   "cell_type": "markdown",
   "metadata": {},
   "source": [
    "# 远程服务器\n",
    "借助 SFTP "
   ]
  },
  {
   "cell_type": "code",
   "execution_count": null,
   "metadata": {},
   "outputs": [],
   "source": []
  }
 ],
 "metadata": {
  "hide_input": false,
  "kernelspec": {
   "display_name": "Python 3",
   "language": "python",
   "name": "python3"
  },
  "language_info": {
   "codemirror_mode": {
    "name": "ipython",
    "version": 3
   },
   "file_extension": ".py",
   "mimetype": "text/x-python",
   "name": "python",
   "nbconvert_exporter": "python",
   "pygments_lexer": "ipython3",
   "version": "3.7.3"
  },
  "latex_envs": {
   "LaTeX_envs_menu_present": true,
   "autoclose": true,
   "autocomplete": true,
   "bibliofile": "biblio.bib",
   "cite_by": "apalike",
   "current_citInitial": 1,
   "eqLabelWithNumbers": true,
   "eqNumInitial": 1,
   "hotkeys": {
    "equation": "Ctrl-E",
    "itemize": "Ctrl-I"
   },
   "labels_anchors": false,
   "latex_user_defs": false,
   "report_style_numbering": false,
   "user_envs_cfg": false
  },
  "nbTranslate": {
   "displayLangs": [
    "*"
   ],
   "hotkey": "alt-t",
   "langInMainMenu": true,
   "sourceLang": "en",
   "targetLang": "fr",
   "useGoogleTranslate": true
  },
  "toc": {
   "base_numbering": 1,
   "nav_menu": {},
   "number_sections": true,
   "sideBar": true,
   "skip_h1_title": false,
   "title_cell": "Table of Contents",
   "title_sidebar": "Contents",
   "toc_cell": true,
   "toc_position": {},
   "toc_section_display": true,
   "toc_window_display": false
  },
  "varInspector": {
   "cols": {
    "lenName": 16,
    "lenType": 16,
    "lenVar": 40
   },
   "kernels_config": {
    "python": {
     "delete_cmd_postfix": "",
     "delete_cmd_prefix": "del ",
     "library": "var_list.py",
     "varRefreshCmd": "print(var_dic_list())"
    },
    "r": {
     "delete_cmd_postfix": ") ",
     "delete_cmd_prefix": "rm(",
     "library": "var_list.r",
     "varRefreshCmd": "cat(var_dic_list()) "
    }
   },
   "types_to_exclude": [
    "module",
    "function",
    "builtin_function_or_method",
    "instance",
    "_Feature"
   ],
   "window_display": false
  }
 },
 "nbformat": 4,
 "nbformat_minor": 2
}
