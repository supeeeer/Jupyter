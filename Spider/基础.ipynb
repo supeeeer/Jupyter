{
 "cells": [
  {
   "cell_type": "markdown",
   "metadata": {
    "toc": true
   },
   "source": [
    "<h1>Table of Contents<span class=\"tocSkip\"></span></h1>\n",
    "<div class=\"toc\"><ul class=\"toc-item\"><li><span><a href=\"#基本点\" data-toc-modified-id=\"基本点-1\"><span class=\"toc-item-num\">1&nbsp;&nbsp;</span>基本点</a></span><ul class=\"toc-item\"><li><span><a href=\"#爬取难易\" data-toc-modified-id=\"爬取难易-1.1\"><span class=\"toc-item-num\">1.1&nbsp;&nbsp;</span>爬取难易</a></span></li><li><span><a href=\"#过程\" data-toc-modified-id=\"过程-1.2\"><span class=\"toc-item-num\">1.2&nbsp;&nbsp;</span>过程</a></span></li></ul></li><li><span><a href=\"#各种库\" data-toc-modified-id=\"各种库-2\"><span class=\"toc-item-num\">2&nbsp;&nbsp;</span>各种库</a></span><ul class=\"toc-item\"><li><span><a href=\"#请求库\" data-toc-modified-id=\"请求库-2.1\"><span class=\"toc-item-num\">2.1&nbsp;&nbsp;</span>请求库</a></span></li><li><span><a href=\"#解析库\" data-toc-modified-id=\"解析库-2.2\"><span class=\"toc-item-num\">2.2&nbsp;&nbsp;</span>解析库</a></span></li><li><span><a href=\"#图像处理库\" data-toc-modified-id=\"图像处理库-2.3\"><span class=\"toc-item-num\">2.3&nbsp;&nbsp;</span>图像处理库</a></span></li><li><span><a href=\"#图像识别库\" data-toc-modified-id=\"图像识别库-2.4\"><span class=\"toc-item-num\">2.4&nbsp;&nbsp;</span>图像识别库</a></span></li><li><span><a href=\"#科学计算库\" data-toc-modified-id=\"科学计算库-2.5\"><span class=\"toc-item-num\">2.5&nbsp;&nbsp;</span>科学计算库</a></span></li><li><span><a href=\"#机器学习库\" data-toc-modified-id=\"机器学习库-2.6\"><span class=\"toc-item-num\">2.6&nbsp;&nbsp;</span>机器学习库</a></span></li><li><span><a href=\"#web框架\" data-toc-modified-id=\"web框架-2.7\"><span class=\"toc-item-num\">2.7&nbsp;&nbsp;</span>web框架</a></span></li><li><span><a href=\"#APP库\" data-toc-modified-id=\"APP库-2.8\"><span class=\"toc-item-num\">2.8&nbsp;&nbsp;</span>APP库</a></span></li><li><span><a href=\"#爬虫框架\" data-toc-modified-id=\"爬虫框架-2.9\"><span class=\"toc-item-num\">2.9&nbsp;&nbsp;</span>爬虫框架</a></span></li></ul></li></ul></div>"
   ]
  },
  {
   "cell_type": "markdown",
   "metadata": {},
   "source": [
    "# 基本点\n"
   ]
  },
  {
   "cell_type": "markdown",
   "metadata": {},
   "source": [
    "## 爬取难易\n",
    "数据源路径：\n",
    "- PC端网站\n",
    "- 移动设备响应式网站\n",
    "- 移动App\n",
    "\n",
    "原则是：App > 移动设备网站 > PC网站\n",
    "\n",
    "因为移动App基本都是API很简单，而移动设备网站一般来讲都是结构简单清晰的HTML，而PC网站自然是最复杂的了"
   ]
  },
  {
   "cell_type": "markdown",
   "metadata": {},
   "source": [
    "## 过程\n",
    "\n",
    "获取网页 - 解析 - 提取信息 - 保存数据 - 自动化程序"
   ]
  },
  {
   "cell_type": "markdown",
   "metadata": {},
   "source": [
    "# 各种库"
   ]
  },
  {
   "cell_type": "markdown",
   "metadata": {},
   "source": [
    "## 请求库\n",
    "- Requests：阻塞式 HTTP 请求库，发出请求后，程序会一直等待服务器响应\n",
    "- aiohttp：提供异步 Web 服务，借助 async/await 关键字的写法（python3.5以后）\n",
    "\n",
    "- Selenium库：抓取JS渲染页面\n",
    "\n",
    "    不需要关心页面后台发生了怎样的请求、分析渲染过程，只关心页面最终结果，可见即可爬\n",
    "    \n",
    "    比较慢，更偏向测试\n",
    "    \n",
    "    \n",
    "\n",
    "- Scrapy框架 (Requests) ：直接模拟HTTP请求\n",
    "\n",
    "    对于JS渲染的页面，要分析Ajax请求，找到其对应的接口抓取\n",
    "    \n",
    "    本身不支持分布式，需要使用scrapy_redis\n",
    "    \n",
    "    \n"
   ]
  },
  {
   "cell_type": "markdown",
   "metadata": {},
   "source": [
    "## 解析库"
   ]
  },
  {
   "cell_type": "markdown",
   "metadata": {
    "cell_style": "split"
   },
   "source": [
    "## 图像处理库\n",
    "\n",
    "- Pillow：PIL图像处理库\n",
    "- OpenCV：高级图像处理库"
   ]
  },
  {
   "cell_type": "markdown",
   "metadata": {
    "cell_style": "split"
   },
   "source": [
    "## 图像识别库\n",
    "- pytesseract\n",
    "- tesserocr"
   ]
  },
  {
   "cell_type": "markdown",
   "metadata": {},
   "source": [
    "## 科学计算库\n",
    "- numpy\n",
    "- panda"
   ]
  },
  {
   "cell_type": "markdown",
   "metadata": {},
   "source": [
    "## 机器学习库\n",
    "https://www.zhihu.com/question/53740695\n",
    "- scikit-learn：传统机器学习库。倾向于使用者可以自行对数据进行处理，比如选择特征、压缩维度、转换格式\n",
    "- TensorFlow：深度学习库。自动从数据中抽取有效特征"
   ]
  },
  {
   "cell_type": "markdown",
   "metadata": {},
   "source": [
    "## web框架\n",
    "- Django\n",
    "- Tornado：支持异步，使用非阻塞 I/O 流，可以支撑成千上万的开放连接\n",
    "    -  Tornado + Redis 来搭建一个 ADSL 拨号代理池\n",
    "- Flask：轻量级的 Web 服务程序\n",
    "    - 利用 Flask + Redis 维护动态代理池和 Cookies 池"
   ]
  },
  {
   "cell_type": "markdown",
   "metadata": {},
   "source": [
    "## APP库\n",
    "抓下App的包，看能不能抓到接口\n",
    "\n",
    "抓下公众号和小程序的包，看能不能抓到接口\n",
    "\n",
    "- Charles\n",
    "- mitmproxy\n",
    "- mitmdump：对抓取到的请求和响应进行实时处理和保存\n",
    "\n",
    "\n",
    "- Appium：对 App 进行自动化控制，如自动化模拟 App 的点击、下拉等操作\n",
    "\n",
    "    https://zhuanlan.zhihu.com/p/50000275"
   ]
  },
  {
   "cell_type": "markdown",
   "metadata": {},
   "source": [
    "## 爬虫框架 \n",
    "- pyspider\n",
    "http://docs.pyspider.org/en/latest/tutorial/\n",
    "\n",
    "- Scrapy \n",
    "\n",
    "    依赖的库比较多，至少需要依赖的库有 Twisted 14.0、lxml 3.4 和 pyOpenSSL 0.14。\n",
    "\n",
    "    `sudo pip install twisted`\n",
    "\n",
    "    `~ scrapy`验证是否安装成功\n",
    "\n",
    "-  scrapy-redis分布式爬虫框架\n",
    "\n"
   ]
  },
  {
   "cell_type": "code",
   "execution_count": null,
   "metadata": {},
   "outputs": [],
   "source": []
  }
 ],
 "metadata": {
  "hide_input": false,
  "kernelspec": {
   "display_name": "Python 3",
   "language": "python",
   "name": "python3"
  },
  "language_info": {
   "codemirror_mode": {
    "name": "ipython",
    "version": 3
   },
   "file_extension": ".py",
   "mimetype": "text/x-python",
   "name": "python",
   "nbconvert_exporter": "python",
   "pygments_lexer": "ipython3",
   "version": "3.7.3"
  },
  "latex_envs": {
   "LaTeX_envs_menu_present": true,
   "autoclose": true,
   "autocomplete": true,
   "bibliofile": "biblio.bib",
   "cite_by": "apalike",
   "current_citInitial": 1,
   "eqLabelWithNumbers": true,
   "eqNumInitial": 1,
   "hotkeys": {
    "equation": "Ctrl-E",
    "itemize": "Ctrl-I"
   },
   "labels_anchors": false,
   "latex_user_defs": false,
   "report_style_numbering": false,
   "user_envs_cfg": false
  },
  "nbTranslate": {
   "displayLangs": [
    "*"
   ],
   "hotkey": "alt-t",
   "langInMainMenu": true,
   "sourceLang": "en",
   "targetLang": "fr",
   "useGoogleTranslate": true
  },
  "toc": {
   "base_numbering": 1,
   "nav_menu": {},
   "number_sections": true,
   "sideBar": true,
   "skip_h1_title": false,
   "title_cell": "Table of Contents",
   "title_sidebar": "Contents",
   "toc_cell": true,
   "toc_position": {},
   "toc_section_display": true,
   "toc_window_display": false
  },
  "varInspector": {
   "cols": {
    "lenName": 16,
    "lenType": 16,
    "lenVar": 40
   },
   "kernels_config": {
    "python": {
     "delete_cmd_postfix": "",
     "delete_cmd_prefix": "del ",
     "library": "var_list.py",
     "varRefreshCmd": "print(var_dic_list())"
    },
    "r": {
     "delete_cmd_postfix": ") ",
     "delete_cmd_prefix": "rm(",
     "library": "var_list.r",
     "varRefreshCmd": "cat(var_dic_list()) "
    }
   },
   "types_to_exclude": [
    "module",
    "function",
    "builtin_function_or_method",
    "instance",
    "_Feature"
   ],
   "window_display": false
  }
 },
 "nbformat": 4,
 "nbformat_minor": 2
}
