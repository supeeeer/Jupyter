{
 "cells": [
  {
   "cell_type": "markdown",
   "metadata": {
    "toc": true
   },
   "source": [
    "<h1>Table of Contents<span class=\"tocSkip\"></span></h1>\n",
    "<div class=\"toc\"><ul class=\"toc-item\"><li><span><a href=\"#正则\" data-toc-modified-id=\"正则-1\"><span class=\"toc-item-num\">1&nbsp;&nbsp;</span>正则</a></span></li><li><span><a href=\"#re库\" data-toc-modified-id=\"re库-2\"><span class=\"toc-item-num\">2&nbsp;&nbsp;</span>re库</a></span><ul class=\"toc-item\"><li><span><a href=\"#match\" data-toc-modified-id=\"match-2.1\"><span class=\"toc-item-num\">2.1&nbsp;&nbsp;</span>match</a></span><ul class=\"toc-item\"><li><span><a href=\"#分组\" data-toc-modified-id=\"分组-2.1.1\"><span class=\"toc-item-num\">2.1.1&nbsp;&nbsp;</span>分组</a></span></li><li><span><a href=\"#贪婪模式\" data-toc-modified-id=\"贪婪模式-2.1.2\"><span class=\"toc-item-num\">2.1.2&nbsp;&nbsp;</span>贪婪模式</a></span></li><li><span><a href=\"#修饰符\" data-toc-modified-id=\"修饰符-2.1.3\"><span class=\"toc-item-num\">2.1.3&nbsp;&nbsp;</span>修饰符</a></span></li><li><span><a href=\"#转义字符\" data-toc-modified-id=\"转义字符-2.1.4\"><span class=\"toc-item-num\">2.1.4&nbsp;&nbsp;</span>转义字符</a></span></li></ul></li><li><span><a href=\"#search\" data-toc-modified-id=\"search-2.2\"><span class=\"toc-item-num\">2.2&nbsp;&nbsp;</span>search</a></span></li><li><span><a href=\"#findall\" data-toc-modified-id=\"findall-2.3\"><span class=\"toc-item-num\">2.3&nbsp;&nbsp;</span>findall</a></span></li><li><span><a href=\"#sub\" data-toc-modified-id=\"sub-2.4\"><span class=\"toc-item-num\">2.4&nbsp;&nbsp;</span>sub</a></span></li><li><span><a href=\"#compile\" data-toc-modified-id=\"compile-2.5\"><span class=\"toc-item-num\">2.5&nbsp;&nbsp;</span>compile</a></span></li></ul></li></ul></div>"
   ]
  },
  {
   "cell_type": "markdown",
   "metadata": {},
   "source": [
    "# 正则\n",
    "https://docs.python.org/zh-cn/3/library/re.html\n",
    "\n",
    "\n",
    "\n",
    "符号 | 描述 | 例子\n",
    ":--: | :--: | :--:\n",
    "\\w | 匹配字母、数字、下划线|\n",
    "\\W | 匹配不是字母、数字、下划线的字符\n",
    "\\s | 任意空白字符，等价于 [\\t\\n\\r\\f]\n",
    "\\S | 任意非空字符\n",
    "\\d | 任意数字，等价 [0-9] \n",
    "\\D | 任意非数字\n",
    ". | 匹配除了换行符的任意字符。设置 re.S 包括换行符\n",
    "^re | 开头\n",
    "re$ | 结尾\n",
    "re* | 匹配 >0 次，贪婪\n",
    "re+ | 匹配 >1 次\n",
    "re? | 匹配 0 或 1 次，非贪婪\n",
    "re{2} | 精确匹配前面的 2 次 | o{2} 不能匹配 \"Bob\" 中的 \"o\"，但能匹配 \"food\" 中的两个 o\n",
    "re{2,} | 匹配[2，∞] 次 |  o{2,} 不能匹配\"Bob\"中的\"o\"，但能匹配 \"foooood\"中的所有 o <br/> o{1, } = o+ <br/> o{0,} = o*\n",
    "re{2,10} | 匹配前面的 2-10 次，贪婪\n",
    "[abc] | 匹配 a 或 b 或 c | [a-zA-Z0-9]：匹配任何字母及数字 <br/> rub[ye]：匹配 \"ruby\" 或 \"rube\"\n",
    "[^abc] | 匹配除了 a b c 外的字符\n",
    "\n",
    "\n"
   ]
  },
  {
   "cell_type": "markdown",
   "metadata": {},
   "source": [
    "# re库\n",
    "Python 的 re 库提供了整个正则表达式的实现，利用这个库，可以在 Python 中使用正则表达式"
   ]
  },
  {
   "cell_type": "markdown",
   "metadata": {},
   "source": [
    "## match\n",
    "更适合用来检测某个字符串是否符合某个正则表达式的规则\n",
    "\n",
    "1. `re.Match = re.match(pattern, string, flags=0)`\n",
    "\n",
    "    从首位开始匹配模式\n",
    "2. `re.Match = Pattern.match(string, pos=0, endpos=-1)`\n",
    "\n",
    "    从 pos 位开始匹配"
   ]
  },
  {
   "cell_type": "code",
   "execution_count": 55,
   "metadata": {
    "cell_style": "split"
   },
   "outputs": [
    {
     "name": "stdout",
     "output_type": "stream",
     "text": [
      "<re.Match object; span=(0, 25), match='Hello 123 4567 World_This'>\n",
      "(0, 25)\n",
      "41\n",
      "Hello 123 4567 World_This\n"
     ]
    }
   ],
   "source": [
    "import re\n",
    "\n",
    "# 以 Hello 开头，加1个空白字符，加3个数字，加1个空白字符，加4个数字，加1个空白字符，加10个字母数字或下划线\n",
    "pattern = '^Hello\\s\\d\\d\\d\\s\\d{4}\\s\\w{10}'\n",
    "content = 'Hello 123 4567 World_This is a Regex Demo'\n",
    "res = re.match(pattern, content)\n",
    "\n",
    "print(res, res.span(), res.endpos, res.group(), sep='\\n')"
   ]
  },
  {
   "cell_type": "code",
   "execution_count": 56,
   "metadata": {
    "cell_style": "split"
   },
   "outputs": [
    {
     "name": "stdout",
     "output_type": "stream",
     "text": [
      "None\n",
      "<class 're.Match'> <re.Match object; span=(1, 2), match='o'>\n"
     ]
    }
   ],
   "source": [
    "import re\n",
    "\n",
    "pattern = re.compile(\"o\")       # 构造 pattern\n",
    "print(pattern.match(\"dog\"))     # 首字母不符合，返回none\n",
    "print(type(pattern.match(\"dog\", 1)), pattern.match(\"dog\", 1))"
   ]
  },
  {
   "cell_type": "markdown",
   "metadata": {},
   "source": [
    "### 分组\n",
    "() 标记了一个子表达式，被标记的子表达式会依次对应一个分组，调用 group() 获取子表达式\n",
    "\n",
    "- **`re.Match` 类**\n",
    "    - .span()：匹配到的结果在原字符串中的位置范围\n",
    "    - .group(num=0)：默认输出完整的匹配内容，设置 num 后返回匹配项的第 num 个组的内容\n",
    "    - .groups()：以元组形式，返回匹配项的每个组"
   ]
  },
  {
   "cell_type": "code",
   "execution_count": 61,
   "metadata": {},
   "outputs": [
    {
     "name": "stdout",
     "output_type": "stream",
     "text": [
      "<re.Match object; span=(0, 19), match='Hello 1234567 World'>\n",
      "group() =  Hello 1234567 World\n",
      "group(1) =  1234567\n",
      "groups() =  ('1234567',)\n"
     ]
    }
   ],
   "source": [
    "# group（）、groups（）\n",
    "import re\n",
    "\n",
    "content = 'Hello 1234567 World_This is a Regex Demo'\n",
    "result = re.match('^Hello\\s(\\d+)\\sWorld', content)\n",
    "\n",
    "print(result)\n",
    "print('group() = ', result.group())\n",
    "print('group(1) = ', result.group(1))\n",
    "print('groups() = ', result.groups())"
   ]
  },
  {
   "cell_type": "markdown",
   "metadata": {},
   "source": [
    "### 贪婪模式\n",
    "贪婪模式尽可能多匹配，非贪婪尽可能少匹配\n",
    "\n",
    "比如 `.*`：匹配尽量多的字符，`.*?`：匹配尽量少的字符\n",
    "\n",
    "- 字符串中间尽量使用非贪婪匹配，以免出现匹配结果缺失的情况\n",
    "- 字符串末尾使用非贪婪，可能匹配不到内容"
   ]
  },
  {
   "cell_type": "code",
   "execution_count": 75,
   "metadata": {},
   "outputs": [
    {
     "name": "stdout",
     "output_type": "stream",
     "text": [
      "<re.Match object; span=(0, 40), match='Hello 1234567 World_This is a Regex Demo'>\n",
      "7\n",
      "<re.Match object; span=(0, 40), match='Hello 1234567 World_This is a Regex Demo'>\n",
      "1234567\n"
     ]
    }
   ],
   "source": [
    "# 组合 ( .* ) 匹配任意字符\n",
    "import re\n",
    "\n",
    "pattern = '^He.*(\\d+).*'     # .* 占用到 6 为止，尽量多匹配\n",
    "content = 'Hello 1234567 World_This is a Regex Demo'\n",
    "\n",
    "result = re.match(pattern, content)\n",
    "print(result)\n",
    "print(result.group(1))\n",
    "\n",
    "pattern = '^He.*?(\\d+).*'    # .*? 只占用到 1 前面，尽量少匹配\n",
    "result = re.match(pattern, content)\n",
    "print(result)\n",
    "print(result.group(1))"
   ]
  },
  {
   "cell_type": "code",
   "execution_count": 76,
   "metadata": {},
   "outputs": [
    {
     "name": "stdout",
     "output_type": "stream",
     "text": [
      "result1 \n",
      "result2 kEraCN\n"
     ]
    }
   ],
   "source": [
    "import re\n",
    "\n",
    "content = 'http://weibo.com/comment/kEraCN'\n",
    "result1 = re.match('http.*?comment/(.*?)', content)\n",
    "result2 = re.match('http.*?comment/(.*)', content)\n",
    "print('result1', result1.group(1))\n",
    "print('result2', result2.group(1))"
   ]
  },
  {
   "cell_type": "markdown",
   "metadata": {},
   "source": [
    "### 修饰符\n",
    "`re.Match = re.match(pattern, string, flags=0)`\n",
    "- flags ( 设置多个 ：re.I | re.M)\n",
    "    - re.I：使匹配对大小写不敏感\n",
    "    - re.L：做本地化识别（locale-aware）匹配\n",
    "    - re.M：多行匹配，影响 ^ 和 $\n",
    "    - re.S：使 . 也能匹配换行\n",
    "    - re.U：根据Unicode字符集解析字符。这个标志影响 \\w, \\W, \\b, \\B.\n",
    "    - re.X：该标志通过给予你更灵活的格式以便你将正则表达式写得更易于理解"
   ]
  },
  {
   "cell_type": "code",
   "execution_count": 90,
   "metadata": {},
   "outputs": [
    {
     "name": "stdout",
     "output_type": "stream",
     "text": [
      "<re.Match object; span=(0, 40), match='Hello 1234567 World_This is a Regex Demo'>\n",
      "None\n",
      "<re.Match object; span=(0, 40), match='Hello 1234567 World_This\\nis a Regex Demo'>\n"
     ]
    }
   ],
   "source": [
    "# 换行\n",
    "import re\n",
    "\n",
    "content = 'Hello 1234567 World_This\\\n",
    " is a Regex Demo'                                          # 不属于换行\n",
    "result = re.match('^He.*?(\\d+).*?Demo$', content)\n",
    "print(result)\n",
    "\n",
    "content = '''Hello 1234567 World_This\n",
    "is a Regex Demo\n",
    "'''                                                        # 属于换行\n",
    "result = re.match('^He.*?(\\d+).*?Demo$', content)\n",
    "print(result)\n",
    "                                                  \n",
    "result = re.match('^He.*?(\\d+).*?Demo$', content, re.S)    # 匹配换行符\n",
    "print(result)"
   ]
  },
  {
   "cell_type": "markdown",
   "metadata": {},
   "source": [
    "### 转义字符\n",
    "标点符号 + 转义 ( \\ ) 时才匹配自身，反斜杠本身需要使用反斜杠转义"
   ]
  },
  {
   "cell_type": "code",
   "execution_count": 95,
   "metadata": {},
   "outputs": [
    {
     "name": "stdout",
     "output_type": "stream",
     "text": [
      "<re.Match object; span=(0, 18), match='(百度) www.baidu.com'>\n"
     ]
    }
   ],
   "source": [
    "import re\n",
    "\n",
    "content = '(百度) www.baidu.com'\n",
    "result = re.match('\\(百度\\) www\\.baidu\\.com', content)\n",
    "print(result)"
   ]
  },
  {
   "cell_type": "markdown",
   "metadata": {},
   "source": [
    "## search\n",
    "`re.Match = re.search()`\n",
    "\n",
    "匹配项可以是字符串的一部分，并不用开头就满足。找到满足的第一项，并返回\n"
   ]
  },
  {
   "cell_type": "code",
   "execution_count": 97,
   "metadata": {},
   "outputs": [
    {
     "name": "stdout",
     "output_type": "stream",
     "text": [
      "None\n",
      "<re.Match object; span=(1, 2), match='o'>\n"
     ]
    }
   ],
   "source": [
    "# search VS match\n",
    "import re\n",
    "\n",
    "print(re.match('o', 'dog'))      # 首字母不符合，返回none\n",
    "print(re.search('o', 'dog'))     # 找到第一个并返回"
   ]
  },
  {
   "cell_type": "markdown",
   "metadata": {},
   "source": [
    "## findall\n",
    "`list = re.findall()`\n",
    "\n",
    "搜索整个字符串，返回匹配正则表达式的所有内容\n"
   ]
  },
  {
   "cell_type": "code",
   "execution_count": 110,
   "metadata": {},
   "outputs": [
    {
     "name": "stdout",
     "output_type": "stream",
     "text": [
      "任贤齐  沧海一声笑 \n",
      "[('任贤齐', ' 沧海一声笑 '), ('齐秦', ' 往事随风 '), ('beyond', ' 光辉岁月 '), ('陈慧琳', ' 记事本 '), ('邓丽君', ' 但愿人长久 ')]\n"
     ]
    }
   ],
   "source": [
    "import re\n",
    "\n",
    "html = '''<div id=\"songs-list\">\n",
    "<h2 class=\"title\"> 经典老歌 </h2>\n",
    "<p class=\"introduction\">\n",
    "经典老歌列表\n",
    "</p>\n",
    "<ul id=\"list\" class=\"list-group\">\n",
    "<li data-view=\"2\"> 一路上有你 </li>\n",
    "<li data-view=\"7\">\n",
    "<a href=\"/2.mp3\" singer=\"任贤齐\"> 沧海一声笑 </a>\n",
    "</li>\n",
    "<li data-view=\"4\" class=\"active\">\n",
    "<a href=\"/3.mp3\" singer=\"齐秦\"> 往事随风 </a>\n",
    "</li>\n",
    "<li data-view=\"6\"><a href=\"/4.mp3\" singer=\"beyond\"> 光辉岁月 </a></li>\n",
    "<li data-view=\"5\"><a href=\"/5.mp3\" singer=\"陈慧琳\"> 记事本 </a></li>\n",
    "<li data-view=\"5\">\n",
    "<a href=\"/6.mp3\" singer=\"邓丽君\"> 但愿人长久 </a>\n",
    "</li>\n",
    "</ul>\n",
    "</div>'''\n",
    "pattern = '<li.*?singer=\"(.*?)\">(.*?)</a>'\n",
    "\n",
    "result = re.search(pattern, html, re.S)\n",
    "print(result.group(1), result.group(2))\n",
    "\n",
    "results = re.findall(pattern, html, re.S)\n",
    "print(results)"
   ]
  },
  {
   "cell_type": "markdown",
   "metadata": {},
   "source": [
    "## sub\n",
    "`re.sub(pattern, repl, string, count=0, flags=0)`：将 string 中的 pattern 替换成 repl\n",
    "修改文本，代替 str.replace() "
   ]
  },
  {
   "cell_type": "code",
   "execution_count": 111,
   "metadata": {},
   "outputs": [
    {
     "name": "stdout",
     "output_type": "stream",
     "text": [
      "aKyroiRixLg\n"
     ]
    }
   ],
   "source": [
    "import re\n",
    "\n",
    "content = '54aK54yr5oiR54ix5L2g'\n",
    "content = re.sub('\\d+', '', content)\n",
    "print(content)"
   ]
  },
  {
   "cell_type": "code",
   "execution_count": 112,
   "metadata": {},
   "outputs": [
    {
     "name": "stdout",
     "output_type": "stream",
     "text": [
      "<div id=\"songs-list\">\n",
      "<h2 class=\"title\"> 经典老歌 </h2>\n",
      "<p class=\"introduction\">\n",
      "经典老歌列表\n",
      "</p>\n",
      "<ul id=\"list\" class=\"list-group\">\n",
      "<li data-view=\"2\"> 一路上有你 </li>\n",
      "<li data-view=\"7\">\n",
      " 沧海一声笑 \n",
      "</li>\n",
      "<li data-view=\"4\" class=\"active\">\n",
      " 往事随风 \n",
      "</li>\n",
      "<li data-view=\"6\"> 光辉岁月 </li>\n",
      "<li data-view=\"5\"> 记事本 </li>\n",
      "<li data-view=\"5\">\n",
      " 但愿人长久 \n",
      "</li>\n",
      "</ul>\n",
      "</div>\n",
      "一路上有你\n",
      "沧海一声笑\n",
      "往事随风\n",
      "光辉岁月\n",
      "记事本\n",
      "但愿人长久\n"
     ]
    }
   ],
   "source": [
    "html = re.sub('<a.*?>|</a>', '', html)    # 删除无用内容，简化pattern\n",
    "print(html)\n",
    "results = re.findall('<li.*?>(.*?)</li>', html, re.S)\n",
    "for result in results:\n",
    "    print(result.strip())"
   ]
  },
  {
   "cell_type": "markdown",
   "metadata": {},
   "source": [
    "## compile\n",
    "`re.Pattern = re.compile(pattern, flags=0)`\n",
    "\n",
    "将正则字符串编译成正则表达式对象，以便在后面的匹配中复用"
   ]
  },
  {
   "cell_type": "code",
   "execution_count": 116,
   "metadata": {},
   "outputs": [
    {
     "name": "stdout",
     "output_type": "stream",
     "text": [
      "2016-12-15  2016-12-17 \n"
     ]
    }
   ],
   "source": [
    "import re\n",
    "\n",
    "pattern = re.compile('\\d{2}:\\d{2}')\n",
    "\n",
    "content1 = '2016-12-15 12:00'\n",
    "content2 = '2016-12-17 12:55'\n",
    "\n",
    "result1 = re.sub(pattern, '', content1)\n",
    "result2 = re.sub(pattern, '', content2)\n",
    "print(result1, result2)\n"
   ]
  },
  {
   "cell_type": "code",
   "execution_count": null,
   "metadata": {},
   "outputs": [],
   "source": []
  }
 ],
 "metadata": {
  "kernelspec": {
   "display_name": "Python 3",
   "language": "python",
   "name": "python3"
  },
  "language_info": {
   "codemirror_mode": {
    "name": "ipython",
    "version": 3
   },
   "file_extension": ".py",
   "mimetype": "text/x-python",
   "name": "python",
   "nbconvert_exporter": "python",
   "pygments_lexer": "ipython3",
   "version": "3.7.3"
  },
  "latex_envs": {
   "LaTeX_envs_menu_present": true,
   "autoclose": true,
   "autocomplete": true,
   "bibliofile": "biblio.bib",
   "cite_by": "apalike",
   "current_citInitial": 1,
   "eqLabelWithNumbers": true,
   "eqNumInitial": 1,
   "hotkeys": {
    "equation": "Ctrl-E",
    "itemize": "Ctrl-I"
   },
   "labels_anchors": false,
   "latex_user_defs": false,
   "report_style_numbering": false,
   "user_envs_cfg": false
  },
  "toc": {
   "base_numbering": 1,
   "nav_menu": {},
   "number_sections": true,
   "sideBar": true,
   "skip_h1_title": false,
   "title_cell": "Table of Contents",
   "title_sidebar": "Contents",
   "toc_cell": true,
   "toc_position": {
    "height": "calc(100% - 180px)",
    "left": "10px",
    "top": "150px",
    "width": "165px"
   },
   "toc_section_display": true,
   "toc_window_display": true
  },
  "varInspector": {
   "cols": {
    "lenName": 16,
    "lenType": 16,
    "lenVar": 40
   },
   "kernels_config": {
    "python": {
     "delete_cmd_postfix": "",
     "delete_cmd_prefix": "del ",
     "library": "var_list.py",
     "varRefreshCmd": "print(var_dic_list())"
    },
    "r": {
     "delete_cmd_postfix": ") ",
     "delete_cmd_prefix": "rm(",
     "library": "var_list.r",
     "varRefreshCmd": "cat(var_dic_list()) "
    }
   },
   "types_to_exclude": [
    "module",
    "function",
    "builtin_function_or_method",
    "instance",
    "_Feature"
   ],
   "window_display": false
  }
 },
 "nbformat": 4,
 "nbformat_minor": 2
}
