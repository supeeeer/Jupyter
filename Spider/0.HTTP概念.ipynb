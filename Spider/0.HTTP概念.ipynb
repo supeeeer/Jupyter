{
 "cells": [
  {
   "cell_type": "markdown",
   "metadata": {
    "toc": true
   },
   "source": [
    "<h1>Table of Contents<span class=\"tocSkip\"></span></h1>\n",
    "<div class=\"toc\"><ul class=\"toc-item\"><li><span><a href=\"#HTTP-、HTTPS\" data-toc-modified-id=\"HTTP-、HTTPS-1\"><span class=\"toc-item-num\">1&nbsp;&nbsp;</span>HTTP 、HTTPS</a></span></li><li><span><a href=\"#URI、URL、URN\" data-toc-modified-id=\"URI、URL、URN-2\"><span class=\"toc-item-num\">2&nbsp;&nbsp;</span>URI、URL、URN</a></span><ul class=\"toc-item\"><li><span><a href=\"#HTTP请求\" data-toc-modified-id=\"HTTP请求-2.1\"><span class=\"toc-item-num\">2.1&nbsp;&nbsp;</span>HTTP请求</a></span></li><li><span><a href=\"#Request\" data-toc-modified-id=\"Request-2.2\"><span class=\"toc-item-num\">2.2&nbsp;&nbsp;</span>Request</a></span></li><li><span><a href=\"#Response\" data-toc-modified-id=\"Response-2.3\"><span class=\"toc-item-num\">2.3&nbsp;&nbsp;</span>Response</a></span></li></ul></li><li><span><a href=\"#Session---Cookies\" data-toc-modified-id=\"Session---Cookies-3\"><span class=\"toc-item-num\">3&nbsp;&nbsp;</span>Session - Cookies</a></span></li><li><span><a href=\"#网页分类\" data-toc-modified-id=\"网页分类-4\"><span class=\"toc-item-num\">4&nbsp;&nbsp;</span>网页分类</a></span><ul class=\"toc-item\"><li><span><a href=\"#静态-VS-动态\" data-toc-modified-id=\"静态-VS-动态-4.1\"><span class=\"toc-item-num\">4.1&nbsp;&nbsp;</span>静态 VS 动态</a></span></li></ul></li></ul></div>"
   ]
  },
  {
   "cell_type": "markdown",
   "metadata": {},
   "source": [
    "# HTTP 、HTTPS\n",
    "\n",
    "- HTTP ( Hyper Text Transfer Protocol，超文本传输协议 )\n",
    "\n",
    "    HTTP 协议是用于从网络传输超文本数据到本地浏览器的传送协议，它能保证传送高效而准确地传送超文本文档。\n",
    "    \n",
    "    \n",
    "- HTTPS ( Hyper Text Transfer Protocol over Secure Socket Layer )\n",
    "\n",
    "    HTTPS = HTTP + SSL。其安全基础是 SSL，因此通过它传输的内容都是经过 SSL 加密的\n",
    "    \n",
    "    主要作用有：\n",
    "    1. 建立一个信息安全通道，来保证数据传输的安全\n",
    "    2. 确认网站的真实性，凡是使用了 https 的网站，都可以通过点击浏览器地址栏的锁头标志来查看网站认证之后的真实信息\n"
   ]
  },
  {
   "cell_type": "markdown",
   "metadata": {},
   "source": [
    "# URI、URL、URN\n",
    "- URI ( Uniform Resource Identifier，统一资源标志符)\n",
    "- URL ( Uniform Resource Locator，统一资源定位符)\n",
    "- URN ( Uniform Resource Name，统一资源名称)\n",
    "\n",
    "比如，https://github.com/favicon.ico 包括了访问协议 https、访问路径和资源名称 favicon.ico。\n",
    "\n",
    "它是一个 URL，也是一个 URI。它唯一指定了访问方式，通过这样一个链接，我们可以从互联网上找到这个资源\n",
    "\n",
    "❗️ URI = URL + URN\n",
    "\n",
    "但是在目前的互联网，URN 的使用非常少，所以几乎所有的 URI 都是 URL"
   ]
  },
  {
   "cell_type": "markdown",
   "metadata": {},
   "source": [
    "## HTTP请求\n",
    "开发者工具 - Network面板\n",
    "- Name：一般会将 URL 的最后一部分内容当作名称\n",
    "- Status：响应状态码\n",
    "- Type：请求的文档类型\n",
    "- Initiator：请求源，标记请求是由哪个对象或进程发起的\n",
    "- Size：从服务器下载请求的资源大小 \n",
    "    - from cache：从缓存中取得的资源\n",
    "- Time：发起请求到获取响应所用的总时间\n",
    "- Waterfall：网络请求的可视化瀑布流\n",
    "<img src='img/request.jpg' width=1200>\n",
    "\n"
   ]
  },
  {
   "cell_type": "markdown",
   "metadata": {},
   "source": [
    "## Request\n",
    "1.  请求方法\n",
    "    - GET：请求并返回页面内容\n",
    "    - HEAD：只返回报头。类似于 GET 请求，但不返回内容\n",
    "    - POST：提交表单、上传文件，数据包含在请求体中\n",
    "    - PUT：替换。用客户端传送的数据取代服务器指定文档中的内容\n",
    "    - DELETE：删除。请求服务器删除指定的页面\n",
    "    - CONNECT：多重访问。把服务器当作跳板，让服务器代替客户端访问其他网页\n",
    "    - OPTIONS：允许客户端查看服务器的性能\n",
    "    - TRACE：回显服务器收到的请求，主要用于测试或诊断\n",
    "    \n",
    "    \n",
    "2. 请求头：服务器要使用的附加信息\n",
    "    - Accept：指定客户端可接受哪些类型的信息\n",
    "    - Accept-Language：指定客户端可接受的语言类型\n",
    "    - Accept-Encoding：指定客户端可接受的内容编码\n",
    "    - Host：指定请求资源的主机 IP 和端口号\n",
    "    - Cookie：存储在用户本地的数据，维持当前访问会话\n",
    "    - Referer：标识这个请求是从哪个页面发过来的，服务器可以拿到这一信息并做相应的处理，如做来源统计、防盗链处理等\n",
    "    - User-Agent：使服务器识别客户使用的操作系统及版本、浏览器及版本等信息\n",
    "    - Content-Type：MIME 类型，表示具体请求中的媒体类型信息\n",
    "    <img src='img/rhead.jpg' width=800>\n",
    "    ❗️请求头是请求的重要组成部分，在写爬虫时，大部分情况下都需要设定请求头\n",
    "    \n",
    "    \n",
    "3. 请求体：POST 的表单数据\n",
    "\n",
    "     ❗️Request Headers 中要指定 Content-Type，才能使用post提交信息\n",
    "     - application/x-www-form-urlencoded：提交表单\n",
    "     - application/json ：提交 JSON 数据\n",
    "     - multipart/form-data：来上传文件\n",
    "     - text/xml：提交XML 数据\n",
    "     <img src='img/rbody.jpg' width=600>"
   ]
  },
  {
   "cell_type": "markdown",
   "metadata": {},
   "source": [
    "## Response\n",
    "1. 响应状态码\n",
    "\n",
    "    根据状态码来判断服务器响应状态，如状态码为 200，则证明成功返回数据，再进行进一步的处理，否则直接忽略。\n",
    "    \n",
    "    \n",
    "2. 响应头：服务器对请求的应答信息\n",
    "    - Date：响应产生的时间\n",
    "    - Last-Modified：资源的最后修改时间\n",
    "    - Content-Encoding：响应内容的编码\n",
    "    - Server：服务器的信息，比如名称、版本号\n",
    "    - Content-Type：返回的数据类型，如 text/html 代表返回 HTML 文档\n",
    "    - Set-Cookie：加入cookie。将内容放在浏览器 Cookies 中，下次请求携带\n",
    "    - Expires：加入缓存。指定响应的过期时间，将加载的内容更新到浏览器缓存中\n",
    "    <img src='img/rbhead.jpg' width=500>\n",
    "    \n",
    "    \n",
    "3. 响应体\n",
    "\n",
    "    响应的正文数据。比如请求网页时，它的响应体就是 HTML 代码；请求一张图片时，它的响应体就是图片的二进制数据。\n",
    "    \n",
    "    爬虫请求网页后，要解析的内容就是响应体"
   ]
  },
  {
   "cell_type": "markdown",
   "metadata": {},
   "source": [
    "# Session - Cookies"
   ]
  },
  {
   "cell_type": "markdown",
   "metadata": {},
   "source": [
    "# 网页分类"
   ]
  },
  {
   "cell_type": "markdown",
   "metadata": {},
   "source": [
    "## 静态 VS 动态\n",
    "- 静态\n",
    "    - ✔️加载速度快，编写简单\n",
    "    - ✖️可维护性差，不能根据 URL 灵活多变地显示内容\n",
    "    - 一个简单的 HTML\n",
    "- 动态\n",
    "    - ✔️动态解析 URL 中的参数，实现登录\n",
    "    - ✔️关联数据库\n",
    "    - ✔️动态呈现不同的页面内容\n",
    "    - 由 JSP、PHP、Python 等语言编写"
   ]
  },
  {
   "cell_type": "code",
   "execution_count": null,
   "metadata": {},
   "outputs": [],
   "source": []
  }
 ],
 "metadata": {
  "hide_input": false,
  "kernelspec": {
   "display_name": "Python 3",
   "language": "python",
   "name": "python3"
  },
  "language_info": {
   "codemirror_mode": {
    "name": "ipython",
    "version": 3
   },
   "file_extension": ".py",
   "mimetype": "text/x-python",
   "name": "python",
   "nbconvert_exporter": "python",
   "pygments_lexer": "ipython3",
   "version": "3.7.3"
  },
  "latex_envs": {
   "LaTeX_envs_menu_present": true,
   "autoclose": true,
   "autocomplete": true,
   "bibliofile": "biblio.bib",
   "cite_by": "apalike",
   "current_citInitial": 1,
   "eqLabelWithNumbers": true,
   "eqNumInitial": 1,
   "hotkeys": {
    "equation": "Ctrl-E",
    "itemize": "Ctrl-I"
   },
   "labels_anchors": false,
   "latex_user_defs": false,
   "report_style_numbering": false,
   "user_envs_cfg": false
  },
  "nbTranslate": {
   "displayLangs": [
    "*"
   ],
   "hotkey": "alt-t",
   "langInMainMenu": true,
   "sourceLang": "en",
   "targetLang": "fr",
   "useGoogleTranslate": true
  },
  "toc": {
   "base_numbering": 1,
   "nav_menu": {},
   "number_sections": true,
   "sideBar": true,
   "skip_h1_title": false,
   "title_cell": "Table of Contents",
   "title_sidebar": "Contents",
   "toc_cell": true,
   "toc_position": {},
   "toc_section_display": true,
   "toc_window_display": false
  },
  "varInspector": {
   "cols": {
    "lenName": 16,
    "lenType": 16,
    "lenVar": 40
   },
   "kernels_config": {
    "python": {
     "delete_cmd_postfix": "",
     "delete_cmd_prefix": "del ",
     "library": "var_list.py",
     "varRefreshCmd": "print(var_dic_list())"
    },
    "r": {
     "delete_cmd_postfix": ") ",
     "delete_cmd_prefix": "rm(",
     "library": "var_list.r",
     "varRefreshCmd": "cat(var_dic_list()) "
    }
   },
   "types_to_exclude": [
    "module",
    "function",
    "builtin_function_or_method",
    "instance",
    "_Feature"
   ],
   "window_display": false
  }
 },
 "nbformat": 4,
 "nbformat_minor": 2
}
