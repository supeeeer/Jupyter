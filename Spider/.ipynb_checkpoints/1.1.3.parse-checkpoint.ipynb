{
 "cells": [
  {
   "cell_type": "markdown",
   "metadata": {
    "toc": true
   },
   "source": [
    "<h1>Table of Contents<span class=\"tocSkip\"></span></h1>\n",
    "<div class=\"toc\"><ul class=\"toc-item\"><li><span><a href=\"#parse---解析链接\" data-toc-modified-id=\"parse---解析链接-1\"><span class=\"toc-item-num\">1&nbsp;&nbsp;</span>parse - 解析链接</a></span><ul class=\"toc-item\"><li><span><a href=\"#URL-分解与合并\" data-toc-modified-id=\"URL-分解与合并-1.1\"><span class=\"toc-item-num\">1.1&nbsp;&nbsp;</span>URL 分解与合并</a></span><ul class=\"toc-item\"><li><span><a href=\"#urlparse()-解析\" data-toc-modified-id=\"urlparse()-解析-1.1.1\"><span class=\"toc-item-num\">1.1.1&nbsp;&nbsp;</span>urlparse() 解析</a></span></li><li><span><a href=\"#urlunparse()-构造\" data-toc-modified-id=\"urlunparse()-构造-1.1.2\"><span class=\"toc-item-num\">1.1.2&nbsp;&nbsp;</span>urlunparse() 构造</a></span></li><li><span><a href=\"#urlsplit()\" data-toc-modified-id=\"urlsplit()-1.1.3\"><span class=\"toc-item-num\">1.1.3&nbsp;&nbsp;</span>urlsplit()</a></span></li><li><span><a href=\"#urlunsplit()\" data-toc-modified-id=\"urlunsplit()-1.1.4\"><span class=\"toc-item-num\">1.1.4&nbsp;&nbsp;</span>urlunsplit()</a></span></li><li><span><a href=\"#urljoin()\" data-toc-modified-id=\"urljoin()-1.1.5\"><span class=\"toc-item-num\">1.1.5&nbsp;&nbsp;</span>urljoin()</a></span></li></ul></li><li><span><a href=\"#query-参数构造与解析\" data-toc-modified-id=\"query-参数构造与解析-1.2\"><span class=\"toc-item-num\">1.2&nbsp;&nbsp;</span>query 参数构造与解析</a></span><ul class=\"toc-item\"><li><span><a href=\"#urlencode()\" data-toc-modified-id=\"urlencode()-1.2.1\"><span class=\"toc-item-num\">1.2.1&nbsp;&nbsp;</span>urlencode()</a></span></li><li><span><a href=\"#parse_qs()-/-parse_qsl()\" data-toc-modified-id=\"parse_qs()-/-parse_qsl()-1.2.2\"><span class=\"toc-item-num\">1.2.2&nbsp;&nbsp;</span>parse_qs() / parse_qsl()</a></span></li></ul></li><li><span><a href=\"#传入中文\" data-toc-modified-id=\"传入中文-1.3\"><span class=\"toc-item-num\">1.3&nbsp;&nbsp;</span>传入中文</a></span><ul class=\"toc-item\"><li><span><a href=\"#quote()\" data-toc-modified-id=\"quote()-1.3.1\"><span class=\"toc-item-num\">1.3.1&nbsp;&nbsp;</span>quote()</a></span></li><li><span><a href=\"#unquote()\" data-toc-modified-id=\"unquote()-1.3.2\"><span class=\"toc-item-num\">1.3.2&nbsp;&nbsp;</span>unquote()</a></span></li></ul></li></ul></li></ul></div>"
   ]
  },
  {
   "cell_type": "markdown",
   "metadata": {},
   "source": [
    "# parse - 解析链接\n",
    "处理 URL 的标准接口，功能有：\n",
    "- URL 各部分的分解、合并\n",
    "    - 分解：`urlparse()` = 6部分、`urlsplit()` = 5部分\n",
    "    - 合并：`urlunparse()`、`urlunsplit()` 需要完整参数，`urljoin()` 以新换旧\n",
    "- query 参数快速构造\n",
    "\n",
    "    URL_query —— dict / list_tuple\n",
    "- URL 传入中文等字符\n",
    "\n",
    "    URL —— 中文字符\n",
    "\n",
    "\n",
    "\n",
    "支持处理 URL 的协议有 ：file、ftp、gopher、hdl、http、https、imap、mailto、 mms、news、nntp、prospero、rsync、rtsp、rtspu、sftp、 sip、sips、snews、svn、svn+ssh、telnet 和 wais\n",
    "\n",
    "\n"
   ]
  },
  {
   "cell_type": "markdown",
   "metadata": {},
   "source": [
    "## URL 分解与合并"
   ]
  },
  {
   "cell_type": "markdown",
   "metadata": {},
   "source": [
    "### urlparse() 解析\n",
    "`ParseResult = urllib.parse.urlparse(urlstring, scheme='', allow_fragments=True)`\n",
    "\n",
    "- `ParseResult` 对象 (元组) ：\n",
    "    - scheme：协议\n",
    "    - netloc：域名\n",
    "    - path：路径\n",
    "    - <span class=\"burk\">❓❓params：参数 ( ；后面 ) path最后一项的参数</span>\n",
    "    - query：查询条件 ( ？后面，&连接 )，多用作动态网页 get 方式\n",
    "    - fragment：锚点 ( #后面 )\n",
    "    \n",
    "    ❗️URL =  scheme://netloc/path;params?query1&query2#fragment\n",
    "\n",
    "- scheme：设置默认的协议，url中不带协议时使用\n",
    "\n",
    "    ❗️当原始URL没有scheme时，netloc也为空，域名跑到了path中\n",
    "- allow_fragments：设为False时，fragment 会被解析为 path、parameters 或者 query 的一部分"
   ]
  },
  {
   "cell_type": "code",
   "execution_count": 16,
   "metadata": {},
   "outputs": [
    {
     "name": "stdout",
     "output_type": "stream",
     "text": [
      "<class 'urllib.parse.ParseResult'>\n",
      "ParseResult(scheme='http', netloc='localhost:8888', path='/notebooks/Spider/1.1.3.parse.ipynb', params='', query='', fragment='')\n",
      "localhost:8888\n",
      "\n",
      "\n",
      "<class 'urllib.parse.ParseResult'>\n",
      "ParseResult(scheme='http', netloc='www.baidu.com', path='/index.html', params='user', query='id=5', fragment='comment')\n"
     ]
    }
   ],
   "source": [
    "from urllib.parse import urlparse\n",
    "\n",
    "result = urlparse('http://localhost:8888/notebooks/Spider/1.1.3.parse.ipynb')\n",
    "print(type(result), result, result.netloc, '\\n', sep='\\n')\n",
    "\n",
    "result = urlparse('http://www.baidu.com/index.html;user?id=5#comment')  \n",
    "print(type(result), result, sep='\\n')"
   ]
  },
  {
   "cell_type": "code",
   "execution_count": 28,
   "metadata": {},
   "outputs": [
    {
     "name": "stdout",
     "output_type": "stream",
     "text": [
      "ParseResult(scheme='', netloc='', path='www.baidu.com/index.html', params='user', query='id=5', fragment='comment')\n",
      "ParseResult(scheme='https', netloc='', path='www.baidu.com/index.html', params='user', query='id=5', fragment='comment')\n",
      "ParseResult(scheme='http', netloc='www.baidu.com', path='/index.html', params='user', query='id=5', fragment='comment')\n"
     ]
    }
   ],
   "source": [
    "# 设置scheme\n",
    "result = urlparse('www.baidu.com/index.html;user?id=5#comment')  \n",
    "print(result)\n",
    "\n",
    "result = urlparse('www.baidu.com/index.html;user?id=5#comment', scheme='https')          #加入URL中\n",
    "print(result)\n",
    "\n",
    "result = urlparse('http://www.baidu.com/index.html;user?id=5#comment', scheme='https')   # 不覆盖URL自带的\n",
    "print(result)"
   ]
  },
  {
   "cell_type": "code",
   "execution_count": 29,
   "metadata": {},
   "outputs": [
    {
     "name": "stdout",
     "output_type": "stream",
     "text": [
      "ParseResult(scheme='', netloc='', path='www.baidu.com/index.html', params='user', query='id=5', fragment='comment')\n",
      "ParseResult(scheme='', netloc='', path='www.baidu.com/index.html', params='user', query='id=5#comment', fragment='')\n",
      "ParseResult(scheme='', netloc='', path='www.baidu.com/index.html#comment', params='', query='', fragment='')\n"
     ]
    }
   ],
   "source": [
    "# 设置allow_fragments\n",
    "result = urlparse('www.baidu.com/index.html;user?id=5#comment')\n",
    "print(result)\n",
    "\n",
    "result = urlparse('www.baidu.com/index.html;user?id=5#comment', allow_fragments=False)    # 加入到query\n",
    "print(result)\n",
    "\n",
    "result = urlparse('www.baidu.com/index.html#comment', allow_fragments=False)              # 加入到path\n",
    "print(result)"
   ]
  },
  {
   "cell_type": "markdown",
   "metadata": {},
   "source": [
    "### urlunparse() 构造\n",
    "`str = urllib.parse.urlunparse(parts)`\n",
    "- parts：必须是长度为6的可迭代对象"
   ]
  },
  {
   "cell_type": "code",
   "execution_count": 15,
   "metadata": {},
   "outputs": [
    {
     "name": "stdout",
     "output_type": "stream",
     "text": [
      "<class 'str'>\n",
      "http://www.baidu.com/index.html?a=6&b=5#comment\n"
     ]
    }
   ],
   "source": [
    "from urllib.parse import urlunparse\n",
    "\n",
    "data = ['http', 'www.baidu.com', 'index.html', '', 'a=6&b=5', 'comment']\n",
    "url = urlunparse(data)\n",
    "print(type(url), url, sep='\\n')"
   ]
  },
  {
   "cell_type": "markdown",
   "metadata": {},
   "source": [
    "### urlsplit() \n",
    "将 params 会合并到 path 中\n",
    "\n",
    "`SplitResult = urllib.parse.urlsplit(urlstring, scheme='', allow_fragments=True)`\n",
    "\n",
    "❗️URL =  scheme://netloc/path?query1&query2#fragment"
   ]
  },
  {
   "cell_type": "code",
   "execution_count": 17,
   "metadata": {},
   "outputs": [
    {
     "name": "stdout",
     "output_type": "stream",
     "text": [
      "<class 'urllib.parse.SplitResult'>\n",
      "SplitResult(scheme='http', netloc='www.baidu.com', path='/index.html;user', query='id=5', fragment='comment')\n"
     ]
    }
   ],
   "source": [
    "from urllib.parse import urlsplit\n",
    "\n",
    "url = 'http://www.baidu.com/index.html;user?id=5#comment'\n",
    "result = urlsplit(url)\n",
    "print(type(result), result, sep='\\n')"
   ]
  },
  {
   "cell_type": "markdown",
   "metadata": {},
   "source": [
    "### urlunsplit()\n",
    "`str = urllib.parse.urlunsplit(parts)`\n",
    "- parts：必须是长度为5的可迭代对象"
   ]
  },
  {
   "cell_type": "code",
   "execution_count": 18,
   "metadata": {},
   "outputs": [
    {
     "name": "stdout",
     "output_type": "stream",
     "text": [
      "http://www.baidu.com/index.html?a=6#comment\n"
     ]
    }
   ],
   "source": [
    "from urllib.parse import urlunsplit  \n",
    "\n",
    "data = ['http', 'www.baidu.com', 'index.html', 'a=6', 'comment']  \n",
    "print(urlunsplit(data))"
   ]
  },
  {
   "cell_type": "markdown",
   "metadata": {},
   "source": [
    "### urljoin()\n",
    "对比传入的两个链接，进行补充更新\n",
    "\n",
    "`urllib.parse.urljoin(base_url, new_url, allow_fragments=True)`\n",
    "- 将base_url的scheme, netloc and (part of) the path 补充到 new_url\n",
    "- new_url 权重 > base_url\n",
    "- ❗️每一部分要带上自己的分隔符。如 new 或 base 不含 scheme 时，需要最前加上 '//' ，否则被判断为path而非netloc\n",
    "- ❗️URL 顺序在前的改变了，则在后的变为空。如 new = query 会覆盖 base 中的fragment，需要在 new 中加上"
   ]
  },
  {
   "cell_type": "code",
   "execution_count": 37,
   "metadata": {},
   "outputs": [
    {
     "name": "stdout",
     "output_type": "stream",
     "text": [
      "http://www.baidu.com/FAQ.html\n",
      "http://www.baidu.com/FAQ.html\n",
      "http://www.baidu.com/ques/FAQ.html\n",
      "https://www.zhihu.com\n"
     ]
    }
   ],
   "source": [
    "from urllib.parse import urljoin\n",
    "\n",
    "print(urljoin('http://www.baidu.com', 'FAQ.html'))                    # base + new\n",
    "print(urljoin('http://www.baidu.com/about.html', 'FAQ.html'))         # new 替换 base\n",
    "print(urljoin('http://www.baidu.com/about.html', 'ques/FAQ.html'))    # new 补充+替换 base\n",
    "print(urljoin('http://www.baidu.com', 'https://www.zhihu.com'))       # new 覆盖 base"
   ]
  },
  {
   "cell_type": "code",
   "execution_count": 52,
   "metadata": {},
   "outputs": [
    {
     "name": "stdout",
     "output_type": "stream",
     "text": [
      "http://www.baidu.com/www.zhihu.com\n",
      "http://www.zhihu.com \n",
      "\n",
      "/ques\n",
      "//www.baidu.com/ques\n"
     ]
    }
   ],
   "source": [
    "print(urljoin('http://www.baidu.com', 'www.zhihu.com'))       # 把netloc判断成了path\n",
    "print(urljoin('http://www.baidu.com', '//www.zhihu.com'), '\\n')     \n",
    "\n",
    "print(urljoin('www.baidu.com', '/ques')) \n",
    "print(urljoin('//www.baidu.com', '/ques')) "
   ]
  },
  {
   "cell_type": "code",
   "execution_count": 45,
   "metadata": {},
   "outputs": [
    {
     "name": "stdout",
     "output_type": "stream",
     "text": [
      "http://www.baidu.com?category=2\n",
      "http://www.baidu.com?category=2#comment\n",
      "http://www.baidu.com/ques\n"
     ]
    }
   ],
   "source": [
    "print(urljoin('http://www.baidu.com#comment', '?category=2'))        # 顺序问题，query 覆盖 fragment\n",
    "print(urljoin('http://www.baidu.com#comment', '?category=2#comment')) \n",
    "\n",
    "print(urljoin('http://www.baidu.com?category=2', '/ques'))           # path 覆盖了 query"
   ]
  },
  {
   "cell_type": "markdown",
   "metadata": {},
   "source": [
    "## query 参数构造与解析"
   ]
  },
  {
   "cell_type": "markdown",
   "metadata": {},
   "source": [
    "### urlencode() \n",
    "便于构造 GET 请求参数\n",
    "\n",
    "list tuple / dict →  query string\n",
    "\n",
    "`str = urllib.parse.urlencod(dict/tuple)`"
   ]
  },
  {
   "cell_type": "code",
   "execution_count": 61,
   "metadata": {},
   "outputs": [
    {
     "name": "stdout",
     "output_type": "stream",
     "text": [
      "name=lisa&age=18\n",
      "http://www.baidu.com?name=lisa&age=18\n",
      "name=germey&age=22\n",
      "http://www.baidu.com?name=germey&age=22\n"
     ]
    }
   ],
   "source": [
    "from urllib.parse import urlencode\n",
    "\n",
    "base_url = 'http://www.baidu.com?'\n",
    "\n",
    "# dict → query\n",
    "base_dict = {\n",
    "    'name': 'lisa',\n",
    "    'age': 18\n",
    "}\n",
    "query_dict = urlencode(base_dict)\n",
    "url_dict = base_url + query_dict\n",
    "\n",
    "# list tuple → query\n",
    "base_tuple=[('name', 'germey'), ('age', 22)]\n",
    "query_tuple = urlencode(base_tuple)\n",
    "url_tuple = base_url + query_tuple\n",
    "\n",
    "\n",
    "print(query_dict, url_dict, query_tuple, url_tuple, sep='\\n')"
   ]
  },
  {
   "cell_type": "markdown",
   "metadata": {},
   "source": [
    "### parse_qs() / parse_qsl()\n",
    "URL - query string  →  dict_list / list_tuple\n",
    "\n",
    "`dict = urllib.parse.parse_qs(str)`\n",
    "\n",
    "`list_tuple = urllib.parse.parse_qsl(str)`\n"
   ]
  },
  {
   "cell_type": "code",
   "execution_count": 80,
   "metadata": {},
   "outputs": [
    {
     "name": "stdout",
     "output_type": "stream",
     "text": [
      "{'name': ['lisa'], 'age': ['18']}\n",
      "[('name', 'lisa'), ('age', '18')]\n"
     ]
    }
   ],
   "source": [
    "from urllib.parse import parse_qs, parse_qsl, urlsplit\n",
    "\n",
    "url = 'http://www.baidu.com?name=lisa&age=18'\n",
    "query = urlsplit(url).query\n",
    "\n",
    "query_dict = parse_qs(query)\n",
    "query_tuple = parse_qsl(query)\n",
    "\n",
    "print(query_dict, query_tuple, sep='\\n')"
   ]
  },
  {
   "cell_type": "markdown",
   "metadata": {},
   "source": [
    "## 传入中文"
   ]
  },
  {
   "cell_type": "markdown",
   "metadata": {},
   "source": [
    "### quote()\n",
    "中文、其他字符 → URL 编码"
   ]
  },
  {
   "cell_type": "code",
   "execution_count": 81,
   "metadata": {},
   "outputs": [
    {
     "name": "stdout",
     "output_type": "stream",
     "text": [
      "https://www.baidu.com/s?wd=%E5%B8%83%E4%B8%81\n"
     ]
    }
   ],
   "source": [
    "from urllib.parse import quote\n",
    "\n",
    "base_url = 'https://www.baidu.com/s?wd='\n",
    "keyword = '布丁'\n",
    "\n",
    "url = base_url + quote(keyword)\n",
    "\n",
    "print(url)"
   ]
  },
  {
   "cell_type": "markdown",
   "metadata": {},
   "source": [
    "### unquote()\n",
    "URL 编码 → 中文等字符"
   ]
  },
  {
   "cell_type": "code",
   "execution_count": 86,
   "metadata": {},
   "outputs": [
    {
     "name": "stdout",
     "output_type": "stream",
     "text": [
      "https://www.baidu.com/s?wd=布丁\n"
     ]
    }
   ],
   "source": [
    "from urllib.parse import unquote  \n",
    "\n",
    "url = 'https://www.baidu.com/s?wd=%E5%B8%83%E4%B8%81'  \n",
    "print(unquote(url))"
   ]
  },
  {
   "cell_type": "code",
   "execution_count": null,
   "metadata": {},
   "outputs": [],
   "source": []
  }
 ],
 "metadata": {
  "kernelspec": {
   "display_name": "Python 3",
   "language": "python",
   "name": "python3"
  },
  "language_info": {
   "codemirror_mode": {
    "name": "ipython",
    "version": 3
   },
   "file_extension": ".py",
   "mimetype": "text/x-python",
   "name": "python",
   "nbconvert_exporter": "python",
   "pygments_lexer": "ipython3",
   "version": "3.7.3"
  },
  "latex_envs": {
   "LaTeX_envs_menu_present": true,
   "autoclose": true,
   "autocomplete": true,
   "bibliofile": "biblio.bib",
   "cite_by": "apalike",
   "current_citInitial": 1,
   "eqLabelWithNumbers": true,
   "eqNumInitial": 1,
   "hotkeys": {
    "equation": "Ctrl-E",
    "itemize": "Ctrl-I"
   },
   "labels_anchors": false,
   "latex_user_defs": false,
   "report_style_numbering": false,
   "user_envs_cfg": false
  },
  "toc": {
   "base_numbering": 1,
   "nav_menu": {},
   "number_sections": true,
   "sideBar": true,
   "skip_h1_title": false,
   "title_cell": "Table of Contents",
   "title_sidebar": "Contents",
   "toc_cell": true,
   "toc_position": {
    "height": "calc(100% - 180px)",
    "left": "10px",
    "top": "150px",
    "width": "178px"
   },
   "toc_section_display": true,
   "toc_window_display": true
  },
  "varInspector": {
   "cols": {
    "lenName": 16,
    "lenType": 16,
    "lenVar": 40
   },
   "kernels_config": {
    "python": {
     "delete_cmd_postfix": "",
     "delete_cmd_prefix": "del ",
     "library": "var_list.py",
     "varRefreshCmd": "print(var_dic_list())"
    },
    "r": {
     "delete_cmd_postfix": ") ",
     "delete_cmd_prefix": "rm(",
     "library": "var_list.r",
     "varRefreshCmd": "cat(var_dic_list()) "
    }
   },
   "types_to_exclude": [
    "module",
    "function",
    "builtin_function_or_method",
    "instance",
    "_Feature"
   ],
   "window_display": false
  }
 },
 "nbformat": 4,
 "nbformat_minor": 2
}
