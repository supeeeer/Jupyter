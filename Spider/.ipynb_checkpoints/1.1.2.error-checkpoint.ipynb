{
 "cells": [
  {
   "cell_type": "markdown",
   "metadata": {
    "toc": true
   },
   "source": [
    "<h1>Table of Contents<span class=\"tocSkip\"></span></h1>\n",
    "<div class=\"toc\"><ul class=\"toc-item\"><li><span><a href=\"#error模块---处理异常\" data-toc-modified-id=\"error模块---处理异常-1\"><span class=\"toc-item-num\">1&nbsp;&nbsp;</span>error模块 - 处理异常</a></span><ul class=\"toc-item\"><li><span><a href=\"#URLError\" data-toc-modified-id=\"URLError-1.1\"><span class=\"toc-item-num\">1.1&nbsp;&nbsp;</span>URLError</a></span></li><li><span><a href=\"#HTTPError\" data-toc-modified-id=\"HTTPError-1.2\"><span class=\"toc-item-num\">1.2&nbsp;&nbsp;</span>HTTPError</a></span></li></ul></li></ul></div>"
   ]
  },
  {
   "cell_type": "markdown",
   "metadata": {},
   "source": [
    "# error模块 - 处理异常\n",
    "urllib.request 模块引发的异常或错误都由 urllib.error 模块处理\n",
    "\n",
    "<span class=\"mark\">❗️先捕获子类，再捕获父类</span>"
   ]
  },
  {
   "cell_type": "markdown",
   "metadata": {},
   "source": [
    "## URLError\n",
    "捕获由 request 模块产生的异常。继承自 OSError 类，是 error 异常模块的基类\n",
    "\n",
    "属性：\n",
    "- reason：返回错误原因、错误对象"
   ]
  },
  {
   "cell_type": "code",
   "execution_count": 11,
   "metadata": {},
   "outputs": [
    {
     "name": "stdout",
     "output_type": "stream",
     "text": [
      "Not Found\n"
     ]
    }
   ],
   "source": [
    "from urllib.error import URLError \n",
    "from urllib import request\n",
    "\n",
    "try:\n",
    "    response = request.urlopen('https://cuiqingcai.com/index.htm')\n",
    "    response.read().decode('utf8')\n",
    "except URLError as e:\n",
    "    print(e.reason)"
   ]
  },
  {
   "cell_type": "code",
   "execution_count": 29,
   "metadata": {},
   "outputs": [
    {
     "name": "stdout",
     "output_type": "stream",
     "text": [
      "_ssl.c:1039: The handshake operation timed out\n",
      "<class 'socket.timeout'>\n",
      "TIME OUT\n"
     ]
    }
   ],
   "source": [
    "import socket\n",
    "from urllib.error import URLError \n",
    "from urllib import request\n",
    "\n",
    "try:\n",
    "    response = request.urlopen('https://cuiqingcai.com/index.htm', timeout=0.1)\n",
    "    response.read().decode('utf8')\n",
    "except URLError as e:\n",
    "    print(e.reason)          # 返回一个对象\n",
    "    print(type(e.reason))\n",
    "    if isinstance(e.reason, socket.timeout):\n",
    "        print('TIME OUT')"
   ]
  },
  {
   "cell_type": "markdown",
   "metadata": {},
   "source": [
    "## HTTPError\n",
    "捕获具有HTTP错误状态码的错误。是 URLError 的子类\n",
    "\n",
    "不捕获：\n",
    "网址错误、传输数据不完整、timeout\n",
    "\n",
    "属性：\n",
    "- code：返回 HTTP 状态码，比如 404 表示网页不存在，500 表示服务器内部错误等\n",
    "- reason：同父类一样，用于返回错误的原因\n",
    "- headers：返回请求头"
   ]
  },
  {
   "cell_type": "code",
   "execution_count": 18,
   "metadata": {},
   "outputs": [
    {
     "name": "stdout",
     "output_type": "stream",
     "text": [
      "Not Found\n",
      "404\n",
      "Server: nginx/1.10.3 (Ubuntu)\n",
      "Date: Wed, 14 Aug 2019 02:41:14 GMT\n",
      "Content-Type: text/html; charset=UTF-8\n",
      "Transfer-Encoding: chunked\n",
      "Connection: close\n",
      "Set-Cookie: PHPSESSID=rvdvebgbdpa30k5r8jrlj0q9u5; path=/\n",
      "Pragma: no-cache\n",
      "Vary: Cookie\n",
      "Expires: Wed, 11 Jan 1984 05:00:00 GMT\n",
      "Cache-Control: no-cache, must-revalidate, max-age=0\n",
      "Link: <https://cuiqingcai.com/wp-json/>; rel=\"https://api.w.org/\"\n",
      "\n",
      "\n",
      "https://cuiqingcai.com/index.htm\n"
     ]
    }
   ],
   "source": [
    "from urllib.error import HTTPError \n",
    "from urllib import request\n",
    "\n",
    "try:\n",
    "    response = request.urlopen('https://cuiqingcai.com/index.htm')\n",
    "    response.read().decode('utf8')\n",
    "except HTTPError as e:\n",
    "    print(e.reason, e.code, e.headers, e.geturl(), sep='\\n')"
   ]
  },
  {
   "cell_type": "code",
   "execution_count": 25,
   "metadata": {},
   "outputs": [
    {
     "name": "stdout",
     "output_type": "stream",
     "text": [
      "404\n",
      "Not Found\n",
      "Server: nginx/1.10.3 (Ubuntu)\n",
      "Date: Wed, 14 Aug 2019 03:15:09 GMT\n",
      "Content-Type: text/html; charset=UTF-8\n",
      "Transfer-Encoding: chunked\n",
      "Connection: close\n",
      "Set-Cookie: PHPSESSID=a3esn3ls3kq6i5tebt7f8rj1r1; path=/\n",
      "Pragma: no-cache\n",
      "Vary: Cookie\n",
      "Expires: Wed, 11 Jan 1984 05:00:00 GMT\n",
      "Cache-Control: no-cache, must-revalidate, max-age=0\n",
      "Link: <https://cuiqingcai.com/wp-json/>; rel=\"https://api.w.org/\"\n",
      "\n",
      "\n"
     ]
    }
   ],
   "source": [
    "from urllib import request, error\n",
    "\n",
    "try:\n",
    "    response = request.urlopen('https://cuiqingcai.com/index.htm')\n",
    "except error.HTTPError as e:   # 先捕获子类\n",
    "    print(e.code, e.reason, e.headers, sep='\\n')\n",
    "except error.URLError as e:    # 后捕获父类\n",
    "    print(e.reason)\n",
    "else:                          # 无错误时\n",
    "    print(response.read().decode('utf8'))"
   ]
  },
  {
   "cell_type": "code",
   "execution_count": null,
   "metadata": {},
   "outputs": [],
   "source": []
  }
 ],
 "metadata": {
  "kernelspec": {
   "display_name": "Python 3",
   "language": "python",
   "name": "python3"
  },
  "language_info": {
   "codemirror_mode": {
    "name": "ipython",
    "version": 3
   },
   "file_extension": ".py",
   "mimetype": "text/x-python",
   "name": "python",
   "nbconvert_exporter": "python",
   "pygments_lexer": "ipython3",
   "version": "3.7.3"
  },
  "latex_envs": {
   "LaTeX_envs_menu_present": true,
   "autoclose": true,
   "autocomplete": true,
   "bibliofile": "biblio.bib",
   "cite_by": "apalike",
   "current_citInitial": 1,
   "eqLabelWithNumbers": true,
   "eqNumInitial": 1,
   "hotkeys": {
    "equation": "Ctrl-E",
    "itemize": "Ctrl-I"
   },
   "labels_anchors": false,
   "latex_user_defs": false,
   "report_style_numbering": false,
   "user_envs_cfg": false
  },
  "toc": {
   "base_numbering": 1,
   "nav_menu": {},
   "number_sections": true,
   "sideBar": true,
   "skip_h1_title": false,
   "title_cell": "Table of Contents",
   "title_sidebar": "Contents",
   "toc_cell": true,
   "toc_position": {},
   "toc_section_display": true,
   "toc_window_display": false
  },
  "varInspector": {
   "cols": {
    "lenName": 16,
    "lenType": 16,
    "lenVar": 40
   },
   "kernels_config": {
    "python": {
     "delete_cmd_postfix": "",
     "delete_cmd_prefix": "del ",
     "library": "var_list.py",
     "varRefreshCmd": "print(var_dic_list())"
    },
    "r": {
     "delete_cmd_postfix": ") ",
     "delete_cmd_prefix": "rm(",
     "library": "var_list.r",
     "varRefreshCmd": "cat(var_dic_list()) "
    }
   },
   "types_to_exclude": [
    "module",
    "function",
    "builtin_function_or_method",
    "instance",
    "_Feature"
   ],
   "window_display": false
  }
 },
 "nbformat": 4,
 "nbformat_minor": 2
}
