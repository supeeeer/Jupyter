{
 "cells": [
  {
   "cell_type": "markdown",
   "metadata": {
    "toc": true
   },
   "source": [
    "<h1>Table of Contents<span class=\"tocSkip\"></span></h1>\n",
    "<div class=\"toc\"><ul class=\"toc-item\"><li><span><a href=\"#Requests库\" data-toc-modified-id=\"Requests库-1\"><span class=\"toc-item-num\">1&nbsp;&nbsp;</span>Requests库</a></span><ul class=\"toc-item\"><li><span><a href=\"#发生请求\" data-toc-modified-id=\"发生请求-1.1\"><span class=\"toc-item-num\">1.1&nbsp;&nbsp;</span>发生请求</a></span></li></ul></li></ul></div>"
   ]
  },
  {
   "cell_type": "markdown",
   "metadata": {},
   "source": [
    "# Requests库\n",
    "主要代替了 Opener 和 Handler ，处理 Cookies、登录验证、代理设置等操作\n"
   ]
  },
  {
   "cell_type": "markdown",
   "metadata": {},
   "source": [
    "## 发生请求\n",
    "`requests.models.Response = requests.get(url)`\n",
    "\n",
    "请求方法：`requests.get()、requests.post()、requests.delete()`等"
   ]
  },
  {
   "cell_type": "code",
   "execution_count": 51,
   "metadata": {
    "cell_style": "center"
   },
   "outputs": [
    {
     "name": "stdout",
     "output_type": "stream",
     "text": [
      "<class 'requests.models.Response'> <Response [200]> \n",
      "\n",
      "<PreparedRequest [GET]>\n",
      "ISO-8859-1\n",
      "https://www.baidu.com/\n",
      "200\n",
      "OK\n",
      "\n",
      "\n",
      "{'Cache-Control': 'private, no-cache, no-store, proxy-revalidate, no-transform', 'Connection': 'Keep-Alive', 'Content-Encoding': 'gzip', 'Content-Type': 'text/html', 'Date': 'Thu, 15 Aug 2019 01:51:48 GMT', 'Last-Modified': 'Mon, 23 Jan 2017 13:23:55 GMT', 'Pragma': 'no-cache', 'Server': 'bfe/1.0.8.18', 'Set-Cookie': 'BDORZ=27315; max-age=86400; domain=.baidu.com; path=/', 'Transfer-Encoding': 'chunked'} \n",
      "\n",
      "❗️Set-Cookie =  BDORZ=27315; max-age=86400; domain=.baidu.com; path=/\n",
      "<RequestsCookieJar[<Cookie BDORZ=27315 for .baidu.com/>]> \n",
      "\n",
      "<class 'str'> <class 'bytes'>\n"
     ]
    }
   ],
   "source": [
    "# response 对象的属性\n",
    "import requests\n",
    "\n",
    "url = 'https://www.baidu.com/'\n",
    "r = requests.get(url)            # 返回 response 对象\n",
    "\n",
    "print(type(r), r, '\\n')\n",
    "print(r.request, r.encoding, \n",
    "      r.url, r.status_code, r.reason, '\\n', sep='\\n')\n",
    "\n",
    "print(r.headers, '\\n')\n",
    "print('❗️Set-Cookie = ', r.headers['Set-Cookie'])\n",
    "print(r.cookies,'\\n')\n",
    "\n",
    "\n",
    "# text 返回str，content 返回 bytes\n",
    "print(type(r.text), type(r.content))\n"
   ]
  },
  {
   "cell_type": "code",
   "execution_count": null,
   "metadata": {},
   "outputs": [],
   "source": []
  }
 ],
 "metadata": {
  "kernelspec": {
   "display_name": "Python 3",
   "language": "python",
   "name": "python3"
  },
  "language_info": {
   "codemirror_mode": {
    "name": "ipython",
    "version": 3
   },
   "file_extension": ".py",
   "mimetype": "text/x-python",
   "name": "python",
   "nbconvert_exporter": "python",
   "pygments_lexer": "ipython3",
   "version": "3.7.3"
  },
  "latex_envs": {
   "LaTeX_envs_menu_present": true,
   "autoclose": true,
   "autocomplete": true,
   "bibliofile": "biblio.bib",
   "cite_by": "apalike",
   "current_citInitial": 1,
   "eqLabelWithNumbers": true,
   "eqNumInitial": 1,
   "hotkeys": {
    "equation": "Ctrl-E",
    "itemize": "Ctrl-I"
   },
   "labels_anchors": false,
   "latex_user_defs": false,
   "report_style_numbering": false,
   "user_envs_cfg": false
  },
  "toc": {
   "base_numbering": 1,
   "nav_menu": {},
   "number_sections": true,
   "sideBar": true,
   "skip_h1_title": false,
   "title_cell": "Table of Contents",
   "title_sidebar": "Contents",
   "toc_cell": true,
   "toc_position": {},
   "toc_section_display": true,
   "toc_window_display": false
  },
  "varInspector": {
   "cols": {
    "lenName": 16,
    "lenType": 16,
    "lenVar": 40
   },
   "kernels_config": {
    "python": {
     "delete_cmd_postfix": "",
     "delete_cmd_prefix": "del ",
     "library": "var_list.py",
     "varRefreshCmd": "print(var_dic_list())"
    },
    "r": {
     "delete_cmd_postfix": ") ",
     "delete_cmd_prefix": "rm(",
     "library": "var_list.r",
     "varRefreshCmd": "cat(var_dic_list()) "
    }
   },
   "types_to_exclude": [
    "module",
    "function",
    "builtin_function_or_method",
    "instance",
    "_Feature"
   ],
   "window_display": false
  }
 },
 "nbformat": 4,
 "nbformat_minor": 2
}
