{
 "cells": [
  {
   "cell_type": "markdown",
   "metadata": {
    "toc": true
   },
   "source": [
    "<h1>Table of Contents<span class=\"tocSkip\"></span></h1>\n",
    "<div class=\"toc\"><ul class=\"toc-item\"><li><span><a href=\"#Charles\" data-toc-modified-id=\"Charles-1\"><span class=\"toc-item-num\">1&nbsp;&nbsp;</span>Charles</a></span></li></ul></div>"
   ]
  },
  {
   "cell_type": "markdown",
   "metadata": {},
   "source": [
    "- App抓包\n",
    "\n",
    "    App 中的页面要加载出来，首先需要获取数据，而这些数据一般是通过**请求服务器的接口**来获取的。\n",
    "\n",
    "    由于 App 没有浏览器这种可以比较直观地看到后台请求的工具，所以主要用一些**抓包技术**来抓取数据\n",
    "    \n",
    "    \n",
    "- HTTPS抓包\n",
    "\n",
    "    如果一个 App 通信应用了 HTTPS 协议，那么它通信的数据都会是被加密的，常规的截包方法是无法识别请求内部的数据的\n",
    "\n",
    "    想要做 HTTPS 抓包的话，需要配置一下相关 SSL 证书。\n",
    "    \n",
    "    \n",
    "- 抓包库：\n",
    "    - Charles：处理简单的接口，找出规律，然后直接用程序模拟来抓取了。\n",
    "\n",
    "    - mitmdump：对接 Python 对抓取到的请求和响应进行实时处理和保存。\n",
    "\n",
    "    - Appium：它可以像 Selenium 一样对 App 进行自动化控制，如自动化模拟 App 的点击、下拉等操作"
   ]
  },
  {
   "cell_type": "markdown",
   "metadata": {},
   "source": [
    "# Charles\n"
   ]
  },
  {
   "cell_type": "markdown",
   "metadata": {},
   "source": [
    "安装过程：https://python3webspider.cuiqingcai.com/1.7app-pa-qu-xiang-guan-ku-de-an-zhuang#1-7-1charles-de-an-zhuang\n",
    "- 电脑：\n",
    "\n",
    "    下载证书：Help→SSL Proxying→Install Charles Root Certificate\n",
    "    \n",
    "\n",
    "- 手机：\n",
    "    1. 打开电脑 Charles 代理 (打开HTTP 代理：Proxy→Proxy Settings)\n",
    "    2. 设置手机的代理 (电脑与手机在同一局域网下)，下载证书 \n",
    "    3. 在 “设置”→“通用”→“关于本机”→“证书信任设置” 中将证书的完全信任开关打开\n",
    " "
   ]
  },
  {
   "cell_type": "code",
   "execution_count": null,
   "metadata": {},
   "outputs": [],
   "source": []
  }
 ],
 "metadata": {
  "hide_input": false,
  "kernelspec": {
   "display_name": "Python 3",
   "language": "python",
   "name": "python3"
  },
  "language_info": {
   "codemirror_mode": {
    "name": "ipython",
    "version": 3
   },
   "file_extension": ".py",
   "mimetype": "text/x-python",
   "name": "python",
   "nbconvert_exporter": "python",
   "pygments_lexer": "ipython3",
   "version": "3.7.3"
  },
  "latex_envs": {
   "LaTeX_envs_menu_present": true,
   "autoclose": true,
   "autocomplete": true,
   "bibliofile": "biblio.bib",
   "cite_by": "apalike",
   "current_citInitial": 1,
   "eqLabelWithNumbers": true,
   "eqNumInitial": 1,
   "hotkeys": {
    "equation": "Ctrl-E",
    "itemize": "Ctrl-I"
   },
   "labels_anchors": false,
   "latex_user_defs": false,
   "report_style_numbering": false,
   "user_envs_cfg": false
  },
  "nbTranslate": {
   "displayLangs": [
    "*"
   ],
   "hotkey": "alt-t",
   "langInMainMenu": true,
   "sourceLang": "en",
   "targetLang": "fr",
   "useGoogleTranslate": true
  },
  "toc": {
   "base_numbering": 1,
   "nav_menu": {},
   "number_sections": true,
   "sideBar": true,
   "skip_h1_title": false,
   "title_cell": "Table of Contents",
   "title_sidebar": "Contents",
   "toc_cell": true,
   "toc_position": {},
   "toc_section_display": true,
   "toc_window_display": false
  },
  "varInspector": {
   "cols": {
    "lenName": 16,
    "lenType": 16,
    "lenVar": 40
   },
   "kernels_config": {
    "python": {
     "delete_cmd_postfix": "",
     "delete_cmd_prefix": "del ",
     "library": "var_list.py",
     "varRefreshCmd": "print(var_dic_list())"
    },
    "r": {
     "delete_cmd_postfix": ") ",
     "delete_cmd_prefix": "rm(",
     "library": "var_list.r",
     "varRefreshCmd": "cat(var_dic_list()) "
    }
   },
   "types_to_exclude": [
    "module",
    "function",
    "builtin_function_or_method",
    "instance",
    "_Feature"
   ],
   "window_display": false
  }
 },
 "nbformat": 4,
 "nbformat_minor": 2
}
