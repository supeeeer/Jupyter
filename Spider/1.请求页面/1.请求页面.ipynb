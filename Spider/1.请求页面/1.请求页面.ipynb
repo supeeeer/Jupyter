{
 "cells": [
  {
   "cell_type": "markdown",
   "metadata": {
    "toc": true
   },
   "source": [
    "<h1>Table of Contents<span class=\"tocSkip\"></span></h1>\n",
    "<div class=\"toc\"><ul class=\"toc-item\"><li><span><a href=\"#提取的数据形式\" data-toc-modified-id=\"提取的数据形式-1\"><span class=\"toc-item-num\">1&nbsp;&nbsp;</span>提取的数据形式</a></span></li><li><span><a href=\"#爬取过程\" data-toc-modified-id=\"爬取过程-2\"><span class=\"toc-item-num\">2&nbsp;&nbsp;</span>爬取过程</a></span><ul class=\"toc-item\"><li><span><a href=\"#静态页面爬取\" data-toc-modified-id=\"静态页面爬取-2.1\"><span class=\"toc-item-num\">2.1&nbsp;&nbsp;</span>静态页面爬取</a></span></li><li><span><a href=\"#JS-页面爬取\" data-toc-modified-id=\"JS-页面爬取-2.2\"><span class=\"toc-item-num\">2.2&nbsp;&nbsp;</span>JS 页面爬取</a></span></li><li><span><a href=\"#使用库\" data-toc-modified-id=\"使用库-2.3\"><span class=\"toc-item-num\">2.3&nbsp;&nbsp;</span>使用库</a></span><ul class=\"toc-item\"><li><span><a href=\"#aiohttp\" data-toc-modified-id=\"aiohttp-2.3.1\"><span class=\"toc-item-num\">2.3.1&nbsp;&nbsp;</span>aiohttp</a></span><ul class=\"toc-item\"><li><span><a href=\"#安装包\" data-toc-modified-id=\"安装包-2.3.1.1\"><span class=\"toc-item-num\">2.3.1.1&nbsp;&nbsp;</span>安装包</a></span></li></ul></li><li><span><a href=\"#Selenium\" data-toc-modified-id=\"Selenium-2.3.2\"><span class=\"toc-item-num\">2.3.2&nbsp;&nbsp;</span>Selenium</a></span><ul class=\"toc-item\"><li><span><a href=\"#使用时配置路径\" data-toc-modified-id=\"使用时配置路径-2.3.2.1\"><span class=\"toc-item-num\">2.3.2.1&nbsp;&nbsp;</span>使用时配置路径</a></span></li><li><span><a href=\"#将driver配置到系统环境\" data-toc-modified-id=\"将driver配置到系统环境-2.3.2.2\"><span class=\"toc-item-num\">2.3.2.2&nbsp;&nbsp;</span>将driver配置到系统环境</a></span></li><li><span><a href=\"#导入driver\" data-toc-modified-id=\"导入driver-2.3.2.3\"><span class=\"toc-item-num\">2.3.2.3&nbsp;&nbsp;</span>导入driver</a></span></li></ul></li></ul></li></ul></li></ul></div>"
   ]
  },
  {
   "cell_type": "markdown",
   "metadata": {},
   "source": [
    "# 提取的数据形式\n",
    "- HTML代码\n",
    "- JSON 字符串（ API 接口大多采用这样的形式），这种格式的数据方便传输和解析，且数据提取更加方便\n",
    "- 二进制数据，如图片、视频和音频等。可以将这些数据抓取下来，然后保存成对应的文件名\n",
    "- 各种扩展名的文件，如 CSS、JavaScript 和配置文件等\n",
    "\n",
    "总结：有自己的 URL + 基于 HTTP 或 HTTPS 协议的都可以爬取"
   ]
  },
  {
   "cell_type": "markdown",
   "metadata": {},
   "source": [
    "# 爬取过程"
   ]
  },
  {
   "cell_type": "markdown",
   "metadata": {},
   "source": [
    "## 静态页面爬取\n",
    "\n"
   ]
  },
  {
   "cell_type": "markdown",
   "metadata": {},
   "source": [
    "## JS 页面爬取\n",
    "- 问题：\n",
    "\n",
    "    采用 Ajax、前端模块化工具构建，网页会被 JS 渲染，看到的页面与 HTML 代码会有很大区别\n",
    "\n",
    "    而用 urllib 或 requests 等库请求页面时，只得到 HTML ，它不会帮助我们去继续加载这个 JS 文件\n",
    "\n",
    "- 解决：\n",
    "    1. 分析其后台 Ajax 接口\n",
    "    2. 使用 Selenium、Splash 这样的库模拟 JavaScript 渲染\n"
   ]
  },
  {
   "cell_type": "markdown",
   "metadata": {},
   "source": [
    "## 使用库\n",
    "[urllib](1.1.urllib.ipynb)\n",
    "\n",
    "[requests](1.2.requests.ipynb)"
   ]
  },
  {
   "cell_type": "markdown",
   "metadata": {},
   "source": [
    "### aiohttp\n",
    "\n",
    "支持异步\n",
    "\n"
   ]
  },
  {
   "cell_type": "markdown",
   "metadata": {},
   "source": [
    "#### 安装包\n",
    "\n",
    "- aiohttp\n",
    "\n",
    "    `conda install aiohttp`\n",
    "    \n",
    "    \n",
    "- chardet：字符编码检测库 \n",
    "\n",
    "    `conda install cchardet`\n",
    "    \n",
    "    \n",
    "- aiodns：加速 DNS 的解析库 \n",
    "\n",
    "    直接conda install找不到，可以去https://anaconda.org/ 官网搜索\n",
    "\n",
    "    `conda install -c dalvenjia aiodns `"
   ]
  },
  {
   "cell_type": "markdown",
   "metadata": {},
   "source": [
    "### Selenium"
   ]
  },
  {
   "cell_type": "markdown",
   "metadata": {},
   "source": [
    "#### 使用时配置路径\n",
    "```\n",
    "from selenium import webdriver\n",
    "\n",
    "browser = webdriver.Chrome('/Users/supeeeer/CODE/Phython/Spider/Driver/chromedriver')\n",
    "```"
   ]
  },
  {
   "cell_type": "markdown",
   "metadata": {},
   "source": [
    "#### 将driver配置到系统环境\n",
    "1. 进入 ~/.bash_profile\n",
    "2. 添加存放driver的文件夹路径\n",
    "3. source ~/.bash_profile\n",
    "4. chromedriver，若配置成功，则可运行命令\n",
    "\n",
    "若出现闪退问题，可能是下载的driver版本不匹配"
   ]
  },
  {
   "cell_type": "markdown",
   "metadata": {},
   "source": [
    "#### 导入driver\n",
    "使用selenium时，需要配置浏览器driver\n",
    "\n",
    "使用 ChromeDriver, Opera Driver, Android Driver 以及 iOS Driver需要额外配置\n",
    "\n",
    "Chrome: https://sites.google.com/a/chromium.org/chromedriver/\n",
    "\n",
    "Firefox: https://github.com/mozilla/geckodriver/releases\n",
    "\n",
    "使用PhantomJs"
   ]
  }
 ],
 "metadata": {
  "hide_input": false,
  "kernelspec": {
   "display_name": "Python 3",
   "language": "python",
   "name": "python3"
  },
  "language_info": {
   "codemirror_mode": {
    "name": "ipython",
    "version": 3
   },
   "file_extension": ".py",
   "mimetype": "text/x-python",
   "name": "python",
   "nbconvert_exporter": "python",
   "pygments_lexer": "ipython3",
   "version": "3.7.3"
  },
  "latex_envs": {
   "LaTeX_envs_menu_present": true,
   "autoclose": true,
   "autocomplete": true,
   "bibliofile": "biblio.bib",
   "cite_by": "apalike",
   "current_citInitial": 1,
   "eqLabelWithNumbers": true,
   "eqNumInitial": 1,
   "hotkeys": {
    "equation": "Ctrl-E",
    "itemize": "Ctrl-I"
   },
   "labels_anchors": false,
   "latex_user_defs": false,
   "report_style_numbering": false,
   "user_envs_cfg": false
  },
  "nbTranslate": {
   "displayLangs": [
    "*"
   ],
   "hotkey": "alt-t",
   "langInMainMenu": true,
   "sourceLang": "en",
   "targetLang": "fr",
   "useGoogleTranslate": true
  },
  "toc": {
   "base_numbering": 1,
   "nav_menu": {},
   "number_sections": true,
   "sideBar": true,
   "skip_h1_title": false,
   "title_cell": "Table of Contents",
   "title_sidebar": "Contents",
   "toc_cell": true,
   "toc_position": {
    "height": "calc(100% - 180px)",
    "left": "10px",
    "top": "150px",
    "width": "165px"
   },
   "toc_section_display": true,
   "toc_window_display": true
  },
  "varInspector": {
   "cols": {
    "lenName": 16,
    "lenType": 16,
    "lenVar": 40
   },
   "kernels_config": {
    "python": {
     "delete_cmd_postfix": "",
     "delete_cmd_prefix": "del ",
     "library": "var_list.py",
     "varRefreshCmd": "print(var_dic_list())"
    },
    "r": {
     "delete_cmd_postfix": ") ",
     "delete_cmd_prefix": "rm(",
     "library": "var_list.r",
     "varRefreshCmd": "cat(var_dic_list()) "
    }
   },
   "types_to_exclude": [
    "module",
    "function",
    "builtin_function_or_method",
    "instance",
    "_Feature"
   ],
   "window_display": false
  }
 },
 "nbformat": 4,
 "nbformat_minor": 2
}
