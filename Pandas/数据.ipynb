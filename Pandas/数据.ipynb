{
 "cells": [
  {
   "cell_type": "markdown",
   "metadata": {
    "toc": true
   },
   "source": [
    "<h1>Table of Contents<span class=\"tocSkip\"></span></h1>\n",
    "<div class=\"toc\"><ul class=\"toc-item\"><li><span><a href=\"#数据结构\" data-toc-modified-id=\"数据结构-1\"><span class=\"toc-item-num\">1&nbsp;&nbsp;</span>数据结构</a></span><ul class=\"toc-item\"><li><span><a href=\"#Series\" data-toc-modified-id=\"Series-1.1\"><span class=\"toc-item-num\">1.1&nbsp;&nbsp;</span>Series</a></span><ul class=\"toc-item\"><li><span><a href=\"#查找\" data-toc-modified-id=\"查找-1.1.1\"><span class=\"toc-item-num\">1.1.1&nbsp;&nbsp;</span>查找</a></span></li></ul></li><li><span><a href=\"#DataFrame\" data-toc-modified-id=\"DataFrame-1.2\"><span class=\"toc-item-num\">1.2&nbsp;&nbsp;</span>DataFrame</a></span><ul class=\"toc-item\"><li><span><a href=\"#insert()-添加列\" data-toc-modified-id=\"insert()-添加列-1.2.1\"><span class=\"toc-item-num\">1.2.1&nbsp;&nbsp;</span>insert() 添加列</a></span></li><li><span><a href=\"#isin()-判断\" data-toc-modified-id=\"isin()-判断-1.2.2\"><span class=\"toc-item-num\">1.2.2&nbsp;&nbsp;</span>isin() 判断</a></span></li></ul></li></ul></li><li><span><a href=\"#数据操作\" data-toc-modified-id=\"数据操作-2\"><span class=\"toc-item-num\">2&nbsp;&nbsp;</span>数据操作</a></span><ul class=\"toc-item\"><li><span><a href=\"#读取数据\" data-toc-modified-id=\"读取数据-2.1\"><span class=\"toc-item-num\">2.1&nbsp;&nbsp;</span>读取数据</a></span><ul class=\"toc-item\"><li><span><a href=\"#pandas.read_csv()\" data-toc-modified-id=\"pandas.read_csv()-2.1.1\"><span class=\"toc-item-num\">2.1.1&nbsp;&nbsp;</span>pandas.read_csv()</a></span></li></ul></li><li><span><a href=\"#显示\" data-toc-modified-id=\"显示-2.2\"><span class=\"toc-item-num\">2.2&nbsp;&nbsp;</span>显示</a></span><ul class=\"toc-item\"><li><span><a href=\"#DataFrame.head()-/-DataFrame.tail()\" data-toc-modified-id=\"DataFrame.head()-/-DataFrame.tail()-2.2.1\"><span class=\"toc-item-num\">2.2.1&nbsp;&nbsp;</span>DataFrame.head() / DataFrame.tail()</a></span></li><li><span><a href=\"#DataFrame.describe()\" data-toc-modified-id=\"DataFrame.describe()-2.2.2\"><span class=\"toc-item-num\">2.2.2&nbsp;&nbsp;</span>DataFrame.describe()</a></span></li><li><span><a href=\"#df.loc[-]、df.iloc[-]：选择行、列\" data-toc-modified-id=\"df.loc[-]、df.iloc[-]：选择行、列-2.2.3\"><span class=\"toc-item-num\">2.2.3&nbsp;&nbsp;</span>df.loc[ ]、df.iloc[ ]：选择行、列</a></span></li><li><span><a href=\"#使用matplotlib\" data-toc-modified-id=\"使用matplotlib-2.2.4\"><span class=\"toc-item-num\">2.2.4&nbsp;&nbsp;</span>使用matplotlib</a></span></li></ul></li></ul></li></ul></div>"
   ]
  },
  {
   "cell_type": "code",
   "execution_count": 2,
   "metadata": {},
   "outputs": [],
   "source": [
    "import pandas as pd"
   ]
  },
  {
   "cell_type": "markdown",
   "metadata": {},
   "source": [
    "# 数据结构\n",
    "DataFrame可以理解为Excel中的一张表，Series可以理解为一张Excel表的一行或一列数据。"
   ]
  },
  {
   "cell_type": "markdown",
   "metadata": {},
   "source": [
    "## Series\n",
    "`pandas.Series(data=None, index=None, dtype=None, name=None, copy=False, fastpath=False)`\n",
    "\n",
    "Series = 索引 + 一维数组\n",
    "\n",
    "\n",
    "- index：设置索引，长度需要与数据相同。可重复。重排后索引不改变。默认为0,1,2... "
   ]
  },
  {
   "cell_type": "code",
   "execution_count": 42,
   "metadata": {},
   "outputs": [
    {
     "name": "stdout",
     "output_type": "stream",
     "text": [
      "0     1.0\n",
      "1     3.0\n",
      "2     6.0\n",
      "3     NaN\n",
      "4    44.0\n",
      "5     1.0\n",
      "dtype: float64 \n",
      "\n",
      "0     1.0\n",
      "5     1.0\n",
      "1     3.0\n",
      "2     6.0\n",
      "4    44.0\n",
      "3     NaN\n",
      "dtype: float64\n"
     ]
    }
   ],
   "source": [
    "s = pd.Series([1,3,6,np.nan,44,1])\n",
    "print(s,'\\n')\n",
    "print(s.sort_values())                 # 排序后，对应的索引保持不变"
   ]
  },
  {
   "cell_type": "code",
   "execution_count": 54,
   "metadata": {
    "cell_style": "split"
   },
   "outputs": [
    {
     "name": "stdout",
     "output_type": "stream",
     "text": [
      "a     1.0\n",
      "b     3.0\n",
      "c     6.0\n",
      "d     NaN\n",
      "e    44.0\n",
      "e     1.0\n",
      "dtype: float64 \n",
      "\n",
      "e    44.0\n",
      "e     1.0\n",
      "dtype: float64\n"
     ]
    }
   ],
   "source": [
    "# 使用index创建索引\n",
    "s = pd.Series([1,3,6,np.nan,44,1], index=['a', 'b', 'c', 'd', 'e', 'e'])\n",
    "print(s,'\\n')\n",
    "print(s['e'])         # 重复时，将所有的列出"
   ]
  },
  {
   "cell_type": "code",
   "execution_count": 55,
   "metadata": {
    "cell_style": "split"
   },
   "outputs": [
    {
     "name": "stdout",
     "output_type": "stream",
     "text": [
      "a     1.0\n",
      "b     3.0\n",
      "c     6.0\n",
      "d     NaN\n",
      "e    44.0\n",
      "dtype: float64\n"
     ]
    }
   ],
   "source": [
    "# 使用字典创建\n",
    "s = pd.Series({'a': 1.0, 'b': 3.0, 'c': 6.0, 'd': np.nan, 'e': 44.0})\n",
    "print(s)"
   ]
  },
  {
   "cell_type": "markdown",
   "metadata": {},
   "source": [
    "### 查找\n",
    "\n",
    "`Series[条件、索引]`\n",
    "\n",
    "`Series.loc[]`：切片"
   ]
  },
  {
   "cell_type": "code",
   "execution_count": 62,
   "metadata": {},
   "outputs": [
    {
     "name": "stdout",
     "output_type": "stream",
     "text": [
      "c     6.0\n",
      "e    44.0\n",
      "dtype: float64 \n",
      "\n",
      "nan\n"
     ]
    }
   ],
   "source": [
    "s = pd.Series({'a': 1.0, 'b': 3.0, 'c': 6.0, 'd': np.nan, 'e': 44.0})\n",
    "\n",
    "print(s[s>5],'\\n')       # 条件判断\n",
    "print(s['d'])"
   ]
  },
  {
   "cell_type": "code",
   "execution_count": 58,
   "metadata": {
    "cell_style": "center"
   },
   "outputs": [
    {
     "name": "stdout",
     "output_type": "stream",
     "text": [
      "a    1.0\n",
      "b    3.0\n",
      "c    6.0\n",
      "d    NaN\n",
      "dtype: float64\n"
     ]
    }
   ],
   "source": [
    "s = pd.Series({'a': 1.0, 'b': 3.0, 'c': 6.0, 'd': np.nan, 'e': 44.0})\n",
    "print(s.loc['a':'d'])"
   ]
  },
  {
   "cell_type": "markdown",
   "metadata": {},
   "source": [
    "## DataFrame\n",
    "`DataFrame([data, index, columns, dtype, copy])\t`"
   ]
  },
  {
   "cell_type": "code",
   "execution_count": 69,
   "metadata": {},
   "outputs": [
    {
     "name": "stdout",
     "output_type": "stream",
     "text": [
      "       单价  数量\n",
      "T001  100   3\n",
      "T002  200   3\n",
      "T003   30  10\n"
     ]
    }
   ],
   "source": [
    "# 字典创建\n",
    "df = pd.DataFrame({'单价': [100, 200, 30], '数量': [3, 3, 10]}, \n",
    "                  index=['T001', 'T002', 'T003']) \n",
    "print(df)"
   ]
  },
  {
   "cell_type": "code",
   "execution_count": 65,
   "metadata": {},
   "outputs": [
    {
     "name": "stdout",
     "output_type": "stream",
     "text": [
      "         单价    数量\n",
      "T001  100.0   3.0\n",
      "T002  200.0   3.0\n",
      "T003    NaN  10.0\n",
      "T004    NaN   2.0\n",
      "T005   30.0   NaN\n"
     ]
    }
   ],
   "source": [
    "# 使用series创建\n",
    "price = pd.Series([100, 200, 30], index=['T001', 'T002', 'T005'])\n",
    "quantity = pd.Series([3, 3, 10, 2], index=['T001', 'T002', 'T003', 'T004'])\n",
    "df = pd.DataFrame({'单价': price, '数量': quantity})\n",
    "print(df)"
   ]
  },
  {
   "cell_type": "markdown",
   "metadata": {},
   "source": [
    "### insert() 添加列\n",
    "`DataFrame.insert(loc, column, value)`\n",
    "- loc : (int) 0 <= loc <= len(columns)\n",
    "- column : 列名\n",
    "- value : int, Series, or array-like"
   ]
  },
  {
   "cell_type": "markdown",
   "metadata": {},
   "source": [
    "### isin() 判断\n",
    "`DataFrame = DataFrame.isin(values)`：返回bool, 每个数据是否为values\n",
    "\n",
    "`DataFrame = DataFrame[DataFrame.isin(values)]`：返回符合的数据集\n",
    "\n",
    "`DataFrame = DataFrame[~DataFrame.isin(values)]`：返回不符合的数据集\n",
    "\n",
    "- values : iterable, Series, DataFrame or dict"
   ]
  },
  {
   "cell_type": "code",
   "execution_count": 15,
   "metadata": {
    "cell_style": "split"
   },
   "outputs": [
    {
     "name": "stdout",
     "output_type": "stream",
     "text": [
      "        num_legs  num_wings\n",
      "falcon         2          2\n",
      "dog            4          0 \n",
      "\n",
      "        num_legs  num_wings\n",
      "falcon      True       True\n",
      "dog        False       True \n",
      "\n"
     ]
    }
   ],
   "source": [
    "df = pd.DataFrame({'num_legs': [2, 4], 'num_wings': [2, 0]}, \n",
    "                  index=['falcon', 'dog'])\n",
    "print(df,'\\n')\n",
    "\n",
    "print(df.isin([0, 2]),'\\n')\n"
   ]
  },
  {
   "cell_type": "code",
   "execution_count": 22,
   "metadata": {
    "cell_style": "split",
    "scrolled": true
   },
   "outputs": [
    {
     "name": "stdout",
     "output_type": "stream",
     "text": [
      "falcon    False\n",
      "dog        True\n",
      "Name: num_wings, dtype: bool \n",
      "\n",
      "        num_legs  num_wings\n",
      "falcon     False      False\n",
      "dog        False       True \n",
      "\n",
      "     num_legs  num_wings\n",
      "dog         4          0 \n",
      "\n",
      "        num_legs  num_wings\n",
      "falcon         2          2\n"
     ]
    }
   ],
   "source": [
    "# 只显示选定列\n",
    "print(df['num_wings'].isin([0, 4]),'\\n')\n",
    "\n",
    "# 显示所有列，但其余列都为false\n",
    "print(df.isin({'num_wings': [0, 4]}),'\\n')\n",
    "\n",
    "# 显示符合的数据\n",
    "print(df[df['num_wings'].isin([0, 4])],'\\n')\n",
    "\n",
    "# 显示不符合的数据\n",
    "print(df[~df['num_wings'].isin([0, 4])])"
   ]
  },
  {
   "cell_type": "markdown",
   "metadata": {},
   "source": [
    "# 数据操作"
   ]
  },
  {
   "cell_type": "markdown",
   "metadata": {},
   "source": [
    "## 读取数据"
   ]
  },
  {
   "cell_type": "markdown",
   "metadata": {},
   "source": [
    "### pandas.read_csv()\n",
    "`DataFrame = pandas.read_csv(file, sep=',', header='infer', names=None, prefix=None)`\n",
    "\n",
    "读取CSV文件 (逗号分隔值Comma-Separated Values) 到DataFrame\n",
    "- sep：分隔符\n",
    "- header：int/int_list，设置第X行为列名\n",
    "- names：str，设置列名\n",
    "- prefix：str，设置列名前缀，使用names则无效\n",
    "- chunksize：int，一次读取的值(大文件)\n",
    "\n",
    "https://pandas.pydata.org/pandas-docs/stable/reference/api/pandas.read_csv.html#pandas.read_csv"
   ]
  },
  {
   "cell_type": "markdown",
   "metadata": {},
   "source": [
    "## 显示"
   ]
  },
  {
   "cell_type": "markdown",
   "metadata": {},
   "source": [
    "### DataFrame.head() / DataFrame.tail()\n",
    "`DataFrame = DataFrame.head(5)`\n",
    "\n",
    "返回数据集前/后几行，不能重复使用"
   ]
  },
  {
   "cell_type": "code",
   "execution_count": 22,
   "metadata": {
    "cell_style": "split"
   },
   "outputs": [
    {
     "name": "stdout",
     "output_type": "stream",
     "text": [
      "      animal\n",
      "0  alligator\n",
      "1        bee\n",
      "2     falcon\n",
      "3       lion\n",
      "4     monkey\n",
      "5     parrot\n",
      "6      shark\n",
      "7      whale\n",
      "8      zebra\n"
     ]
    },
    {
     "data": {
      "text/html": [
       "<div>\n",
       "<style scoped>\n",
       "    .dataframe tbody tr th:only-of-type {\n",
       "        vertical-align: middle;\n",
       "    }\n",
       "\n",
       "    .dataframe tbody tr th {\n",
       "        vertical-align: top;\n",
       "    }\n",
       "\n",
       "    .dataframe thead th {\n",
       "        text-align: right;\n",
       "    }\n",
       "</style>\n",
       "<table border=\"1\" class=\"dataframe\">\n",
       "  <thead>\n",
       "    <tr style=\"text-align: right;\">\n",
       "      <th></th>\n",
       "      <th>animal</th>\n",
       "    </tr>\n",
       "  </thead>\n",
       "  <tbody>\n",
       "    <tr>\n",
       "      <th>6</th>\n",
       "      <td>shark</td>\n",
       "    </tr>\n",
       "    <tr>\n",
       "      <th>7</th>\n",
       "      <td>whale</td>\n",
       "    </tr>\n",
       "    <tr>\n",
       "      <th>8</th>\n",
       "      <td>zebra</td>\n",
       "    </tr>\n",
       "  </tbody>\n",
       "</table>\n",
       "</div>"
      ],
      "text/plain": [
       "  animal\n",
       "6  shark\n",
       "7  whale\n",
       "8  zebra"
      ]
     },
     "execution_count": 22,
     "metadata": {},
     "output_type": "execute_result"
    }
   ],
   "source": [
    "df = pd.DataFrame({'animal':['alligator', 'bee', 'falcon', 'lion', 'monkey', 'parrot', 'shark', 'whale', 'zebra']})\n",
    "\n",
    "print(df)\n",
    "df.head()\n",
    "df.tail(3)"
   ]
  },
  {
   "cell_type": "code",
   "execution_count": 23,
   "metadata": {
    "cell_style": "split"
   },
   "outputs": [
    {
     "data": {
      "text/html": [
       "<div>\n",
       "<style scoped>\n",
       "    .dataframe tbody tr th:only-of-type {\n",
       "        vertical-align: middle;\n",
       "    }\n",
       "\n",
       "    .dataframe tbody tr th {\n",
       "        vertical-align: top;\n",
       "    }\n",
       "\n",
       "    .dataframe thead th {\n",
       "        text-align: right;\n",
       "    }\n",
       "</style>\n",
       "<table border=\"1\" class=\"dataframe\">\n",
       "  <thead>\n",
       "    <tr style=\"text-align: right;\">\n",
       "      <th></th>\n",
       "      <th>animal</th>\n",
       "    </tr>\n",
       "  </thead>\n",
       "  <tbody>\n",
       "    <tr>\n",
       "      <th>0</th>\n",
       "      <td>alligator</td>\n",
       "    </tr>\n",
       "    <tr>\n",
       "      <th>1</th>\n",
       "      <td>bee</td>\n",
       "    </tr>\n",
       "    <tr>\n",
       "      <th>2</th>\n",
       "      <td>falcon</td>\n",
       "    </tr>\n",
       "    <tr>\n",
       "      <th>3</th>\n",
       "      <td>lion</td>\n",
       "    </tr>\n",
       "    <tr>\n",
       "      <th>4</th>\n",
       "      <td>monkey</td>\n",
       "    </tr>\n",
       "  </tbody>\n",
       "</table>\n",
       "</div>"
      ],
      "text/plain": [
       "      animal\n",
       "0  alligator\n",
       "1        bee\n",
       "2     falcon\n",
       "3       lion\n",
       "4     monkey"
      ]
     },
     "execution_count": 23,
     "metadata": {},
     "output_type": "execute_result"
    }
   ],
   "source": [
    "df.head()"
   ]
  },
  {
   "cell_type": "markdown",
   "metadata": {},
   "source": [
    "### DataFrame.describe()\n",
    "`DataFrame = DataFrame.describe(percentiles=[.25, .5, .75], include=None, exclude=None)`\n",
    "\n",
    "显示数据的统计信息：\n",
    "- 数字：count, max, min ...\n",
    "- 对象：count, unique(种类数), top, freq(最多类型出现次数)\n",
    "- DataFrame：默认只显示数字列的统计(include='all'修改)\n",
    "\n",
    "\n",
    "\n",
    "https://pandas.pydata.org/pandas-docs/stable/reference/api/pandas.DataFrame.describe.html"
   ]
  },
  {
   "cell_type": "code",
   "execution_count": 16,
   "metadata": {},
   "outputs": [
    {
     "data": {
      "text/plain": [
       "count     4\n",
       "unique    3\n",
       "top       a\n",
       "freq      2\n",
       "dtype: object"
      ]
     },
     "execution_count": 16,
     "metadata": {},
     "output_type": "execute_result"
    }
   ],
   "source": [
    "# 对象\n",
    "s = pd.Series(['a', 'a', 'b', 'c'])\n",
    "s.describe()"
   ]
  },
  {
   "cell_type": "code",
   "execution_count": 15,
   "metadata": {},
   "outputs": [
    {
     "data": {
      "text/plain": [
       "count    3.0\n",
       "mean     2.0\n",
       "std      1.0\n",
       "min      1.0\n",
       "25%      1.5\n",
       "50%      2.0\n",
       "75%      2.5\n",
       "max      3.0\n",
       "dtype: float64"
      ]
     },
     "execution_count": 15,
     "metadata": {},
     "output_type": "execute_result"
    }
   ],
   "source": [
    "# 数字\n",
    "s = pd.Series([1, 2, 3])\n",
    "s.describe()"
   ]
  },
  {
   "cell_type": "code",
   "execution_count": 26,
   "metadata": {
    "cell_style": "split",
    "scrolled": true
   },
   "outputs": [
    {
     "data": {
      "text/html": [
       "<div>\n",
       "<style scoped>\n",
       "    .dataframe tbody tr th:only-of-type {\n",
       "        vertical-align: middle;\n",
       "    }\n",
       "\n",
       "    .dataframe tbody tr th {\n",
       "        vertical-align: top;\n",
       "    }\n",
       "\n",
       "    .dataframe thead th {\n",
       "        text-align: right;\n",
       "    }\n",
       "</style>\n",
       "<table border=\"1\" class=\"dataframe\">\n",
       "  <thead>\n",
       "    <tr style=\"text-align: right;\">\n",
       "      <th></th>\n",
       "      <th>numeric</th>\n",
       "    </tr>\n",
       "  </thead>\n",
       "  <tbody>\n",
       "    <tr>\n",
       "      <th>count</th>\n",
       "      <td>3.0</td>\n",
       "    </tr>\n",
       "    <tr>\n",
       "      <th>mean</th>\n",
       "      <td>2.0</td>\n",
       "    </tr>\n",
       "    <tr>\n",
       "      <th>std</th>\n",
       "      <td>1.0</td>\n",
       "    </tr>\n",
       "    <tr>\n",
       "      <th>min</th>\n",
       "      <td>1.0</td>\n",
       "    </tr>\n",
       "    <tr>\n",
       "      <th>25%</th>\n",
       "      <td>1.5</td>\n",
       "    </tr>\n",
       "    <tr>\n",
       "      <th>50%</th>\n",
       "      <td>2.0</td>\n",
       "    </tr>\n",
       "    <tr>\n",
       "      <th>75%</th>\n",
       "      <td>2.5</td>\n",
       "    </tr>\n",
       "    <tr>\n",
       "      <th>max</th>\n",
       "      <td>3.0</td>\n",
       "    </tr>\n",
       "  </tbody>\n",
       "</table>\n",
       "</div>"
      ],
      "text/plain": [
       "       numeric\n",
       "count      3.0\n",
       "mean       2.0\n",
       "std        1.0\n",
       "min        1.0\n",
       "25%        1.5\n",
       "50%        2.0\n",
       "75%        2.5\n",
       "max        3.0"
      ]
     },
     "execution_count": 26,
     "metadata": {},
     "output_type": "execute_result"
    }
   ],
   "source": [
    "# DataFrame\n",
    "df = pd.DataFrame({'categorical': pd.Categorical(['d','e','f']),\n",
    "                    'numeric': [1, 2, 3],\n",
    "                    'object': ['a', 'b', 'c']\n",
    "                   })\n",
    "df.describe()"
   ]
  },
  {
   "cell_type": "code",
   "execution_count": 27,
   "metadata": {
    "cell_style": "split",
    "scrolled": true
   },
   "outputs": [
    {
     "data": {
      "text/html": [
       "<div>\n",
       "<style scoped>\n",
       "    .dataframe tbody tr th:only-of-type {\n",
       "        vertical-align: middle;\n",
       "    }\n",
       "\n",
       "    .dataframe tbody tr th {\n",
       "        vertical-align: top;\n",
       "    }\n",
       "\n",
       "    .dataframe thead th {\n",
       "        text-align: right;\n",
       "    }\n",
       "</style>\n",
       "<table border=\"1\" class=\"dataframe\">\n",
       "  <thead>\n",
       "    <tr style=\"text-align: right;\">\n",
       "      <th></th>\n",
       "      <th>categorical</th>\n",
       "      <th>numeric</th>\n",
       "      <th>object</th>\n",
       "    </tr>\n",
       "  </thead>\n",
       "  <tbody>\n",
       "    <tr>\n",
       "      <th>count</th>\n",
       "      <td>3</td>\n",
       "      <td>3.0</td>\n",
       "      <td>3</td>\n",
       "    </tr>\n",
       "    <tr>\n",
       "      <th>unique</th>\n",
       "      <td>3</td>\n",
       "      <td>NaN</td>\n",
       "      <td>3</td>\n",
       "    </tr>\n",
       "    <tr>\n",
       "      <th>top</th>\n",
       "      <td>f</td>\n",
       "      <td>NaN</td>\n",
       "      <td>b</td>\n",
       "    </tr>\n",
       "    <tr>\n",
       "      <th>freq</th>\n",
       "      <td>1</td>\n",
       "      <td>NaN</td>\n",
       "      <td>1</td>\n",
       "    </tr>\n",
       "    <tr>\n",
       "      <th>mean</th>\n",
       "      <td>NaN</td>\n",
       "      <td>2.0</td>\n",
       "      <td>NaN</td>\n",
       "    </tr>\n",
       "    <tr>\n",
       "      <th>std</th>\n",
       "      <td>NaN</td>\n",
       "      <td>1.0</td>\n",
       "      <td>NaN</td>\n",
       "    </tr>\n",
       "    <tr>\n",
       "      <th>min</th>\n",
       "      <td>NaN</td>\n",
       "      <td>1.0</td>\n",
       "      <td>NaN</td>\n",
       "    </tr>\n",
       "    <tr>\n",
       "      <th>25%</th>\n",
       "      <td>NaN</td>\n",
       "      <td>1.5</td>\n",
       "      <td>NaN</td>\n",
       "    </tr>\n",
       "    <tr>\n",
       "      <th>50%</th>\n",
       "      <td>NaN</td>\n",
       "      <td>2.0</td>\n",
       "      <td>NaN</td>\n",
       "    </tr>\n",
       "    <tr>\n",
       "      <th>75%</th>\n",
       "      <td>NaN</td>\n",
       "      <td>2.5</td>\n",
       "      <td>NaN</td>\n",
       "    </tr>\n",
       "    <tr>\n",
       "      <th>max</th>\n",
       "      <td>NaN</td>\n",
       "      <td>3.0</td>\n",
       "      <td>NaN</td>\n",
       "    </tr>\n",
       "  </tbody>\n",
       "</table>\n",
       "</div>"
      ],
      "text/plain": [
       "       categorical  numeric object\n",
       "count            3      3.0      3\n",
       "unique           3      NaN      3\n",
       "top              f      NaN      b\n",
       "freq             1      NaN      1\n",
       "mean           NaN      2.0    NaN\n",
       "std            NaN      1.0    NaN\n",
       "min            NaN      1.0    NaN\n",
       "25%            NaN      1.5    NaN\n",
       "50%            NaN      2.0    NaN\n",
       "75%            NaN      2.5    NaN\n",
       "max            NaN      3.0    NaN"
      ]
     },
     "execution_count": 27,
     "metadata": {},
     "output_type": "execute_result"
    }
   ],
   "source": [
    "df.describe(include=\"all\")"
   ]
  },
  {
   "cell_type": "markdown",
   "metadata": {},
   "source": []
  },
  {
   "cell_type": "code",
   "execution_count": 31,
   "metadata": {
    "cell_style": "split",
    "scrolled": true
   },
   "outputs": [
    {
     "data": {
      "text/html": [
       "<div>\n",
       "<style scoped>\n",
       "    .dataframe tbody tr th:only-of-type {\n",
       "        vertical-align: middle;\n",
       "    }\n",
       "\n",
       "    .dataframe tbody tr th {\n",
       "        vertical-align: top;\n",
       "    }\n",
       "\n",
       "    .dataframe thead th {\n",
       "        text-align: right;\n",
       "    }\n",
       "</style>\n",
       "<table border=\"1\" class=\"dataframe\">\n",
       "  <thead>\n",
       "    <tr style=\"text-align: right;\">\n",
       "      <th></th>\n",
       "      <th>categorical</th>\n",
       "      <th>object</th>\n",
       "    </tr>\n",
       "  </thead>\n",
       "  <tbody>\n",
       "    <tr>\n",
       "      <th>count</th>\n",
       "      <td>3</td>\n",
       "      <td>3</td>\n",
       "    </tr>\n",
       "    <tr>\n",
       "      <th>unique</th>\n",
       "      <td>3</td>\n",
       "      <td>3</td>\n",
       "    </tr>\n",
       "    <tr>\n",
       "      <th>top</th>\n",
       "      <td>f</td>\n",
       "      <td>b</td>\n",
       "    </tr>\n",
       "    <tr>\n",
       "      <th>freq</th>\n",
       "      <td>1</td>\n",
       "      <td>1</td>\n",
       "    </tr>\n",
       "  </tbody>\n",
       "</table>\n",
       "</div>"
      ],
      "text/plain": [
       "       categorical object\n",
       "count            3      3\n",
       "unique           3      3\n",
       "top              f      b\n",
       "freq             1      1"
      ]
     },
     "execution_count": 31,
     "metadata": {},
     "output_type": "execute_result"
    }
   ],
   "source": [
    "df.describe(exclude=[np.number])"
   ]
  },
  {
   "cell_type": "code",
   "execution_count": 32,
   "metadata": {
    "cell_style": "split",
    "scrolled": true
   },
   "outputs": [
    {
     "data": {
      "text/html": [
       "<div>\n",
       "<style scoped>\n",
       "    .dataframe tbody tr th:only-of-type {\n",
       "        vertical-align: middle;\n",
       "    }\n",
       "\n",
       "    .dataframe tbody tr th {\n",
       "        vertical-align: top;\n",
       "    }\n",
       "\n",
       "    .dataframe thead th {\n",
       "        text-align: right;\n",
       "    }\n",
       "</style>\n",
       "<table border=\"1\" class=\"dataframe\">\n",
       "  <thead>\n",
       "    <tr style=\"text-align: right;\">\n",
       "      <th></th>\n",
       "      <th>object</th>\n",
       "    </tr>\n",
       "  </thead>\n",
       "  <tbody>\n",
       "    <tr>\n",
       "      <th>count</th>\n",
       "      <td>3</td>\n",
       "    </tr>\n",
       "    <tr>\n",
       "      <th>unique</th>\n",
       "      <td>3</td>\n",
       "    </tr>\n",
       "    <tr>\n",
       "      <th>top</th>\n",
       "      <td>b</td>\n",
       "    </tr>\n",
       "    <tr>\n",
       "      <th>freq</th>\n",
       "      <td>1</td>\n",
       "    </tr>\n",
       "  </tbody>\n",
       "</table>\n",
       "</div>"
      ],
      "text/plain": [
       "       object\n",
       "count       3\n",
       "unique      3\n",
       "top         b\n",
       "freq        1"
      ]
     },
     "execution_count": 32,
     "metadata": {},
     "output_type": "execute_result"
    }
   ],
   "source": [
    "df.describe(include=[np.object])"
   ]
  },
  {
   "cell_type": "markdown",
   "metadata": {},
   "source": [
    "### df.loc[ ]、df.iloc[ ]：选择行、列\n",
    "loc可以通过行号和行标签进行索引，比如 df.loc['a'] , df.loc[1]\n",
    "\n",
    "iloc只能通过行号索引 , df.iloc[0] 是对的, 而df.iloc['a'] 是错误的"
   ]
  },
  {
   "cell_type": "code",
   "execution_count": 105,
   "metadata": {
    "cell_style": "split"
   },
   "outputs": [
    {
     "name": "stdout",
     "output_type": "stream",
     "text": [
      "    A   B   C   D\n",
      "a   0   1   2   3\n",
      "b   4   5   6   7\n",
      "c   8   9  10  11\n",
      "d  12  13  14  15 \n",
      "\n",
      "A    0\n",
      "B    1\n",
      "C    2\n",
      "D    3\n",
      "Name: a, dtype: int64 \n",
      "\n",
      "    A   B   C   D\n",
      "c   8   9  10  11\n",
      "d  12  13  14  15 \n",
      "\n",
      "A    0\n",
      "B    1\n",
      "C    2\n",
      "D    3\n",
      "Name: a, dtype: int64\n"
     ]
    }
   ],
   "source": [
    "# 获取行\n",
    "data=pd.DataFrame(np.arange(16).reshape(4,4),index=list('abcd'),columns=list('ABCD'))\n",
    "print(data,'\\n')\n",
    "\n",
    "print(data.loc['a'],'\\n')           # 'a'行的数据\n",
    "print(data.loc['c':],'\\n')          # 'c'到最后\n",
    "print(data.iloc[0])                 # 第一行的数据"
   ]
  },
  {
   "cell_type": "code",
   "execution_count": 100,
   "metadata": {
    "cell_style": "split"
   },
   "outputs": [
    {
     "name": "stdout",
     "output_type": "stream",
     "text": [
      "    A   B\n",
      "a   0   1\n",
      "b   4   5\n",
      "c   8   9\n",
      "d  12  13 \n",
      "\n",
      "   A\n",
      "b  4\n",
      "c  8\n",
      "    A   B   C   D\n",
      "a   0   1   2   3\n",
      "b   4   5   6   7\n",
      "c   8   9  10  11\n",
      "d  12  13  14  15\n",
      "    A   B   C   D\n",
      "a   0   1   2   3\n",
      "b   4   5   6   7\n",
      "c   8   9  10  11\n",
      "d  12  13  14  15\n"
     ]
    }
   ],
   "source": [
    "# 获取列\n",
    "print(data.loc[:,['A','B']],'\\n')          # 'A','B'列的所有数据\n",
    "print(data.iloc[1:3,[0]])                  # 第一列，2到行的数据\n",
    "\n",
    "# 获取所有数据\n",
    "print(data.loc[:,:])\n",
    "print(data.iloc[:,:])"
   ]
  },
  {
   "cell_type": "code",
   "execution_count": 103,
   "metadata": {},
   "outputs": [
    {
     "name": "stdout",
     "output_type": "stream",
     "text": [
      "    A   B   C   D\n",
      "b   4   5   6   7\n",
      "c   8   9  10  11\n",
      "d  12  13  14  15\n",
      "    A   B   C   D\n",
      "c   8   9  10  11\n",
      "d  12  13  14  15\n"
     ]
    }
   ],
   "source": [
    "# 使用条件筛选\n",
    "print(data.loc[data['A']>3])\n"
   ]
  },
  {
   "cell_type": "markdown",
   "metadata": {},
   "source": [
    "### 使用matplotlib\n",
    "`data.plot()`"
   ]
  },
  {
   "cell_type": "code",
   "execution_count": 80,
   "metadata": {},
   "outputs": [
    {
     "data": {
      "text/plain": [
       "<matplotlib.axes._subplots.AxesSubplot at 0x11feba208>"
      ]
     },
     "execution_count": 80,
     "metadata": {},
     "output_type": "execute_result"
    },
    {
     "data": {
      "image/png": "[encoded data removed]",
      "text/plain": [
       "<Figure size 432x288 with 1 Axes>"
      ]
     },
     "metadata": {
      "needs_background": "light"
     },
     "output_type": "display_data"
    }
   ],
   "source": [
    "df = pd.DataFrame({'categorical': pd.Categorical(['d','e','f']),\n",
    "                    'numeric': [1, 2, 3]\n",
    "                   })\n",
    "df.plot(kind='bar',x='categorical',y='numeric')"
   ]
  },
  {
   "cell_type": "code",
   "execution_count": null,
   "metadata": {},
   "outputs": [],
   "source": []
  }
 ],
 "metadata": {
  "hide_input": false,
  "kernelspec": {
   "display_name": "Python 3",
   "language": "python",
   "name": "python3"
  },
  "language_info": {
   "codemirror_mode": {
    "name": "ipython",
    "version": 3
   },
   "file_extension": ".py",
   "mimetype": "text/x-python",
   "name": "python",
   "nbconvert_exporter": "python",
   "pygments_lexer": "ipython3",
   "version": "3.7.3"
  },
  "latex_envs": {
   "LaTeX_envs_menu_present": true,
   "autoclose": true,
   "autocomplete": true,
   "bibliofile": "biblio.bib",
   "cite_by": "apalike",
   "current_citInitial": 1,
   "eqLabelWithNumbers": true,
   "eqNumInitial": 1,
   "hotkeys": {
    "equation": "Ctrl-E",
    "itemize": "Ctrl-I"
   },
   "labels_anchors": false,
   "latex_user_defs": false,
   "report_style_numbering": false,
   "user_envs_cfg": false
  },
  "nbTranslate": {
   "displayLangs": [
    "*"
   ],
   "hotkey": "alt-t",
   "langInMainMenu": true,
   "sourceLang": "en",
   "targetLang": "fr",
   "useGoogleTranslate": true
  },
  "toc": {
   "base_numbering": 1,
   "nav_menu": {},
   "number_sections": true,
   "sideBar": true,
   "skip_h1_title": false,
   "title_cell": "Table of Contents",
   "title_sidebar": "Contents",
   "toc_cell": true,
   "toc_position": {},
   "toc_section_display": true,
   "toc_window_display": false
  },
  "varInspector": {
   "cols": {
    "lenName": 16,
    "lenType": 16,
    "lenVar": 40
   },
   "kernels_config": {
    "python": {
     "delete_cmd_postfix": "",
     "delete_cmd_prefix": "del ",
     "library": "var_list.py",
     "varRefreshCmd": "print(var_dic_list())"
    },
    "r": {
     "delete_cmd_postfix": ") ",
     "delete_cmd_prefix": "rm(",
     "library": "var_list.r",
     "varRefreshCmd": "cat(var_dic_list()) "
    }
   },
   "types_to_exclude": [
    "module",
    "function",
    "builtin_function_or_method",
    "instance",
    "_Feature"
   ],
   "window_display": false
  }
 },
 "nbformat": 4,
 "nbformat_minor": 2
}
