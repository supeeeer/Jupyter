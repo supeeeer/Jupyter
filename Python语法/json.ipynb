{
 "cells": [
  {
   "cell_type": "markdown",
   "metadata": {
    "toc": true
   },
   "source": [
    "<h1>Table of Contents<span class=\"tocSkip\"></span></h1>\n",
    "<div class=\"toc\"><ul class=\"toc-item\"><li><span><a href=\"#序列化\" data-toc-modified-id=\"序列化-1\"><span class=\"toc-item-num\">1&nbsp;&nbsp;</span>序列化</a></span></li><li><span><a href=\"#json\" data-toc-modified-id=\"json-2\"><span class=\"toc-item-num\">2&nbsp;&nbsp;</span>json</a></span></li><li><span><a href=\"#转换\" data-toc-modified-id=\"转换-3\"><span class=\"toc-item-num\">3&nbsp;&nbsp;</span>转换</a></span><ul class=\"toc-item\"><li><span><a href=\"#数据类型\" data-toc-modified-id=\"数据类型-3.1\"><span class=\"toc-item-num\">3.1&nbsp;&nbsp;</span>数据类型</a></span></li><li><span><a href=\"#文件\" data-toc-modified-id=\"文件-3.2\"><span class=\"toc-item-num\">3.2&nbsp;&nbsp;</span>文件</a></span></li></ul></li></ul></div>"
   ]
  },
  {
   "cell_type": "markdown",
   "metadata": {},
   "source": [
    "# 序列化\n",
    "序列化：将对象转换为可通过网络传输、可以存储到本地磁盘的数据格式（如：XML、JSON）的过程\n",
    "\n",
    "实质是将对象转化为**二进制流**\n",
    "\n",
    "反序列化：将数据读到内存，回到编程语言的数据格式\n"
   ]
  },
  {
   "cell_type": "markdown",
   "metadata": {},
   "source": [
    "# json\n",
    "json JavaScript Object Notation（JS对象标记），是一种轻量级的**数据交换格式**，str 类型\n",
    "\n",
    "独立于编程语言的文本格式，存储和表示数据。"
   ]
  },
  {
   "cell_type": "markdown",
   "metadata": {},
   "source": [
    "# 转换\n",
    "json 和 python 的 dict 其实是异曲同工\n",
    "\n",
    "但是 json 是文本格式，需要把它转换为 dict，才能用 python 去操纵它\n",
    "\n",
    "## 数据类型\n",
    "- `str = json.dumps(dict)`：dict → str，转化成文本类型\n",
    "- `dict = json.loads(str)`：str → dict，转化成 Python 数据类型"
   ]
  },
  {
   "cell_type": "code",
   "execution_count": 14,
   "metadata": {
    "cell_style": "center"
   },
   "outputs": [
    {
     "name": "stdout",
     "output_type": "stream",
     "text": [
      "[\n",
      "    \"foo\",\n",
      "    {\n",
      "        \"bar\": [\n",
      "            \"baz\",\n",
      "            null,\n",
      "            1.0,\n",
      "            2\n",
      "        ]\n",
      "    }\n",
      "]\n",
      "<class 'dict'> {'liu': 10}\n",
      "<class 'str'> {\"liu\": 10}\n",
      "<class 'dict'> {'liu': 10}\n"
     ]
    }
   ],
   "source": [
    "import json\n",
    "\n",
    "d = {'liu':10}\n",
    "print(type(d), d)\n",
    "\n",
    "d = json.dumps(d)    # dict → str\n",
    "print(type(d), d)\n",
    "\n",
    "d = json.loads(d)    # str → dict\n",
    "print(type(d), d)"
   ]
  },
  {
   "cell_type": "code",
   "execution_count": 27,
   "metadata": {},
   "outputs": [
    {
     "name": "stdout",
     "output_type": "stream",
     "text": [
      "{'a': 1, 'b': 2, 'c': 3, 'd': 4, 'e': 5}\n",
      "[\n",
      "    \"foo\",\n",
      "    {\n",
      "        \"bar\": [\n",
      "            \"baz\",\n",
      "            null,\n",
      "            1.0,\n",
      "            2\n",
      "        ]\n",
      "    }\n",
      "]\n"
     ]
    }
   ],
   "source": [
    "print(json.loads('{\"a\":1,\"b\":2,\"c\":3,\"d\":4,\"e\":5}'))\n",
    "\n",
    "print(json.dumps(['foo', {'bar': ('baz', None, 1.0, 2)}], indent=4))"
   ]
  },
  {
   "cell_type": "markdown",
   "metadata": {},
   "source": [
    "## 文件\n",
    "- `json.dump(obj, fp, ensure_ascii=True, indent=None, separators=None, default=None, sort_keys=False, **kw)`\n",
    "\n",
    "    dict → str，存入文件\n",
    "    - ensure_ascii=true，将非 ASCII 字符转义成 ASCII (会产生中文乱码)。为false，则字符原样输出\n",
    "    - sort_keys=Ture，则字典的输出将按键排序\n",
    "    - indent：设置输出的缩进\n",
    "- `json.load(fp)`：读取文件里的内容"
   ]
  },
  {
   "cell_type": "code",
   "execution_count": null,
   "metadata": {},
   "outputs": [],
   "source": []
  }
 ],
 "metadata": {
  "kernelspec": {
   "display_name": "Python 3",
   "language": "python",
   "name": "python3"
  },
  "language_info": {
   "codemirror_mode": {
    "name": "ipython",
    "version": 3
   },
   "file_extension": ".py",
   "mimetype": "text/x-python",
   "name": "python",
   "nbconvert_exporter": "python",
   "pygments_lexer": "ipython3",
   "version": "3.7.3"
  },
  "latex_envs": {
   "LaTeX_envs_menu_present": true,
   "autoclose": true,
   "autocomplete": true,
   "bibliofile": "biblio.bib",
   "cite_by": "apalike",
   "current_citInitial": 1,
   "eqLabelWithNumbers": true,
   "eqNumInitial": 1,
   "hotkeys": {
    "equation": "Ctrl-E",
    "itemize": "Ctrl-I"
   },
   "labels_anchors": false,
   "latex_user_defs": false,
   "report_style_numbering": false,
   "user_envs_cfg": false
  },
  "toc": {
   "base_numbering": 1,
   "nav_menu": {},
   "number_sections": true,
   "sideBar": true,
   "skip_h1_title": false,
   "title_cell": "Table of Contents",
   "title_sidebar": "Contents",
   "toc_cell": true,
   "toc_position": {
    "height": "calc(100% - 180px)",
    "left": "10px",
    "top": "150px",
    "width": "165px"
   },
   "toc_section_display": true,
   "toc_window_display": true
  },
  "varInspector": {
   "cols": {
    "lenName": 16,
    "lenType": 16,
    "lenVar": 40
   },
   "kernels_config": {
    "python": {
     "delete_cmd_postfix": "",
     "delete_cmd_prefix": "del ",
     "library": "var_list.py",
     "varRefreshCmd": "print(var_dic_list())"
    },
    "r": {
     "delete_cmd_postfix": ") ",
     "delete_cmd_prefix": "rm(",
     "library": "var_list.r",
     "varRefreshCmd": "cat(var_dic_list()) "
    }
   },
   "types_to_exclude": [
    "module",
    "function",
    "builtin_function_or_method",
    "instance",
    "_Feature"
   ],
   "window_display": false
  }
 },
 "nbformat": 4,
 "nbformat_minor": 2
}
