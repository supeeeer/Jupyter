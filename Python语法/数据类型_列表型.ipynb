{
 "cells": [
  {
   "cell_type": "markdown",
   "metadata": {
    "toc": true
   },
   "source": [
    "<h1>Table of Contents<span class=\"tocSkip\"></span></h1>\n",
    "<div class=\"toc\"><ul class=\"toc-item\"><li><span><a href=\"#列表\" data-toc-modified-id=\"列表-1\"><span class=\"toc-item-num\">1&nbsp;&nbsp;</span>列表</a></span><ul class=\"toc-item\"><li><span><a href=\"#修改\" data-toc-modified-id=\"修改-1.1\"><span class=\"toc-item-num\">1.1&nbsp;&nbsp;</span>修改</a></span></li></ul></li><li><span><a href=\"#dict\" data-toc-modified-id=\"dict-2\"><span class=\"toc-item-num\">2&nbsp;&nbsp;</span>dict</a></span><ul class=\"toc-item\"><li><span><a href=\"#创建\" data-toc-modified-id=\"创建-2.1\"><span class=\"toc-item-num\">2.1&nbsp;&nbsp;</span>创建</a></span></li><li><span><a href=\"#增加\" data-toc-modified-id=\"增加-2.2\"><span class=\"toc-item-num\">2.2&nbsp;&nbsp;</span>增加</a></span></li><li><span><a href=\"#删除\" data-toc-modified-id=\"删除-2.3\"><span class=\"toc-item-num\">2.3&nbsp;&nbsp;</span>删除</a></span></li><li><span><a href=\"#查找\" data-toc-modified-id=\"查找-2.4\"><span class=\"toc-item-num\">2.4&nbsp;&nbsp;</span>查找</a></span></li><li><span><a href=\"#转换\" data-toc-modified-id=\"转换-2.5\"><span class=\"toc-item-num\">2.5&nbsp;&nbsp;</span>转换</a></span></li></ul></li><li><span><a href=\"#tuple\" data-toc-modified-id=\"tuple-3\"><span class=\"toc-item-num\">3&nbsp;&nbsp;</span>tuple</a></span></li><li><span><a href=\"#set\" data-toc-modified-id=\"set-4\"><span class=\"toc-item-num\">4&nbsp;&nbsp;</span>set</a></span></li></ul></div>"
   ]
  },
  {
   "cell_type": "markdown",
   "metadata": {},
   "source": [
    "|  \\    |  形式                 |  有序  | 可重复| 可修改  |\n",
    "| :----:| :---                 | :----: |:----:| :----:|\n",
    "| list  | [ a, 'ss', (a, b) ]  |✔️|✔️|✔️\n",
    "| dict  | {'a':111, li:'shen'} |❌|❌|❌✔️\n",
    "| tuple | (12, 'li')           |✔️|、|❌\n",
    "| set   | (1, 'ss')            |、|、|"
   ]
  },
  {
   "cell_type": "markdown",
   "metadata": {},
   "source": [
    "## 列表\n",
    "元素可以重复，有序\n"
   ]
  },
  {
   "cell_type": "markdown",
   "metadata": {},
   "source": [
    "### 修改\n",
    "考虑创建一个新的替代"
   ]
  },
  {
   "cell_type": "code",
   "execution_count": 39,
   "metadata": {},
   "outputs": [
    {
     "name": "stdout",
     "output_type": "stream",
     "text": [
      "[56.2, 51.7, 55.3, 52.5, 47.8]\n"
     ]
    }
   ],
   "source": [
    "# 想在循环时修改列表内容，改为创建一个新列表比较简单且安全\n",
    "\n",
    "import math\n",
    "raw_data = [56.2, float('NaN'), 51.7, 55.3, 52.5, float('NaN'), 47.8]\n",
    "filtered_data = []\n",
    "\n",
    "for value in raw_data:\n",
    "    if not math.isnan(value):\n",
    "        filtered_data.append(value)\n",
    "        \n",
    "print(filtered_data)"
   ]
  },
  {
   "cell_type": "markdown",
   "metadata": {},
   "source": [
    "## dict\n",
    "key不重复，无序，可修改\n"
   ]
  },
  {
   "cell_type": "markdown",
   "metadata": {},
   "source": [
    "### 创建\n",
    "\n",
    "键必须不可变，是唯一的 (后覆盖前) ，所以可以用数字、字符串、元组，不能用列表"
   ]
  },
  {
   "cell_type": "code",
   "execution_count": 8,
   "metadata": {},
   "outputs": [
    {
     "name": "stdout",
     "output_type": "stream",
     "text": [
      "简单创建 =  {'sape': 4139, 'guido': 4127, 'jack': 4098}\n",
      "循环创建 =  {2: 4, 4: 16, 6: 36}\n",
      "dict.fromkeys() =  {'Google': 10, 'Runoob': 10, 'Taobao': 10}\n"
     ]
    }
   ],
   "source": [
    "c = dict(sape=4139, guido=4127, jack=4098)   # 简单创建，直接传入 dict(key=val, ...)\n",
    "print('简单创建 = ', c)\n",
    "\n",
    "a = {x: x**2 for x in (2, 4, 6)}             # 循环创建\n",
    "print('循环创建 = ',a)\n",
    "\n",
    "seq = ('Google', 'Runoob', 'Taobao')\n",
    "b = dict.fromkeys(seq, 10)                  # 创建一组新key, 可以自定义初始值\n",
    "print ('dict.fromkeys() = ', b)"
   ]
  },
  {
   "cell_type": "code",
   "execution_count": 2,
   "metadata": {},
   "outputs": [
    {
     "name": "stdout",
     "output_type": "stream",
     "text": [
      "TypeError: unhashable type: \"list\"\n"
     ]
    }
   ],
   "source": [
    "# 键必须不可变，所以可以用数字、字符串、元组，不能用列表\n",
    "\n",
    "try:\n",
    "    a = {['Name']: 'Zara', 'Age': 7} \n",
    "    print(\"dict['Name']: \", dict['Name'])\n",
    "except:\n",
    "    print('TypeError: unhashable type: \"list\"')"
   ]
  },
  {
   "cell_type": "markdown",
   "metadata": {},
   "source": [
    "### 增加\n",
    "`dict.update(dict2)`：将dict2加入dict中"
   ]
  },
  {
   "cell_type": "code",
   "execution_count": 51,
   "metadata": {},
   "outputs": [
    {
     "name": "stdout",
     "output_type": "stream",
     "text": [
      "更新字典:  {'Name': 'Runoob', 'Age': 7, 'Sex': 'female'}\n"
     ]
    }
   ],
   "source": [
    "dict1 = {'Name': 'Runoob', 'Age': 7}\n",
    "dict2 = {'Sex': 'female' }\n",
    " \n",
    "dict1.update(dict2)                     # 增加一个字典型\n",
    "print (\"更新字典: \", dict1)"
   ]
  },
  {
   "cell_type": "markdown",
   "metadata": {},
   "source": [
    "### 删除\n",
    "`del dict[key]`：删除key，不存在会报错\n",
    "\n",
    "`val = dict.pop(key)`：删除并返回删除的值，不存在时会报错，但可以设置默认值\n",
    "\n",
    "`item = dict.popitem()`：删除最后一对值并返回，不存在会报错\n",
    "\n",
    "`dict.clean()`：清空\n",
    "\n",
    "`del dict`：销毁\n"
   ]
  },
  {
   "cell_type": "code",
   "execution_count": 74,
   "metadata": {},
   "outputs": [
    {
     "name": "stdout",
     "output_type": "stream",
     "text": [
      "{'jack': 4098, 'old': 37, 'num': 1888}\n",
      "KeyError: \"name\"\n",
      "\n",
      "\n",
      "pop:  37\n",
      "KeyError: \"name\"\n",
      "【pop default】:  jack \n",
      "\n",
      "【_popitem()】:  ('num', 1888) \n",
      "\n",
      "清空后： {} \n",
      "\n",
      "ERROE: name \"tel\" is not defined\n"
     ]
    }
   ],
   "source": [
    "tel = {'jack': 4098, 'sape': 4139, 'old':37, 'num':1888}\n",
    "\n",
    "del tel['sape']                       # 删除某个key\n",
    "print(tel)\n",
    "\n",
    "try:\n",
    "    tel['name']                       # 不存在会报错\n",
    "except:\n",
    "    print('KeyError: \"name\"')\n",
    "print('\\n')\n",
    "\n",
    "\n",
    "\n",
    "_pop = tel.pop('old')                 # 删除并返回删除的value\n",
    "print('pop: ', _pop)\n",
    "try:\n",
    "    _pop = tel.pop('name')\n",
    "except:\n",
    "    print('KeyError: \"name\"')\n",
    "_pop = tel.pop('name', 'jack')        # 不存在会报错，但可以设置默认值\n",
    "print('【pop default】: ', _pop, '\\n')\n",
    "\n",
    "\n",
    "_popitem = tel.popitem()              # 删除最后一对值并返回，不存在会报错\n",
    "print('【_popitem()】: ', _popitem, '\\n')\n",
    "\n",
    "\n",
    "\n",
    "tel.clear()                           # 清空\n",
    "print('清空后：', tel, '\\n')\n",
    "\n",
    "\n",
    "del tel                               # 销毁\n",
    "try:                         \n",
    "    print(tel)\n",
    "except:\n",
    "    print('ERROE: name \"tel\" is not defined')"
   ]
  },
  {
   "cell_type": "markdown",
   "metadata": {},
   "source": [
    "### 查找\n",
    "1. 找value\n",
    "\n",
    "    `value = dict.get(key, default=None)`：查找不到则返回default值\n",
    "\n",
    "    `value = dict[key]`：查找不到报错\n",
    "    \n",
    "    \n",
    "2. 找key\n",
    "\n",
    "    `iterable = dict.keys()`\n",
    "3. 同时查找\n",
    "\n",
    "    `key, val = dict.items()`"
   ]
  },
  {
   "cell_type": "code",
   "execution_count": 4,
   "metadata": {},
   "outputs": [
    {
     "name": "stdout",
     "output_type": "stream",
     "text": [
      "4098\n",
      "None\n",
      "4098\n",
      "ERROE: KeyError: \"lisa\"\n"
     ]
    }
   ],
   "source": [
    "tel = {'jack': 4098, 'sape': 4139}\n",
    "\n",
    "print(tel.get('jack'))\n",
    "print(tel.get('lisa'))                      # dict.get(key, default=None)：查找不到则返回default值\n",
    "\n",
    "\n",
    "print(tel['jack'])\n",
    "try:\n",
    "    print(tel['lisa'])\n",
    "except:\n",
    "    print('ERROE: KeyError: \"lisa\"')        # dict[key]：查找不到报错\n",
    "    "
   ]
  },
  {
   "cell_type": "code",
   "execution_count": 41,
   "metadata": {},
   "outputs": [
    {
     "name": "stdout",
     "output_type": "stream",
     "text": [
      "dict_keys(['jack', 'sape'])\n"
     ]
    }
   ],
   "source": [
    "tel = {'jack': 4098, 'sape': 4139}\n",
    "_keys = tel.keys()\n",
    "\n",
    "print(_keys)"
   ]
  },
  {
   "cell_type": "code",
   "execution_count": 12,
   "metadata": {},
   "outputs": [
    {
     "name": "stdout",
     "output_type": "stream",
     "text": [
      "jack  =  4098\n",
      "sape  =  4139\n"
     ]
    }
   ],
   "source": [
    "tel = {'jack': 4098, 'sape': 4139}\n",
    "for key,val in tel.items():\n",
    "    print(key, ' = ', val)"
   ]
  },
  {
   "cell_type": "markdown",
   "metadata": {},
   "source": [
    "### 转换"
   ]
  },
  {
   "cell_type": "code",
   "execution_count": 5,
   "metadata": {},
   "outputs": [
    {
     "name": "stdout",
     "output_type": "stream",
     "text": [
      "dict - list:  ['jack', 'sape']\n"
     ]
    }
   ],
   "source": [
    "tel = {'jack': 4098, 'sape': 4139}\n",
    "\n",
    "print('dict - list: ', list(tel))"
   ]
  },
  {
   "cell_type": "markdown",
   "metadata": {},
   "source": [
    "## tuple\n",
    "不可修改\n",
    "\n",
    "元组中只包含一个元素时，需要在元素后面添加逗号，否则括号会被当作运算符使用"
   ]
  },
  {
   "cell_type": "code",
   "execution_count": 2,
   "metadata": {},
   "outputs": [
    {
     "name": "stdout",
     "output_type": "stream",
     "text": [
      "<class 'int'> <class 'tuple'>\n"
     ]
    }
   ],
   "source": [
    "tup1 = (50)\n",
    "tup2 = (50,)\n",
    "print(type(tup1), type(tup2))"
   ]
  },
  {
   "cell_type": "markdown",
   "metadata": {},
   "source": [
    "## set\n",
    "元素不重复，无序"
   ]
  }
 ],
 "metadata": {
  "kernelspec": {
   "display_name": "Python 3",
   "language": "python",
   "name": "python3"
  },
  "language_info": {
   "codemirror_mode": {
    "name": "ipython",
    "version": 3
   },
   "file_extension": ".py",
   "mimetype": "text/x-python",
   "name": "python",
   "nbconvert_exporter": "python",
   "pygments_lexer": "ipython3",
   "version": "3.7.3"
  },
  "latex_envs": {
   "LaTeX_envs_menu_present": true,
   "autoclose": true,
   "autocomplete": true,
   "bibliofile": "biblio.bib",
   "cite_by": "apalike",
   "current_citInitial": 1,
   "eqLabelWithNumbers": true,
   "eqNumInitial": 1,
   "hotkeys": {
    "equation": "Ctrl-E",
    "itemize": "Ctrl-I"
   },
   "labels_anchors": false,
   "latex_user_defs": false,
   "report_style_numbering": false,
   "user_envs_cfg": false
  },
  "toc": {
   "base_numbering": 1,
   "nav_menu": {},
   "number_sections": true,
   "sideBar": true,
   "skip_h1_title": false,
   "title_cell": "Table of Contents",
   "title_sidebar": "Contents",
   "toc_cell": true,
   "toc_position": {},
   "toc_section_display": true,
   "toc_window_display": false
  },
  "varInspector": {
   "cols": {
    "lenName": 16,
    "lenType": 16,
    "lenVar": 40
   },
   "kernels_config": {
    "python": {
     "delete_cmd_postfix": "",
     "delete_cmd_prefix": "del ",
     "library": "var_list.py",
     "varRefreshCmd": "print(var_dic_list())"
    },
    "r": {
     "delete_cmd_postfix": ") ",
     "delete_cmd_prefix": "rm(",
     "library": "var_list.r",
     "varRefreshCmd": "cat(var_dic_list()) "
    }
   },
   "types_to_exclude": [
    "module",
    "function",
    "builtin_function_or_method",
    "instance",
    "_Feature"
   ],
   "window_display": false
  }
 },
 "nbformat": 4,
 "nbformat_minor": 2
}
