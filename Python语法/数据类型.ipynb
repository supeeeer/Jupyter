{
 "cells": [
  {
   "cell_type": "markdown",
   "metadata": {
    "toc": true
   },
   "source": [
    "<h1>Table of Contents<span class=\"tocSkip\"></span></h1>\n",
    "<div class=\"toc\"><ul class=\"toc-item\"><li><span><a href=\"#string\" data-toc-modified-id=\"string-1\"><span class=\"toc-item-num\">1&nbsp;&nbsp;</span>string</a></span><ul class=\"toc-item\"><li><span><a href=\"#strip()、lstrip()、rstrip()\" data-toc-modified-id=\"strip()、lstrip()、rstrip()-1.1\"><span class=\"toc-item-num\">1.1&nbsp;&nbsp;</span>strip()、lstrip()、rstrip()</a></span></li><li><span><a href=\"#str.replace()\" data-toc-modified-id=\"str.replace()-1.2\"><span class=\"toc-item-num\">1.2&nbsp;&nbsp;</span>str.replace()</a></span></li><li><span><a href=\"#str.split()：删除+切分\" data-toc-modified-id=\"str.split()：删除+切分-1.3\"><span class=\"toc-item-num\">1.3&nbsp;&nbsp;</span>str.split()：删除+切分</a></span></li><li><span><a href=\"#str.join()：前加入后\" data-toc-modified-id=\"str.join()：前加入后-1.4\"><span class=\"toc-item-num\">1.4&nbsp;&nbsp;</span>str.join()：前加入后</a></span></li><li><span><a href=\"#str.title()：首字母大写\" data-toc-modified-id=\"str.title()：首字母大写-1.5\"><span class=\"toc-item-num\">1.5&nbsp;&nbsp;</span>str.title()：首字母大写</a></span></li></ul></li><li><span><a href=\"#bytes\" data-toc-modified-id=\"bytes-2\"><span class=\"toc-item-num\">2&nbsp;&nbsp;</span>bytes</a></span></li><li><span><a href=\"#列表型\" data-toc-modified-id=\"列表型-3\"><span class=\"toc-item-num\">3&nbsp;&nbsp;</span><a href=\"%E6%95%B0%E6%8D%AE%E7%B1%BB%E5%9E%8B_%E5%88%97%E8%A1%A8%E5%9E%8B.ipynb\" target=\"_blank\">列表型</a></a></span></li><li><span><a href=\"#迭代器、生成器\" data-toc-modified-id=\"迭代器、生成器-4\"><span class=\"toc-item-num\">4&nbsp;&nbsp;</span>迭代器、生成器</a></span><ul class=\"toc-item\"><li><span><a href=\"#iterator-迭代器\" data-toc-modified-id=\"iterator-迭代器-4.1\"><span class=\"toc-item-num\">4.1&nbsp;&nbsp;</span>iterator 迭代器</a></span><ul class=\"toc-item\"><li><span><a href=\"#迭代器协议\" data-toc-modified-id=\"迭代器协议-4.1.1\"><span class=\"toc-item-num\">4.1.1&nbsp;&nbsp;</span>迭代器协议</a></span></li></ul></li><li><span><a href=\"#generator-生成器\" data-toc-modified-id=\"generator-生成器-4.2\"><span class=\"toc-item-num\">4.2&nbsp;&nbsp;</span>generator 生成器</a></span><ul class=\"toc-item\"><li><span><a href=\"#生成器函数\" data-toc-modified-id=\"生成器函数-4.2.1\"><span class=\"toc-item-num\">4.2.1&nbsp;&nbsp;</span>生成器函数</a></span></li><li><span><a href=\"#生成器表达式\" data-toc-modified-id=\"生成器表达式-4.2.2\"><span class=\"toc-item-num\">4.2.2&nbsp;&nbsp;</span>生成器表达式</a></span></li></ul></li></ul></li></ul></div>"
   ]
  },
  {
   "cell_type": "markdown",
   "metadata": {},
   "source": [
    "# string"
   ]
  },
  {
   "cell_type": "markdown",
   "metadata": {
    "cell_style": "center"
   },
   "source": [
    "## strip()、lstrip()、rstrip()\n",
    "\n",
    "`newStr = str.strip(chars)`\n",
    "- 删除前、后指定字符，中间的不会删除。返回字符串的副本\n",
    "- 参数为空，默认删除字符串头、尾的空白字符(包括\\n，\\r，\\t)\n",
    "- 传入字符不分前后，遇到都删除"
   ]
  },
  {
   "cell_type": "code",
   "execution_count": 7,
   "metadata": {},
   "outputs": [
    {
     "name": "stdout",
     "output_type": "stream",
     "text": [
      "bbbcc123ccb\n",
      "cc123cc\n",
      "123\n",
      "123\n"
     ]
    }
   ],
   "source": [
    "text = 'abbbcc123ccbaaaa'\n",
    "\n",
    "print(text.strip('a'))\n",
    "print(text.strip('ab'))\n",
    "print(text.strip('bac'))       # 传入的字符不分先后，首尾遇到都删除\n",
    "print(text.strip('cab'))"
   ]
  },
  {
   "cell_type": "markdown",
   "metadata": {},
   "source": [
    "## str.replace()"
   ]
  },
  {
   "cell_type": "markdown",
   "metadata": {},
   "source": [
    "`newStr = str.replace(oldStr, newStr[, count])`\n",
    "- 返回字符串的副本，其中出现的所有子字符串 old 都将被替换为 new。 \n",
    "- 如果给出了可选参数 count，则只替换前 count 次出现。"
   ]
  },
  {
   "cell_type": "code",
   "execution_count": 14,
   "metadata": {},
   "outputs": [
    {
     "name": "stdout",
     "output_type": "stream",
     "text": [
      "backing\n",
      "back ing  \n",
      "aaa  ck ing  \n"
     ]
    }
   ],
   "source": [
    "text = 'ba  ck ing  '\n",
    "\n",
    "print(text.replace(' ', ''))          # 删除所有空格\n",
    "print(text.replace(' ', '', 2))       # 只删除前两个\n",
    "print(text.replace('ba', 'aaa'))"
   ]
  },
  {
   "cell_type": "markdown",
   "metadata": {},
   "source": [
    "## str.split()：删除+切分\n",
    "`list = str.split(sep=None, maxsplit=-1)`\n",
    "- 返回由字符串内单词组成的列表，使用 sep 作为分隔字符串 (默认为空格，可以是字符串） \n",
    "- 如果给出了 maxsplit，则最多进行 maxsplit 次拆分（因此，列表最多会有 maxsplit+1 个元素)\n",
    "- **返回列表中不出现分隔字符串**"
   ]
  },
  {
   "cell_type": "code",
   "execution_count": 29,
   "metadata": {},
   "outputs": [
    {
     "name": "stdout",
     "output_type": "stream",
     "text": [
      "['1', '2', '3']\n",
      "['1', '2', '3']\n",
      "['1', '2 3'] \n",
      "\n",
      "['1', '2', '', '3', ''] \n",
      "\n",
      "['11', '22', '33']\n",
      "['<1><2><3>']\n"
     ]
    }
   ],
   "source": [
    "print('1 2 3'.split())\n",
    "print('   1   2   3   '.split())\n",
    "print('1 2 3'.split(maxsplit=1), '\\n')          # 限制切分次数\n",
    "\n",
    "print('1,2,,3,'.split(','), '\\n')               # 如果给出sep，则连续的分隔符被视为分隔空字符串 \n",
    "\n",
    "print('11<>22<>33'.split('<>'))                 # sep可以是字符串，但需要连在一起\n",
    "print('<1><2><3>'.split('<>'))"
   ]
  },
  {
   "cell_type": "markdown",
   "metadata": {},
   "source": [
    "## str.join()：前加入后\n",
    "`newStr = str.join(iterable)`\n",
    "\n",
    "- 返回一个由 iterable 中的字符串拼接而成的字符串\n",
    "- 调用该方法的字符串将作为元素之间的分隔"
   ]
  },
  {
   "cell_type": "code",
   "execution_count": 42,
   "metadata": {},
   "outputs": [
    {
     "name": "stdout",
     "output_type": "stream",
     "text": [
      "a,b,c\n",
      "abc,abc,bca\n",
      "a,b,c\n"
     ]
    }
   ],
   "source": [
    "print(','.join('abc'))\n",
    "\n",
    "print(','.join(['abc', 'abc', 'bca']))\n",
    "\n",
    "print(','.join({'a':1, 'b':2, 'c':333}))     # 字典只对key处理"
   ]
  },
  {
   "cell_type": "markdown",
   "metadata": {},
   "source": [
    "## str.title()：首字母大写\n",
    "`str = str.title()`：返回\"标题化\"的字符串, 即所有单词以大写开始，其余字母均为小写"
   ]
  },
  {
   "cell_type": "code",
   "execution_count": 1,
   "metadata": {},
   "outputs": [
    {
     "name": "stdout",
     "output_type": "stream",
     "text": [
      "I Am A Girl\n"
     ]
    }
   ],
   "source": [
    "print('i am a girl'.title())"
   ]
  },
  {
   "cell_type": "markdown",
   "metadata": {
    "heading_collapsed": true
   },
   "source": [
    "# bytes\n",
    "`bytes = bytes(source [, encoding])`\n",
    "- source：原始数据\n",
    "    - 整数：返回n个长度的初始化数组\n",
    "    - 字符串、列表：返回编码后的bytes\n",
    "- encoding：编码格式"
   ]
  },
  {
   "cell_type": "code",
   "execution_count": 35,
   "metadata": {
    "hidden": true,
    "scrolled": true
   },
   "outputs": [
    {
     "name": "stdout",
     "output_type": "stream",
     "text": [
      "b'\\x00\\x00\\x00\\x00\\x00'\n",
      "b'\\x05' \n",
      "\n",
      "b'abc\\xe6\\x88\\x91'\n",
      "'ascii' codec can't encode character '我' in position 3: ordinal not in range(128)\n"
     ]
    }
   ],
   "source": [
    "print(bytes(5))\n",
    "print(bytes([5]),'\\n')\n",
    "\n",
    "print(bytes('abc我', 'utf-8'))\n",
    "try:\n",
    "    print(bytes('abc我', 'ascii'))    # 只能编码 [0, 127]\n",
    "except:\n",
    "    print(\"'ascii' codec can't encode character '\\u6211' in position 3: ordinal not in range(128)\")"
   ]
  },
  {
   "cell_type": "markdown",
   "metadata": {},
   "source": [
    "# [列表型](数据类型_列表型.ipynb)\n"
   ]
  },
  {
   "cell_type": "markdown",
   "metadata": {
    "heading_collapsed": true
   },
   "source": [
    "# 迭代器、生成器\n",
    "https://www.zhihu.com/question/20829330\n",
    "\n",
    "生成器函数 ~= 迭代器对象的`__next__(self)`"
   ]
  },
  {
   "cell_type": "markdown",
   "metadata": {
    "cell_style": "center",
    "hidden": true
   },
   "source": [
    "## iterator 迭代器\n",
    "### 迭代器协议\n",
    "\n",
    "- **迭代器协议**：对象需要提供` __next__ `方法，它要么返回迭代中的下一项，要么就引起一个StopIteration异常，以终止迭代\n",
    "- 迭代器 = 实现了迭代器协议，能被迭代的**对象** ( 被动 )\n",
    "- Python的内置工具 (如for循环，sum，min，max函数等) 都使用迭代器协议访问对象 ( 主动 )\n",
    "\n",
    "比如：文件可以使用for循环遍历，是因为文件对象实现了迭代器协议，for循环并不知道它遍历的是一个文件对象，它只管使用迭代器协议访问对象即可\n",
    "\n",
    "---\n",
    "\n",
    "- 迭代器 VS 列表\n",
    "\n",
    "    列表把所有元素一次性加载到内存\n",
    "    \n",
    "    迭代器以延迟计算（lazy evaluation）方式返回元素，占内存小，等到调用 next 方法时才返回元素（按需调用 call by need 方式）\n",
    "\n"
   ]
  },
  {
   "cell_type": "code",
   "execution_count": 18,
   "metadata": {
    "cell_style": "center",
    "hidden": true
   },
   "outputs": [
    {
     "name": "stdout",
     "output_type": "stream",
     "text": [
      "[1, 1, 2, 3, 5, 8, 13, 21, 34, 55]\n"
     ]
    }
   ],
   "source": [
    "# 迭代对象\n",
    "class Fib: \n",
    "    def __init__(self, n): \n",
    "        self.prev = 0 \n",
    "        self.cur = 1 \n",
    "        self.n = n \n",
    "        \n",
    "    def __iter__(self): \n",
    "        return self \n",
    "\n",
    "    def __next__(self): \n",
    "        if self.n > 0: \n",
    "            self.prev, self.cur = self.cur, self.cur + self.prev\n",
    "            self.n -= 1 \n",
    "            return self.prev \n",
    "        else: raise StopIteration() \n",
    "        \n",
    "f = Fib(10) \n",
    "print([i for i in f]) "
   ]
  },
  {
   "cell_type": "markdown",
   "metadata": {
    "hidden": true
   },
   "source": [
    "## generator 生成器\n",
    "### 生成器函数\n",
    "用关键字 yield 来返回一个生成器对象的一种**函数**\n",
    "\n",
    "yield 一次返回一个结果，并挂起函数的状态，以便下次从它离开的地方继续执行"
   ]
  },
  {
   "cell_type": "code",
   "execution_count": 19,
   "metadata": {
    "cell_style": "split",
    "hidden": true
   },
   "outputs": [
    {
     "name": "stdout",
     "output_type": "stream",
     "text": [
      "[1, 1, 2, 3, 5, 8, 13, 21, 34, 55]\n"
     ]
    }
   ],
   "source": [
    "# 普通函数返回可迭代对象\n",
    "def fib_fun(n):\n",
    "    res = []\n",
    "    prev, curr = 0, 1 \n",
    "    while n > 0: \n",
    "        n -= 1 \n",
    "        res.append(curr)\n",
    "        prev, curr = curr, curr + prev\n",
    "    return res\n",
    "\n",
    "print([i for i in fib_fun(10)]) "
   ]
  },
  {
   "cell_type": "code",
   "execution_count": 17,
   "metadata": {
    "cell_style": "split",
    "hidden": true
   },
   "outputs": [
    {
     "name": "stdout",
     "output_type": "stream",
     "text": [
      "[1, 1, 2, 3, 5, 8, 13, 21, 34, 55]\n"
     ]
    }
   ],
   "source": [
    "# 生成器函数\n",
    "def fib(n): \n",
    "    prev, curr = 0, 1 \n",
    "    while n > 0: \n",
    "        n -= 1 \n",
    "        yield curr \n",
    "        prev, curr = curr, curr + prev \n",
    "        \n",
    "print([i for i in fib(10)]) \n",
    "\n"
   ]
  },
  {
   "cell_type": "markdown",
   "metadata": {
    "hidden": true
   },
   "source": [
    "### 生成器表达式\n",
    "列表推导：一次构建一个结果列表，使用 []\n",
    "\n",
    "生成器：返回**按需产生结果**的一个对象，使用 ()"
   ]
  },
  {
   "cell_type": "code",
   "execution_count": 25,
   "metadata": {
    "hidden": true,
    "scrolled": true
   },
   "outputs": [
    {
     "name": "stdout",
     "output_type": "stream",
     "text": [
      "<generator object <genexpr> at 0x1147ca390> [0, 2, 4, 6, 8, 10, 12, 14, 16, 18]\n",
      "0\n",
      "2\n",
      "[4, 6, 8, 10, 12, 14, 16, 18]\n"
     ]
    }
   ],
   "source": [
    "g = (x*2 for x in range(10))    # 生成器\n",
    "l = [x*2 for x in range(10)]    # 列表\n",
    "\n",
    "print(g, l)\n",
    "\n",
    "print(next(g))\n",
    "print(next(g))\n",
    "print([i for i in g])"
   ]
  }
 ],
 "metadata": {
  "hide_input": false,
  "kernelspec": {
   "display_name": "Python 3",
   "language": "python",
   "name": "python3"
  },
  "language_info": {
   "codemirror_mode": {
    "name": "ipython",
    "version": 3
   },
   "file_extension": ".py",
   "mimetype": "text/x-python",
   "name": "python",
   "nbconvert_exporter": "python",
   "pygments_lexer": "ipython3",
   "version": "3.7.3"
  },
  "latex_envs": {
   "LaTeX_envs_menu_present": true,
   "autoclose": true,
   "autocomplete": true,
   "bibliofile": "biblio.bib",
   "cite_by": "apalike",
   "current_citInitial": 1,
   "eqLabelWithNumbers": true,
   "eqNumInitial": 1,
   "hotkeys": {
    "equation": "Ctrl-E",
    "itemize": "Ctrl-I"
   },
   "labels_anchors": false,
   "latex_user_defs": false,
   "report_style_numbering": false,
   "user_envs_cfg": false
  },
  "nbTranslate": {
   "displayLangs": [
    "*"
   ],
   "hotkey": "alt-t",
   "langInMainMenu": true,
   "sourceLang": "en",
   "targetLang": "fr",
   "useGoogleTranslate": true
  },
  "toc": {
   "base_numbering": 1,
   "nav_menu": {},
   "number_sections": true,
   "sideBar": true,
   "skip_h1_title": false,
   "title_cell": "Table of Contents",
   "title_sidebar": "Contents",
   "toc_cell": true,
   "toc_position": {},
   "toc_section_display": true,
   "toc_window_display": false
  },
  "varInspector": {
   "cols": {
    "lenName": 16,
    "lenType": 16,
    "lenVar": 40
   },
   "kernels_config": {
    "python": {
     "delete_cmd_postfix": "",
     "delete_cmd_prefix": "del ",
     "library": "var_list.py",
     "varRefreshCmd": "print(var_dic_list())"
    },
    "r": {
     "delete_cmd_postfix": ") ",
     "delete_cmd_prefix": "rm(",
     "library": "var_list.r",
     "varRefreshCmd": "cat(var_dic_list()) "
    }
   },
   "types_to_exclude": [
    "module",
    "function",
    "builtin_function_or_method",
    "instance",
    "_Feature"
   ],
   "window_display": false
  }
 },
 "nbformat": 4,
 "nbformat_minor": 2
}
