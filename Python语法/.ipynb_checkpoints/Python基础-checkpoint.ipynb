{
 "cells": [
  {
   "cell_type": "markdown",
   "metadata": {
    "toc": true
   },
   "source": [
    "<h1>Table of Contents<span class=\"tocSkip\"></span></h1>\n",
    "<div class=\"toc\"><ul class=\"toc-item\"><li><span><a href=\"#数据类型\" data-toc-modified-id=\"数据类型-1\"><span class=\"toc-item-num\">1&nbsp;&nbsp;</span>数据类型</a></span><ul class=\"toc-item\"><li><span><a href=\"#列表\" data-toc-modified-id=\"列表-1.1\"><span class=\"toc-item-num\">1.1&nbsp;&nbsp;</span>列表</a></span><ul class=\"toc-item\"><li><span><a href=\"#修改\" data-toc-modified-id=\"修改-1.1.1\"><span class=\"toc-item-num\">1.1.1&nbsp;&nbsp;</span>修改</a></span></li></ul></li><li><span><a href=\"#dict\" data-toc-modified-id=\"dict-1.2\"><span class=\"toc-item-num\">1.2&nbsp;&nbsp;</span>dict</a></span><ul class=\"toc-item\"><li><span><a href=\"#创建\" data-toc-modified-id=\"创建-1.2.1\"><span class=\"toc-item-num\">1.2.1&nbsp;&nbsp;</span>创建</a></span></li><li><span><a href=\"#增加\" data-toc-modified-id=\"增加-1.2.2\"><span class=\"toc-item-num\">1.2.2&nbsp;&nbsp;</span>增加</a></span></li><li><span><a href=\"#删除\" data-toc-modified-id=\"删除-1.2.3\"><span class=\"toc-item-num\">1.2.3&nbsp;&nbsp;</span>删除</a></span></li><li><span><a href=\"#查找\" data-toc-modified-id=\"查找-1.2.4\"><span class=\"toc-item-num\">1.2.4&nbsp;&nbsp;</span>查找</a></span></li><li><span><a href=\"#转换\" data-toc-modified-id=\"转换-1.2.5\"><span class=\"toc-item-num\">1.2.5&nbsp;&nbsp;</span>转换</a></span></li></ul></li><li><span><a href=\"#tuple\" data-toc-modified-id=\"tuple-1.3\"><span class=\"toc-item-num\">1.3&nbsp;&nbsp;</span>tuple</a></span></li><li><span><a href=\"#set\" data-toc-modified-id=\"set-1.4\"><span class=\"toc-item-num\">1.4&nbsp;&nbsp;</span>set</a></span></li></ul></li><li><span><a href=\"#循环\" data-toc-modified-id=\"循环-2\"><span class=\"toc-item-num\">2&nbsp;&nbsp;</span>循环</a></span><ul class=\"toc-item\"><li><span><a href=\"#for-...-in-...\" data-toc-modified-id=\"for-...-in-...-2.1\"><span class=\"toc-item-num\">2.1&nbsp;&nbsp;</span>for ... in ...</a></span></li></ul></li><li><span><a href=\"#排序\" data-toc-modified-id=\"排序-3\"><span class=\"toc-item-num\">3&nbsp;&nbsp;</span>排序</a></span></li><li><span><a href=\"#布尔判断\" data-toc-modified-id=\"布尔判断-4\"><span class=\"toc-item-num\">4&nbsp;&nbsp;</span>布尔判断</a></span><ul class=\"toc-item\"><li><span><a href=\"#True、False\" data-toc-modified-id=\"True、False-4.1\"><span class=\"toc-item-num\">4.1&nbsp;&nbsp;</span>True、False</a></span></li><li><span><a href=\"#and-or\" data-toc-modified-id=\"and-or-4.2\"><span class=\"toc-item-num\">4.2&nbsp;&nbsp;</span>and or</a></span></li></ul></li><li><span><a href=\"#lambda-匿名函数\" data-toc-modified-id=\"lambda-匿名函数-5\"><span class=\"toc-item-num\">5&nbsp;&nbsp;</span>lambda 匿名函数</a></span></li></ul></div>"
   ]
  },
  {
   "cell_type": "markdown",
   "metadata": {},
   "source": [
    "# 数据类型\n"
   ]
  },
  {
   "cell_type": "markdown",
   "metadata": {},
   "source": [
    "|  \\    |  形式                 |  有序  | 可重复| 可修改  |\n",
    "| :----:| :---                 | :----: |:----:| :----:|\n",
    "| list  | [ a, 'ss', (a, b) ]  |✔️|✔️|✔️\n",
    "| dict  | {'a':111, li:'shen'} |❌|❌|✔️\n",
    "| tuple | (12, 'li')           |、|、|❌\n",
    "| set   | (1, 'ss')            |、|、|"
   ]
  },
  {
   "cell_type": "markdown",
   "metadata": {},
   "source": [
    "## 列表\n",
    "元素可以重复，有序\n"
   ]
  },
  {
   "cell_type": "markdown",
   "metadata": {},
   "source": [
    "### 修改\n",
    "考虑创建一个新的替代"
   ]
  },
  {
   "cell_type": "code",
   "execution_count": 39,
   "metadata": {},
   "outputs": [
    {
     "name": "stdout",
     "output_type": "stream",
     "text": [
      "[56.2, 51.7, 55.3, 52.5, 47.8]\n"
     ]
    }
   ],
   "source": [
    "# 想在循环时修改列表内容，改为创建一个新列表比较简单且安全\n",
    "\n",
    "import math\n",
    "raw_data = [56.2, float('NaN'), 51.7, 55.3, 52.5, float('NaN'), 47.8]\n",
    "filtered_data = []\n",
    "\n",
    "for value in raw_data:\n",
    "    if not math.isnan(value):\n",
    "        filtered_data.append(value)\n",
    "        \n",
    "print(filtered_data)"
   ]
  },
  {
   "cell_type": "markdown",
   "metadata": {},
   "source": [
    "## dict\n",
    "key不重复，无序，可修改\n"
   ]
  },
  {
   "cell_type": "markdown",
   "metadata": {},
   "source": [
    "### 创建\n",
    "\n",
    "键必须不可变，是唯一的 (后覆盖前) ，所以可以用数字、字符串、元组，不能用列表"
   ]
  },
  {
   "cell_type": "code",
   "execution_count": 8,
   "metadata": {},
   "outputs": [
    {
     "name": "stdout",
     "output_type": "stream",
     "text": [
      "简单创建 =  {'sape': 4139, 'guido': 4127, 'jack': 4098}\n",
      "循环创建 =  {2: 4, 4: 16, 6: 36}\n",
      "dict.fromkeys() =  {'Google': 10, 'Runoob': 10, 'Taobao': 10}\n"
     ]
    }
   ],
   "source": [
    "c = dict(sape=4139, guido=4127, jack=4098)   # 简单创建，直接传入 dict(key=val, ...)\n",
    "print('简单创建 = ', c)\n",
    "\n",
    "a = {x: x**2 for x in (2, 4, 6)}             # 循环创建\n",
    "print('循环创建 = ',a)\n",
    "\n",
    "seq = ('Google', 'Runoob', 'Taobao')\n",
    "b = dict.fromkeys(seq, 10)                  # 创建一组新key, 可以自定义初始值\n",
    "print ('dict.fromkeys() = ', b)"
   ]
  },
  {
   "cell_type": "code",
   "execution_count": 2,
   "metadata": {},
   "outputs": [
    {
     "name": "stdout",
     "output_type": "stream",
     "text": [
      "TypeError: unhashable type: \"list\"\n"
     ]
    }
   ],
   "source": [
    "# 键必须不可变，所以可以用数字、字符串、元组，不能用列表\n",
    "\n",
    "try:\n",
    "    a = {['Name']: 'Zara', 'Age': 7} \n",
    "    print(\"dict['Name']: \", dict['Name'])\n",
    "except:\n",
    "    print('TypeError: unhashable type: \"list\"')"
   ]
  },
  {
   "cell_type": "markdown",
   "metadata": {},
   "source": [
    "### 增加\n",
    "`dict.update(dict2)`：将dict2加入dict中"
   ]
  },
  {
   "cell_type": "code",
   "execution_count": 51,
   "metadata": {},
   "outputs": [
    {
     "name": "stdout",
     "output_type": "stream",
     "text": [
      "更新字典:  {'Name': 'Runoob', 'Age': 7, 'Sex': 'female'}\n"
     ]
    }
   ],
   "source": [
    "dict1 = {'Name': 'Runoob', 'Age': 7}\n",
    "dict2 = {'Sex': 'female' }\n",
    " \n",
    "dict1.update(dict2)                     # 增加一个字典型\n",
    "print (\"更新字典: \", dict1)"
   ]
  },
  {
   "cell_type": "markdown",
   "metadata": {},
   "source": [
    "### 删除\n",
    "`del dict[key]`：删除key，不存在会报错\n",
    "\n",
    "`val = dict.pop(key)`：删除并返回删除的值，不存在时会报错，但可以设置默认值\n",
    "\n",
    "`item = dict.popitem()`：删除最后一对值并返回，不存在会报错\n",
    "\n",
    "`dict.clean()`：清空\n",
    "\n",
    "`del dict`：销毁\n"
   ]
  },
  {
   "cell_type": "code",
   "execution_count": 74,
   "metadata": {},
   "outputs": [
    {
     "name": "stdout",
     "output_type": "stream",
     "text": [
      "{'jack': 4098, 'old': 37, 'num': 1888}\n",
      "KeyError: \"name\"\n",
      "\n",
      "\n",
      "pop:  37\n",
      "KeyError: \"name\"\n",
      "【pop default】:  jack \n",
      "\n",
      "【_popitem()】:  ('num', 1888) \n",
      "\n",
      "清空后： {} \n",
      "\n",
      "ERROE: name \"tel\" is not defined\n"
     ]
    }
   ],
   "source": [
    "tel = {'jack': 4098, 'sape': 4139, 'old':37, 'num':1888}\n",
    "\n",
    "del tel['sape']                       # 删除某个key\n",
    "print(tel)\n",
    "\n",
    "try:\n",
    "    tel['name']                       # 不存在会报错\n",
    "except:\n",
    "    print('KeyError: \"name\"')\n",
    "print('\\n')\n",
    "\n",
    "\n",
    "\n",
    "_pop = tel.pop('old')                 # 删除并返回删除的value\n",
    "print('pop: ', _pop)\n",
    "try:\n",
    "    _pop = tel.pop('name')\n",
    "except:\n",
    "    print('KeyError: \"name\"')\n",
    "_pop = tel.pop('name', 'jack')        # 不存在会报错，但可以设置默认值\n",
    "print('【pop default】: ', _pop, '\\n')\n",
    "\n",
    "\n",
    "_popitem = tel.popitem()              # 删除最后一对值并返回，不存在会报错\n",
    "print('【_popitem()】: ', _popitem, '\\n')\n",
    "\n",
    "\n",
    "\n",
    "tel.clear()                           # 清空\n",
    "print('清空后：', tel, '\\n')\n",
    "\n",
    "\n",
    "del tel                               # 销毁\n",
    "try:                         \n",
    "    print(tel)\n",
    "except:\n",
    "    print('ERROE: name \"tel\" is not defined')"
   ]
  },
  {
   "cell_type": "markdown",
   "metadata": {},
   "source": [
    "### 查找\n",
    "1. 找value\n",
    "\n",
    "    `value = dict.get(key, default=None)`：查找不到则返回default值\n",
    "\n",
    "    `value = dict[key]`：查找不到报错\n",
    "    \n",
    "    \n",
    "2. 找key\n",
    "\n",
    "    `iterable = dict.keys()`\n",
    "3. 同时查找\n",
    "\n",
    "    `key, val = dict.items()`"
   ]
  },
  {
   "cell_type": "code",
   "execution_count": 4,
   "metadata": {},
   "outputs": [
    {
     "name": "stdout",
     "output_type": "stream",
     "text": [
      "4098\n",
      "None\n",
      "4098\n",
      "ERROE: KeyError: \"lisa\"\n"
     ]
    }
   ],
   "source": [
    "tel = {'jack': 4098, 'sape': 4139}\n",
    "\n",
    "print(tel.get('jack'))\n",
    "print(tel.get('lisa'))                      # dict.get(key, default=None)：查找不到则返回default值\n",
    "\n",
    "\n",
    "print(tel['jack'])\n",
    "try:\n",
    "    print(tel['lisa'])\n",
    "except:\n",
    "    print('ERROE: KeyError: \"lisa\"')        # dict[key]：查找不到报错\n",
    "    "
   ]
  },
  {
   "cell_type": "code",
   "execution_count": 41,
   "metadata": {},
   "outputs": [
    {
     "name": "stdout",
     "output_type": "stream",
     "text": [
      "dict_keys(['jack', 'sape'])\n"
     ]
    }
   ],
   "source": [
    "tel = {'jack': 4098, 'sape': 4139}\n",
    "_keys = tel.keys()\n",
    "\n",
    "print(_keys)"
   ]
  },
  {
   "cell_type": "code",
   "execution_count": 12,
   "metadata": {},
   "outputs": [
    {
     "name": "stdout",
     "output_type": "stream",
     "text": [
      "jack  =  4098\n",
      "sape  =  4139\n"
     ]
    }
   ],
   "source": [
    "tel = {'jack': 4098, 'sape': 4139}\n",
    "for key,val in tel.items():\n",
    "    print(key, ' = ', val)"
   ]
  },
  {
   "cell_type": "markdown",
   "metadata": {},
   "source": [
    "### 转换"
   ]
  },
  {
   "cell_type": "code",
   "execution_count": 5,
   "metadata": {},
   "outputs": [
    {
     "name": "stdout",
     "output_type": "stream",
     "text": [
      "dict - list:  ['jack', 'sape']\n"
     ]
    }
   ],
   "source": [
    "tel = {'jack': 4098, 'sape': 4139}\n",
    "\n",
    "print('dict - list: ', list(tel))"
   ]
  },
  {
   "cell_type": "markdown",
   "metadata": {},
   "source": [
    "## tuple\n",
    "不可修改"
   ]
  },
  {
   "cell_type": "markdown",
   "metadata": {},
   "source": [
    "## set\n",
    "元素不重复，无序"
   ]
  },
  {
   "cell_type": "markdown",
   "metadata": {},
   "source": [
    "# 循环\n"
   ]
  },
  {
   "cell_type": "markdown",
   "metadata": {},
   "source": [
    "## for ... in ..."
   ]
  },
  {
   "cell_type": "markdown",
   "metadata": {},
   "source": [
    "- 列表生成式\n",
    "    1. range()返回列表\n",
    "    2. ... for ... in ...循环生成\n",
    "            "
   ]
  },
  {
   "cell_type": "code",
   "execution_count": 28,
   "metadata": {},
   "outputs": [
    {
     "name": "stdout",
     "output_type": "stream",
     "text": [
      "循环数字： [2, 12, 30, 56, 90] \n",
      "\n",
      "循环字符串： ['H', 'E', 'L', 'L', 'O', ' ', 'W', 'O', 'R', 'L', 'D'] \n",
      "\n",
      "if判断： [4, 16, 36, 64, 100] \n",
      "\n",
      "长度限制： [21, 21, 26, 24, 29, 29, 35, 33, 24, 32] \n",
      "\n"
     ]
    }
   ],
   "source": [
    "print('循环数字：', [x*(x+1) for x in range(1,10,2)],'\\n')\n",
    "\n",
    "str = 'hello world'\n",
    "print('循环字符串：', [x.upper() for x in str],'\\n')                             # 字符串\n",
    "\n",
    "print('if判断：', [x * x for x in range(1, 11) if x % 2 == 0],'\\n')             # 添加if判断\n",
    "\n",
    "import random\n",
    "print('长度限制：', [random.randint(20, 35) for i in range(10)],'\\n')           # 只作为列表长度限制\n"
   ]
  },
  {
   "cell_type": "code",
   "execution_count": 29,
   "metadata": {},
   "outputs": [
    {
     "name": "stdout",
     "output_type": "stream",
     "text": [
      "0 tic\n",
      "1 tac\n",
      "2 toe\n",
      "\n",
      "\n",
      "What is your name?  It is lancelot.\n",
      "What is your quest?  It is the holy grail.\n",
      "What is your favorite color?  It is blue.\n",
      "\n",
      "\n",
      "gal the pure\n",
      "rob the brave\n",
      "\n",
      "\n"
     ]
    }
   ],
   "source": [
    "# 同时输出多个数\n",
    "\n",
    "for i, v in enumerate(['tic', 'tac', 'toe']):                             # enumerate输出迭代对象的位置+值\n",
    "    print(i, v)\n",
    "print('\\n')\n",
    "\n",
    "\n",
    "questions = ['name', 'quest', 'favorite color']\n",
    "answers = ['lancelot', 'the holy grail', 'blue']\n",
    "for q, a in zip(questions, answers):                                     # zip打包两个迭代器\n",
    "    print('What is your {0}?  It is {1}.'.format(q, a))\n",
    "print('\\n')\n",
    "    \n",
    "       \n",
    "for k, v in {'gal': 'the pure', 'rob': 'the brave'}.items():             # dict对象dict.items()\n",
    "    print(k, v)\n",
    "print('\\n')"
   ]
  },
  {
   "cell_type": "markdown",
   "metadata": {},
   "source": [
    "# 排序\n",
    "`sorted()`：内部排序\n",
    "\n",
    "`reversed()`：外部逆序"
   ]
  },
  {
   "cell_type": "code",
   "execution_count": 36,
   "metadata": {},
   "outputs": [
    {
     "name": "stdout",
     "output_type": "stream",
     "text": [
      "apple\n",
      "apple\n",
      "banana\n",
      "orange\n",
      "orange\n",
      "pear\n",
      "\n",
      "\n",
      "banana\n",
      "orange\n",
      "pear\n",
      "apple\n",
      "orange\n",
      "apple\n",
      "\n",
      "\n",
      "pear\n",
      "orange\n",
      "orange\n",
      "banana\n",
      "apple\n",
      "apple\n"
     ]
    }
   ],
   "source": [
    "# 改变排序\n",
    "\n",
    "basket = ['apple', 'orange', 'apple', 'pear', 'orange', 'banana']\n",
    "\n",
    "\n",
    "for f in sorted(basket):               # 正序，内部重排\n",
    "    print(f)\n",
    "print('\\n')\n",
    "\n",
    "for f in reversed(basket):             # 逆序，只是单纯从后往前，而不进行内部重a排\n",
    "    print(f)\n",
    "print('\\n')\n",
    "    \n",
    "for f in reversed(sorted(basket)):     # 先正后逆，先内部重排，再整体倒序\n",
    "    print(f)"
   ]
  },
  {
   "cell_type": "markdown",
   "metadata": {},
   "source": [
    "# 布尔判断"
   ]
  },
  {
   "cell_type": "markdown",
   "metadata": {},
   "source": [
    "## True、False\n",
    "- Flase value:\n",
    "\n",
    "    -  None 、Flase\n",
    "    - 任何类型的0 ( 0, 0L, 0.0, 0j )\n",
    "    - 任何空序列 ( ''， ()， []，{} )"
   ]
  },
  {
   "cell_type": "markdown",
   "metadata": {},
   "source": [
    "## and or\n",
    "- and、or执行布尔逻辑，并不返回布尔值，而是返回它们实际比较的值之一\n",
    "- **and遇到false停下，or遇到true停下**\n",
    "- 优先级：not > and > or"
   ]
  },
  {
   "cell_type": "markdown",
   "metadata": {},
   "source": [
    "# lambda 匿名函数\n",
    "本质是将一个函数简化，并且不用取名，让代码更加精简\n",
    "\n",
    "使用时仍然需要传入参数(或使用map( )、filter( )等)"
   ]
  },
  {
   "cell_type": "code",
   "execution_count": 2,
   "metadata": {
    "cell_style": "split"
   },
   "outputs": [
    {
     "name": "stdout",
     "output_type": "stream",
     "text": [
      "16\n"
     ]
    }
   ],
   "source": [
    "def f(x):\n",
    "    return x**2\n",
    "print(f(4))"
   ]
  },
  {
   "cell_type": "code",
   "execution_count": 3,
   "metadata": {
    "cell_style": "split"
   },
   "outputs": [
    {
     "name": "stdout",
     "output_type": "stream",
     "text": [
      "16\n"
     ]
    }
   ],
   "source": [
    "g = lambda x : x**2\n",
    "print(g(4))"
   ]
  },
  {
   "cell_type": "markdown",
   "metadata": {},
   "source": [
    "可以使用for ... in ... if ... 代替"
   ]
  },
  {
   "cell_type": "code",
   "execution_count": 6,
   "metadata": {
    "cell_style": "split"
   },
   "outputs": [
    {
     "name": "stdout",
     "output_type": "stream",
     "text": [
      "[14, 46, 28, 54, 44, 58, 26, 34, 64]\n"
     ]
    }
   ],
   "source": [
    "foo = [2, 18, 9, 22, 17, 24, 8, 12, 27]\n",
    "res = map(lambda x: x * 2 + 10, foo)\n",
    "print(list(res))"
   ]
  },
  {
   "cell_type": "code",
   "execution_count": 7,
   "metadata": {
    "cell_style": "split"
   },
   "outputs": [
    {
     "name": "stdout",
     "output_type": "stream",
     "text": [
      "[14, 46, 28, 54, 44, 58, 26, 34, 64]\n"
     ]
    }
   ],
   "source": [
    "foo = [2, 18, 9, 22, 17, 24, 8, 12, 27]\n",
    "res = [i * 2 + 10 for i in foo]\n",
    "print(res)"
   ]
  }
 ],
 "metadata": {
  "hide_input": false,
  "kernelspec": {
   "display_name": "Python 3",
   "language": "python",
   "name": "python3"
  },
  "language_info": {
   "codemirror_mode": {
    "name": "ipython",
    "version": 3
   },
   "file_extension": ".py",
   "mimetype": "text/x-python",
   "name": "python",
   "nbconvert_exporter": "python",
   "pygments_lexer": "ipython3",
   "version": "3.7.3"
  },
  "latex_envs": {
   "LaTeX_envs_menu_present": true,
   "autoclose": true,
   "autocomplete": true,
   "bibliofile": "biblio.bib",
   "cite_by": "apalike",
   "current_citInitial": 1,
   "eqLabelWithNumbers": true,
   "eqNumInitial": 1,
   "hotkeys": {
    "equation": "Ctrl-E",
    "itemize": "Ctrl-I"
   },
   "labels_anchors": false,
   "latex_user_defs": false,
   "report_style_numbering": false,
   "user_envs_cfg": false
  },
  "nbTranslate": {
   "displayLangs": [
    "*"
   ],
   "hotkey": "alt-t",
   "langInMainMenu": true,
   "sourceLang": "en",
   "targetLang": "fr",
   "useGoogleTranslate": true
  },
  "toc": {
   "base_numbering": 1,
   "nav_menu": {},
   "number_sections": true,
   "sideBar": true,
   "skip_h1_title": false,
   "title_cell": "Table of Contents",
   "title_sidebar": "Contents",
   "toc_cell": true,
   "toc_position": {},
   "toc_section_display": true,
   "toc_window_display": false
  },
  "varInspector": {
   "cols": {
    "lenName": 16,
    "lenType": 16,
    "lenVar": 40
   },
   "kernels_config": {
    "python": {
     "delete_cmd_postfix": "",
     "delete_cmd_prefix": "del ",
     "library": "var_list.py",
     "varRefreshCmd": "print(var_dic_list())"
    },
    "r": {
     "delete_cmd_postfix": ") ",
     "delete_cmd_prefix": "rm(",
     "library": "var_list.r",
     "varRefreshCmd": "cat(var_dic_list()) "
    }
   },
   "types_to_exclude": [
    "module",
    "function",
    "builtin_function_or_method",
    "instance",
    "_Feature"
   ],
   "window_display": false
  }
 },
 "nbformat": 4,
 "nbformat_minor": 2
}
