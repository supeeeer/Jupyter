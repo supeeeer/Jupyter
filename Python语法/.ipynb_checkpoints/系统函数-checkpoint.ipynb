{
 "cells": [
  {
   "cell_type": "markdown",
   "metadata": {
    "toc": true
   },
   "source": [
    "<h1>Table of Contents<span class=\"tocSkip\"></span></h1>\n",
    "<div class=\"toc\"><ul class=\"toc-item\"><li><span><a href=\"#map()\" data-toc-modified-id=\"map()-1\"><span class=\"toc-item-num\">1&nbsp;&nbsp;</span>map()</a></span></li><li><span><a href=\"#zip()\" data-toc-modified-id=\"zip()-2\"><span class=\"toc-item-num\">2&nbsp;&nbsp;</span>zip()</a></span></li><li><span><a href=\"#iter()\" data-toc-modified-id=\"iter()-3\"><span class=\"toc-item-num\">3&nbsp;&nbsp;</span>iter()</a></span></li><li><span><a href=\"#isinstance\" data-toc-modified-id=\"isinstance-4\"><span class=\"toc-item-num\">4&nbsp;&nbsp;</span>isinstance</a></span><ul class=\"toc-item\"><li><span><a href=\"#isinstance()-VS--type()\" data-toc-modified-id=\"isinstance()-VS--type()-4.1\"><span class=\"toc-item-num\">4.1&nbsp;&nbsp;</span>isinstance() VS  type()</a></span></li></ul></li></ul></div>"
   ]
  },
  {
   "cell_type": "markdown",
   "metadata": {},
   "source": [
    "# map()\n",
    "`map(function, iterable, ...)`：相当于for循环使用函数\n",
    "\n",
    " = `fun(i) for i in iterable`"
   ]
  },
  {
   "cell_type": "code",
   "execution_count": 93,
   "metadata": {},
   "outputs": [
    {
     "name": "stdout",
     "output_type": "stream",
     "text": [
      "[101, 102, 103]\n",
      "[101, 102, 103]\n"
     ]
    }
   ],
   "source": [
    "num = [1, 2, 3]\n",
    "\n",
    "def add_100(num):\n",
    "    return num+100\n",
    "\n",
    "print(list(map(add_100, num)))\n",
    "print(list(add_100(i) for i in num))"
   ]
  },
  {
   "cell_type": "code",
   "execution_count": 95,
   "metadata": {},
   "outputs": [
    {
     "name": "stdout",
     "output_type": "stream",
     "text": [
      "[20, 40, 60]\n",
      "[20, 40, 60]\n"
     ]
    }
   ],
   "source": [
    "x = [10, 20, 30]\n",
    "y = [10, 20 ,30]\n",
    "\n",
    "def add(x, y):\n",
    "    return x+y\n",
    "\n",
    "print(list(map(add, x, y)))\n",
    "print(list(add(m, n) for m, n in zip(x, y)))"
   ]
  },
  {
   "cell_type": "markdown",
   "metadata": {},
   "source": [
    "# zip()\n",
    "`tuple_iter = zip(*iterables)`：创建一个聚合了每个可迭代对象中的对应位置元素的元组迭代器\n",
    "- 矩阵转置\n",
    "- 取出一组字符串列表，每个元素的相同位\n",
    "- 按指定长度，切分iter对象\n",
    "- 形成dict\n",
    "\n"
   ]
  },
  {
   "cell_type": "code",
   "execution_count": 22,
   "metadata": {},
   "outputs": [
    {
     "name": "stdout",
     "output_type": "stream",
     "text": [
      "<zip object at 0x11e35fe08>\n",
      "[]\n"
     ]
    }
   ],
   "source": [
    "# 0个参数，返回空迭代器\n",
    "print(zip())\n",
    "print(list(zip()))"
   ]
  },
  {
   "cell_type": "code",
   "execution_count": 60,
   "metadata": {},
   "outputs": [
    {
     "name": "stdout",
     "output_type": "stream",
     "text": [
      "<zip object at 0x112573c88>\n",
      "[(1,), (2,), (3,)]\n",
      "[('aaa',), ('b',), (123,)] \n",
      "\n",
      "[([1, 2, 3],), ([4, 5, 6],), ([7, 8, 9],)]\n",
      "[(1, 4, 7), (2, 5, 8), (3, 6, 9)]\n",
      "[('a', 'b', 'c'), ('a', 'b', 'c'), ('a', 'b', 'c')] \n",
      "\n",
      "[(1, 4, 7), (2, 5, 8), (3, 6, 9)]\n",
      "<zip object at 0x112573588>\n",
      "[(1, 2, 3), (4, 5, 6), (7, 8, 9)] \n",
      "\n",
      "[(1, 2), (3, 4)]\n"
     ]
    }
   ],
   "source": [
    "# 1个参数，返回(x,)的元组形式\n",
    "x = [1, 2, 3]\n",
    "y = ['aaa', 'b', 123]\n",
    "\n",
    "print(zip(x))\n",
    "print(list(zip(x)))\n",
    "print(list(zip(y)), '\\n')\n",
    "\n",
    "# 1个矩阵，返回转置，配合*使用\n",
    "z = [[1, 2, 3], [4, 5, 6], [7, 8, 9]]\n",
    "s = ['aaa', 'bbb', 'ccc']\n",
    "print(list(zip(z)))\n",
    "print(list(zip(*z)))                           # 此时的*z是iter对象，因此可以传入\n",
    "print(list(zip(*s)), '\\n')                     # 字符串列表相当于矩阵（内部元素也是可迭代）\n",
    "\n",
    "# 1个打包对象，进行解包，配合*使用\n",
    "x = [1, 2, 3]\n",
    "y = [4, 5, 6]\n",
    "z = [7, 8, 9]\n",
    "xyz = list(zip(x, y, z))\n",
    "print(xyz)\n",
    "print(zip(*xyz))                               # zip后直接返回的始终是迭代对象，需要转换成list\n",
    "print(list(zip(*xyz)), '\\n')\n",
    "\n",
    "# 1个iter对象，将其切分\n",
    "a = [1, 2, 3, 4, 5]\n",
    "print(list(zip(*[iter(a)]*2)))                 # 未被分组的，丢弃"
   ]
  },
  {
   "cell_type": "code",
   "execution_count": 56,
   "metadata": {},
   "outputs": [
    {
     "name": "stdout",
     "output_type": "stream",
     "text": [
      "[(1, 4, 7), (2, 5, 8)]\n",
      "{1: 4, 2: 5}\n"
     ]
    }
   ],
   "source": [
    "# 多个参数，返回较短个元组序列\n",
    "x = [1, 2, 3]\n",
    "y = [4, 5]\n",
    "z = [7, 8, 9, 10]\n",
    "\n",
    "print(list(zip(x, y, z)))\n",
    "print(dict(zip(x, y)))          # tuple转换成dict"
   ]
  },
  {
   "cell_type": "markdown",
   "metadata": {},
   "source": [
    "# iter()"
   ]
  },
  {
   "cell_type": "markdown",
   "metadata": {},
   "source": [
    "`iterator = iter(object[, sentinel])`"
   ]
  },
  {
   "cell_type": "code",
   "execution_count": 87,
   "metadata": {},
   "outputs": [
    {
     "name": "stdout",
     "output_type": "stream",
     "text": [
      "[1, 2, 3, 4, 5]\n"
     ]
    }
   ],
   "source": [
    "x = [1, 2, 3, 4, 5]\n",
    "\n",
    "print(list(iter(x)))"
   ]
  },
  {
   "cell_type": "markdown",
   "metadata": {},
   "source": [
    "<img src='img/iter.jpg' width=400>"
   ]
  },
  {
   "cell_type": "markdown",
   "metadata": {},
   "source": [
    "# isinstance\n",
    "`bool = isinstance(object, classinfo)`\n",
    "- object：实例对象\n",
    "- classinfo：直接或间接类名、基本类型或者由它们组成的元组\n",
    "\n",
    "判断 object 是否属于 classinfo\n",
    "\n",
    "## isinstance() VS  type() \n",
    "- type() 不会认为子类是一种父类类型，不考虑继承关系\n",
    "- isinstance() 会认为子类是一种父类类型，考虑继承关系"
   ]
  },
  {
   "cell_type": "code",
   "execution_count": 3,
   "metadata": {
    "cell_style": "split"
   },
   "outputs": [
    {
     "name": "stdout",
     "output_type": "stream",
     "text": [
      "True\n",
      "False\n",
      "True\n"
     ]
    }
   ],
   "source": [
    "a = 'abc'\n",
    "\n",
    "print(isinstance(a, str))\n",
    "print(isinstance(a, bytes))\n",
    "print(isinstance(a, (str,int,list)))"
   ]
  },
  {
   "cell_type": "code",
   "execution_count": 4,
   "metadata": {
    "cell_style": "split"
   },
   "outputs": [
    {
     "data": {
      "text/plain": [
       "False"
      ]
     },
     "execution_count": 4,
     "metadata": {},
     "output_type": "execute_result"
    }
   ],
   "source": [
    "class A:\n",
    "    pass\n",
    " \n",
    "class B(A):\n",
    "    pass\n",
    " \n",
    "isinstance(A(), A)    # returns True\n",
    "type(A()) == A        # returns True\n",
    "isinstance(B(), A)    # returns True\n",
    "type(B()) == A        # returns False"
   ]
  },
  {
   "cell_type": "code",
   "execution_count": null,
   "metadata": {},
   "outputs": [],
   "source": []
  }
 ],
 "metadata": {
  "hide_input": false,
  "kernelspec": {
   "display_name": "Python 3",
   "language": "python",
   "name": "python3"
  },
  "language_info": {
   "codemirror_mode": {
    "name": "ipython",
    "version": 3
   },
   "file_extension": ".py",
   "mimetype": "text/x-python",
   "name": "python",
   "nbconvert_exporter": "python",
   "pygments_lexer": "ipython3",
   "version": "3.7.3"
  },
  "latex_envs": {
   "LaTeX_envs_menu_present": true,
   "autoclose": true,
   "autocomplete": true,
   "bibliofile": "biblio.bib",
   "cite_by": "apalike",
   "current_citInitial": 1,
   "eqLabelWithNumbers": true,
   "eqNumInitial": 1,
   "hotkeys": {
    "equation": "Ctrl-E",
    "itemize": "Ctrl-I"
   },
   "labels_anchors": false,
   "latex_user_defs": false,
   "report_style_numbering": false,
   "user_envs_cfg": false
  },
  "nbTranslate": {
   "displayLangs": [
    "*"
   ],
   "hotkey": "alt-t",
   "langInMainMenu": true,
   "sourceLang": "en",
   "targetLang": "fr",
   "useGoogleTranslate": true
  },
  "toc": {
   "base_numbering": 1,
   "nav_menu": {},
   "number_sections": true,
   "sideBar": true,
   "skip_h1_title": false,
   "title_cell": "Table of Contents",
   "title_sidebar": "Contents",
   "toc_cell": true,
   "toc_position": {
    "height": "641px",
    "left": "36px",
    "top": "197px",
    "width": "165px"
   },
   "toc_section_display": true,
   "toc_window_display": true
  },
  "varInspector": {
   "cols": {
    "lenName": 16,
    "lenType": 16,
    "lenVar": 40
   },
   "kernels_config": {
    "python": {
     "delete_cmd_postfix": "",
     "delete_cmd_prefix": "del ",
     "library": "var_list.py",
     "varRefreshCmd": "print(var_dic_list())"
    },
    "r": {
     "delete_cmd_postfix": ") ",
     "delete_cmd_prefix": "rm(",
     "library": "var_list.r",
     "varRefreshCmd": "cat(var_dic_list()) "
    }
   },
   "types_to_exclude": [
    "module",
    "function",
    "builtin_function_or_method",
    "instance",
    "_Feature"
   ],
   "window_display": false
  }
 },
 "nbformat": 4,
 "nbformat_minor": 2
}
