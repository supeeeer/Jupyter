{
 "cells": [
  {
   "cell_type": "markdown",
   "metadata": {
    "toc": true
   },
   "source": [
    "<h1>Table of Contents<span class=\"tocSkip\"></span></h1>\n",
    "<div class=\"toc\"><ul class=\"toc-item\"><li><span><a href=\"#string\" data-toc-modified-id=\"string-1\"><span class=\"toc-item-num\">1&nbsp;&nbsp;</span>string</a></span><ul class=\"toc-item\"><li><span><a href=\"#strip()、lstrip()、rstrip()\" data-toc-modified-id=\"strip()、lstrip()、rstrip()-1.1\"><span class=\"toc-item-num\">1.1&nbsp;&nbsp;</span>strip()、lstrip()、rstrip()</a></span></li><li><span><a href=\"#str.replace()\" data-toc-modified-id=\"str.replace()-1.2\"><span class=\"toc-item-num\">1.2&nbsp;&nbsp;</span>str.replace()</a></span></li><li><span><a href=\"#str.split()：删除+切分\" data-toc-modified-id=\"str.split()：删除+切分-1.3\"><span class=\"toc-item-num\">1.3&nbsp;&nbsp;</span>str.split()：删除+切分</a></span></li><li><span><a href=\"#str.join()：前加入后\" data-toc-modified-id=\"str.join()：前加入后-1.4\"><span class=\"toc-item-num\">1.4&nbsp;&nbsp;</span>str.join()：前加入后</a></span></li></ul></li></ul></div>"
   ]
  },
  {
   "cell_type": "markdown",
   "metadata": {},
   "source": [
    "# string"
   ]
  },
  {
   "cell_type": "markdown",
   "metadata": {
    "cell_style": "center"
   },
   "source": [
    "## strip()、lstrip()、rstrip()\n",
    "\n",
    "`newStr = str.strip(chars)`\n",
    "- 删除前、后指定字符，中间的不会删除。返回字符串的副本\n",
    "- 参数为空，默认删除字符串头、尾的空白字符(包括\\n，\\r，\\t)\n",
    "- 传入字符不分前后，遇到都删除"
   ]
  },
  {
   "cell_type": "code",
   "execution_count": 7,
   "metadata": {},
   "outputs": [
    {
     "name": "stdout",
     "output_type": "stream",
     "text": [
      "bbbcc123ccb\n",
      "cc123cc\n",
      "123\n",
      "123\n"
     ]
    }
   ],
   "source": [
    "text = 'abbbcc123ccbaaaa'\n",
    "\n",
    "print(text.strip('a'))\n",
    "print(text.strip('ab'))\n",
    "print(text.strip('bac'))       # 传入的字符不分先后，首尾遇到都删除\n",
    "print(text.strip('cab'))"
   ]
  },
  {
   "cell_type": "markdown",
   "metadata": {},
   "source": [
    "## str.replace()"
   ]
  },
  {
   "cell_type": "markdown",
   "metadata": {},
   "source": [
    "`newStr = str.replace(oldStr, newStr[, count])`\n",
    "- 返回字符串的副本，其中出现的所有子字符串 old 都将被替换为 new。 \n",
    "- 如果给出了可选参数 count，则只替换前 count 次出现。"
   ]
  },
  {
   "cell_type": "code",
   "execution_count": 14,
   "metadata": {},
   "outputs": [
    {
     "name": "stdout",
     "output_type": "stream",
     "text": [
      "backing\n",
      "back ing  \n",
      "aaa  ck ing  \n"
     ]
    }
   ],
   "source": [
    "text = 'ba  ck ing  '\n",
    "\n",
    "print(text.replace(' ', ''))          # 删除所有空格\n",
    "print(text.replace(' ', '', 2))       # 只删除前两个\n",
    "print(text.replace('ba', 'aaa'))"
   ]
  },
  {
   "cell_type": "markdown",
   "metadata": {},
   "source": [
    "## str.split()：删除+切分\n",
    "`list = str.split(sep=None, maxsplit=-1)`\n",
    "- 返回由字符串内单词组成的列表，使用 sep 作为分隔字符串 (默认为空格，可以是字符串） \n",
    "- 如果给出了 maxsplit，则最多进行 maxsplit 次拆分（因此，列表最多会有 maxsplit+1 个元素)\n",
    "- **返回列表中不出现分隔字符串**"
   ]
  },
  {
   "cell_type": "code",
   "execution_count": 29,
   "metadata": {},
   "outputs": [
    {
     "name": "stdout",
     "output_type": "stream",
     "text": [
      "['1', '2', '3']\n",
      "['1', '2', '3']\n",
      "['1', '2 3'] \n",
      "\n",
      "['1', '2', '', '3', ''] \n",
      "\n",
      "['11', '22', '33']\n",
      "['<1><2><3>']\n"
     ]
    }
   ],
   "source": [
    "print('1 2 3'.split())\n",
    "print('   1   2   3   '.split())\n",
    "print('1 2 3'.split(maxsplit=1), '\\n')          # 限制切分次数\n",
    "\n",
    "print('1,2,,3,'.split(','), '\\n')               # 如果给出sep，则连续的分隔符被视为分隔空字符串 \n",
    "\n",
    "print('11<>22<>33'.split('<>'))                 # sep可以是字符串，但需要连在一起\n",
    "print('<1><2><3>'.split('<>'))"
   ]
  },
  {
   "cell_type": "markdown",
   "metadata": {},
   "source": [
    "## str.join()：前加入后\n",
    "`newStr = str.join(iterable)`\n",
    "\n",
    "- 返回一个由 iterable 中的字符串拼接而成的字符串\n",
    "- 调用该方法的字符串将作为元素之间的分隔"
   ]
  },
  {
   "cell_type": "code",
   "execution_count": 42,
   "metadata": {},
   "outputs": [
    {
     "name": "stdout",
     "output_type": "stream",
     "text": [
      "a,b,c\n",
      "abc,abc,bca\n",
      "a,b,c\n"
     ]
    }
   ],
   "source": [
    "print(','.join('abc'))\n",
    "\n",
    "print(','.join(['abc', 'abc', 'bca']))\n",
    "\n",
    "print(','.join({'a':1, 'b':2, 'c':333}))     # 字典只对key处理"
   ]
  },
  {
   "cell_type": "code",
   "execution_count": null,
   "metadata": {},
   "outputs": [],
   "source": []
  }
 ],
 "metadata": {
  "hide_input": false,
  "kernelspec": {
   "display_name": "Python 3",
   "language": "python",
   "name": "python3"
  },
  "language_info": {
   "codemirror_mode": {
    "name": "ipython",
    "version": 3
   },
   "file_extension": ".py",
   "mimetype": "text/x-python",
   "name": "python",
   "nbconvert_exporter": "python",
   "pygments_lexer": "ipython3",
   "version": "3.7.3"
  },
  "latex_envs": {
   "LaTeX_envs_menu_present": true,
   "autoclose": true,
   "autocomplete": true,
   "bibliofile": "biblio.bib",
   "cite_by": "apalike",
   "current_citInitial": 1,
   "eqLabelWithNumbers": true,
   "eqNumInitial": 1,
   "hotkeys": {
    "equation": "Ctrl-E",
    "itemize": "Ctrl-I"
   },
   "labels_anchors": false,
   "latex_user_defs": false,
   "report_style_numbering": false,
   "user_envs_cfg": false
  },
  "nbTranslate": {
   "displayLangs": [
    "*"
   ],
   "hotkey": "alt-t",
   "langInMainMenu": true,
   "sourceLang": "en",
   "targetLang": "fr",
   "useGoogleTranslate": true
  },
  "toc": {
   "base_numbering": 1,
   "nav_menu": {},
   "number_sections": true,
   "sideBar": true,
   "skip_h1_title": false,
   "title_cell": "Table of Contents",
   "title_sidebar": "Contents",
   "toc_cell": true,
   "toc_position": {},
   "toc_section_display": true,
   "toc_window_display": false
  },
  "varInspector": {
   "cols": {
    "lenName": 16,
    "lenType": 16,
    "lenVar": 40
   },
   "kernels_config": {
    "python": {
     "delete_cmd_postfix": "",
     "delete_cmd_prefix": "del ",
     "library": "var_list.py",
     "varRefreshCmd": "print(var_dic_list())"
    },
    "r": {
     "delete_cmd_postfix": ") ",
     "delete_cmd_prefix": "rm(",
     "library": "var_list.r",
     "varRefreshCmd": "cat(var_dic_list()) "
    }
   },
   "types_to_exclude": [
    "module",
    "function",
    "builtin_function_or_method",
    "instance",
    "_Feature"
   ],
   "window_display": false
  }
 },
 "nbformat": 4,
 "nbformat_minor": 2
}
